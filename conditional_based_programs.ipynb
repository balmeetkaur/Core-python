{
 "cells": [
  {
   "cell_type": "code",
   "execution_count": 11,
   "id": "04a47836",
   "metadata": {},
   "outputs": [
    {
     "name": "stdout",
     "output_type": "stream",
     "text": [
      "enter the category of the product :  electronics\n",
      " 1: phone price is 30000 and discount is 10%\n",
      "2: laptop price is 45000 and discount is 5%\n",
      "3: AC price is 35000 and discount is 20%\n",
      "4: Refrigerator price is 40000 and discount is 20% \n",
      " \n",
      "\n",
      "enter the product you want to buy: type coressponding number \n",
      " \n",
      " 3\n",
      "actual cost is  : \n",
      "  35000\n",
      "deducted amount is \n",
      " 7000.0\n",
      "actual price you have to pay for AC is  28000.0\n"
     ]
    }
   ],
   "source": [
    "'''WAP based on following scenario\n",
    "    : Big sales :\n",
    "    \n",
    "    product categories = electronics  , apparels,baby products , personal care \n",
    "    \n",
    "    electronics = phone 10% discount  , laptops 5% , ac and refrig 20% - price \n",
    "    apparels =  gender wise females proffesional 30%  , personal  20%\n",
    "    baby = 40%\n",
    "    personal care , if the actual price above 600 then  50% off\n",
    "'''\n",
    "cat=input(\"enter the category of the product :  \")\n",
    "if(cat==\"electronics\"):\n",
    "    print(\" 1: phone price is 30000 and discount is 10%\")\n",
    "    print(\"2: laptop price is 45000 and discount is 5%\")\n",
    "    print(\"3: AC price is 35000 and discount is 20%\")\n",
    "    print(\"4: Refrigerator price is 40000 and discount is 20% \\n \\n\")\n",
    "    product=input(\"enter the product you want to buy: type coressponding number \\n \\n \")\n",
    "    if(product==\"1\"):\n",
    "        discount=(10/100*30000)\n",
    "        print(\"actual cost is : \\n \", 30000)\n",
    "        print(\"deducted amount is \\n \",discount)\n",
    "        d_p= 30000-discount\n",
    "        print(\"actual price you have to pay for phone is \",d_p)\n",
    "    elif(product==\"2\"):\n",
    "        discount=(5/100*45000)\n",
    "        print(\"actual cost is : \\n \", 45000)\n",
    "        print(\"deducted amount is \\n \",discount)\n",
    "        d_p= 45000-discount\n",
    "        print(\"actual price you have to pay for laptop is \",d_p)\n",
    "    elif(product==\"3\"):\n",
    "        discount=(20/100*35000)\n",
    "        print(\"actual cost is  : \\n \", 35000)\n",
    "        print(\"deducted amount is \\n\",discount)\n",
    "        d_p= 35000-discount\n",
    "        print(\"actual price you have to pay for AC is \",d_p)\n",
    "    elif(product==\"4\"):\n",
    "        discount=(20/100*40000)\n",
    "        print(\"actual cost is : \\n \", 40000)\n",
    "        print(\"deducted amount is \\n \",discount)\n",
    "        d_p= 40000-discount\n",
    "        print(\"actual price you have to pay for phone is \",d_p)\n",
    "    else:\n",
    "          print(\"kindly enter valid choice for electronics items\")\n",
    "elif (cat==\"apparels\"):\n",
    "    female_prof=input(\"if you are female and working : enter yes or not \")\n",
    "    if (female_prof==\"yes\"):\n",
    "        print(\"you get 30% off on all apparels items\")\n",
    "    else:\n",
    "        print(\"you get 20% on all the items\")\n",
    "elif(cat==\"baby\"):\n",
    "    print(\"you get 40% discount on all the baby care items\")\n",
    "elif(cat==\"personal_care\"):\n",
    "    product_price=float(input(\"enter the amount of the baby item product \"))\n",
    "    if(product_price>=600):\n",
    "        print(\"you get 50% off on all the items\")\n",
    "    else:\n",
    "        print(\"you can not avail any discount if your product price is less than 600\")\n",
    "else:\n",
    "    print(\"not a valid category\")\n",
    "    \n",
    "    \n",
    "   \n",
    "\n",
    "\n"
   ]
  },
  {
   "cell_type": "code",
   "execution_count": 3,
   "id": "72b7d5c8",
   "metadata": {},
   "outputs": [
    {
     "name": "stdout",
     "output_type": "stream",
     "text": [
      "welcome to the chilly chikky Restaurant \n",
      " \n",
      " Menu \n",
      " \n",
      "1: PIZZA and the price is 200 \n",
      "\n",
      "2: HOT DOG and  the price is 60\n",
      "\n",
      "3: BURGER and the price is 45\n",
      "\n",
      "Kindly enter your choice 1\n",
      "some toppings you may add as:     capsicum    mushrooms     paneer\n",
      "kindly enter which topings you would like to add \n",
      "paneer\n",
      "paneer pizza price would be  270\n",
      "you wish to add softdrinks yes or not yes\n",
      "cost will be  355\n"
     ]
    }
   ],
   "source": [
    "'''Consider you have your own restaurant : three item choices  is there :\n",
    "1: pizza\n",
    "2:  burger\n",
    "3:  hotdog\n",
    "toppings available for pizza: paneer, mushrooms, and capsicum\n",
    "fillings avialable for burger and hot dog is  single layer cheeze and double layer cheese\n",
    "and side order menu is softdrinks\n",
    "WAP TO CALCULATE THE COST OF ITEM which user ordered BASED ON THE MENU OF RESTAURANT'''\n",
    "\n",
    "\n",
    "print(\"welcome to the chilly chikky Restaurant \\n \")\n",
    "print(\" Menu \\n \")\n",
    "print(\"1: PIZZA and the price is 200 \\n\")\n",
    "print(\"2: HOT DOG and  the price is 60\\n\")\n",
    "print(\"3: BURGER and the price is 45\\n\")\n",
    "price=0\n",
    "choice= int(input(\"Kindly enter your choice \"))\n",
    "if (choice==1):\n",
    "    print(\"some toppings you may add as:     capsicum    mushrooms     paneer\")\n",
    "    toppings=input(\"kindly enter which topings you would like to add \\n\")\n",
    "    if(toppings==\"paneer\"):\n",
    "        price=200+70\n",
    "        print(\"paneer pizza price would be \", price)\n",
    "    if(toppings==\"capsicum\"):\n",
    "        price=200+45\n",
    "        print(\"capsicum pizza price would be \",price)\n",
    "    if(toppings==\"mushrooms\"):\n",
    "        price=200+60\n",
    "        print(\"mushroom pizza price would be \", price)\n",
    "elif(choice==2):\n",
    "    print(\"some fillings  you may add as:     single cheeze   paneer     double layer cheeze\")\n",
    "    fillings=input(\"kindly enter which fillings you would like to add \\n\")\n",
    "    if(fillings== \"single_cheeze_paneer\" ):\n",
    "        price=60+35\n",
    "        print(\" cheezy hot dog price would be \", price)\n",
    "    elif(fillings==\"double_layer_cheeze\"):\n",
    "        price=60+50\n",
    "        print(\" cheezyy hot dog price would be \", price)\n",
    "elif(choice==3):\n",
    "    print(\"some fillings  you may add as:     single cheeze   paneer     double layer cheeze\")\n",
    "    fillings=input(\"kindly enter which fillings you would like to add \\n\")\n",
    "    if(fillings== \"single_cheeze_paneer\" ):\n",
    "        price=45+35\n",
    "        print(\" cheezy burger price would be \", price)\n",
    "    elif(fillings==\"double_layer_cheeze\"):\n",
    "        price=45+50\n",
    "        print(\" cheezyy burger price would be \", price)\n",
    "else:\n",
    "    print(\"enter valid choice\")\n",
    "soft=input(\"you wish to add softdrinks yes or not \")\n",
    "final_p=price+85\n",
    "print(\"cost will be \", final_p)\n",
    "\n"
   ]
  },
  {
   "cell_type": "code",
   "execution_count": 6,
   "id": "b29d8b83",
   "metadata": {},
   "outputs": [
    {
     "name": "stdout",
     "output_type": "stream",
     "text": [
      "share  your work experince in this ABC company since 2016\n",
      "enter your previous work_experince \n",
      " 6\n",
      "enter your current work_experince in this company  \n",
      "5\n",
      "5k bouns would be given to you \n",
      "\n"
     ]
    }
   ],
   "source": [
    "'''CONSIDER A COMPANY : SINCE 2016 (5 YEARS OLD) \n",
    "Need to give bonus to the employee at the end of the year \n",
    "ELIGIBILTY :\n",
    "if person has overall greater than or equal to 10 years of work epereince then 5k\n",
    "if person has overall greater than or equal to 10 years of work epereince then 5k:\n",
    "if a person is having 3 years in current company but overall experince is 8 then 3k\n",
    "if overall experince is 3 years in current company then 3k'''\n",
    "\n",
    "print(\"share  your work experince in this ABC company since 2016\")\n",
    "p_work_experince=float(input(\"enter your previous work_experince \\n \"))\n",
    "c_work_experince=float(input(\"enter your current work_experince in this company  \\n\"))\n",
    "total_w_exper= p_work_experince+c_work_experince\n",
    "if(total_w_exper>=10)or (c_work_experince==5):\n",
    "    print(\"5k bouns would be given to you \\n\")\n",
    "    '''elif(total_w_exper>=10):\n",
    "    if(c_work_experince==5):\n",
    "        print(\"\")\n",
    "    else:\n",
    "        print(\"5k bouns would be given to you \\n\")'''\n",
    "elif(c_work_experince==3 and total_w_exper==8 ):\n",
    "    print(\"3k bouns would be given to you \\n\")\n",
    "elif(c_work_experince==3):\n",
    "    print(\"3k bouns would be given to you \\n\")\n",
    "else:\n",
    "    print(\"not eligible for bonus\")\n",
    "    "
   ]
  },
  {
   "cell_type": "code",
   "execution_count": 7,
   "id": "94c3abcf",
   "metadata": {},
   "outputs": [
    {
     "name": "stdout",
     "output_type": "stream",
     "text": [
      "enter the number45\n",
      "45 number is odd\n",
      "not divisble by 7\n"
     ]
    }
   ],
   "source": [
    "'''WAP to check wether the entered number is odd or even if it is odd\n",
    "then also check it is divisble by 7 if it is divisble by 7 then compute its cube'''\n",
    "\n",
    "num=int(input(\"enter the number\"))\n",
    "if(num%2==0):\n",
    "    print(\"{} number is even\".format(num))\n",
    "else:\n",
    "    print(\"{} number is odd\".format(num))\n",
    "    if(num%7==0):\n",
    "        print(\"{} number is divisble by 7\".format(num))\n",
    "        c_num=num*num*num\n",
    "        print(\"the cube of {} is : {} \".format(num,c_num))\n",
    "    else:\n",
    "        print(\"not divisble by 7\")"
   ]
  },
  {
   "cell_type": "code",
   "execution_count": 8,
   "id": "00111f66",
   "metadata": {},
   "outputs": [
    {
     "name": "stdout",
     "output_type": "stream",
     "text": [
      "enter the value of weight :   89\n",
      "enter the value of height in meters : 2.0\n",
      "the value of BMI is : 22.25\n",
      "over weight\n"
     ]
    }
   ],
   "source": [
    "'''Write a prog to take input from the user regarding the weight and height of\n",
    "a person and calculate the BMI of the person and print it and also display weather the person\n",
    "is under weight, normal, overweight and obese'''\n",
    "\n",
    "weight=input(\"enter the value of weight :   \")\n",
    "height=input(\"enter the value of height in meters : \")\n",
    "weight=float(weight)\n",
    "height=float(height)\n",
    "BMI= weight/(height**2)\n",
    "BMI=round(BMI,2)\n",
    "print(\"the value of BMI is :\", BMI)\n",
    "if (0<=BMI and BMI<=16):\n",
    "    print(\"under weight\")\n",
    "elif (16<BMI and BMI<=20):\n",
    "    print(\"normal\")\n",
    "elif (20<BMI and BMI<=25):\n",
    "    print(\"over weight\")\n",
    "\n",
    "else:\n",
    "    print(\"OBESE\")\n",
    "\n",
    "    "
   ]
  },
  {
   "cell_type": "code",
   "execution_count": 10,
   "id": "2903444c",
   "metadata": {},
   "outputs": [
    {
     "name": "stdout",
     "output_type": "stream",
     "text": [
      "enter the no of criminal cases:  0\n",
      "enter the age :   45\n",
      "whether you worked as CM : type Yes OR No  yes\n",
      "not eligible for PM \n"
     ]
    }
   ],
   "source": [
    "'''WAP: For PM election , whether is person is eligible for PM or not :\n",
    "  eligibilty criteria as :\n",
    "   1: No of criminal cases = 0\n",
    "   2. Age>45\n",
    "   3. past experince as CM'''\n",
    "nc= int(input(\"enter the no of criminal cases:  \"))\n",
    "age=int(input(\"enter the age :   \"))\n",
    "exper= (input(\"whether you worked as CM : type Yes OR No  \"))\n",
    "\n",
    "if (nc==0 and age>45 and exper==\"yes\"):\n",
    "    print(\"you are eligible for PM\")\n",
    "else:\n",
    "    print(\"not eligible for PM \")"
   ]
  },
  {
   "cell_type": "code",
   "execution_count": null,
   "id": "3dfb66be",
   "metadata": {},
   "outputs": [],
   "source": []
  }
 ],
 "metadata": {
  "kernelspec": {
   "display_name": "Python 3 (ipykernel)",
   "language": "python",
   "name": "python3"
  },
  "language_info": {
   "codemirror_mode": {
    "name": "ipython",
    "version": 3
   },
   "file_extension": ".py",
   "mimetype": "text/x-python",
   "name": "python",
   "nbconvert_exporter": "python",
   "pygments_lexer": "ipython3",
   "version": "3.9.7"
  }
 },
 "nbformat": 4,
 "nbformat_minor": 5
}
