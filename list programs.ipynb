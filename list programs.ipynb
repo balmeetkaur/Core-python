{
 "cells": [
  {
   "cell_type": "code",
   "execution_count": 2,
   "id": "728a4358",
   "metadata": {},
   "outputs": [
    {
     "name": "stdout",
     "output_type": "stream",
     "text": [
      "the fashionalbly late guest are : mona\n",
      "the fashionalbly late guest are : gilbert\n",
      "the fashionalbly late guest are : ford\n"
     ]
    }
   ],
   "source": [
    "'''we have a list of party attendees according to their time of reaching venue means  \"adela\" reached to the party\n",
    "early than \"fleda\" and golu came at last and so on \n",
    "a guest is considered \"fashionably late\" if they arrived after at least half of the part's guest .\n",
    "however, they must no be very last guest(that is taking too far). \n",
    "in this mona nd gilbert are the only guest who were fashionably late.\n",
    "\n",
    "guest_list=[\"adela\",\"fleda\",\"owen\", \"may\",\"mona\",\"gilbert\", \"ford\", \"golu\"]\n",
    "\n",
    "'''\n",
    "guest_list=[\"adela\",\"fleda\",\"owen\", \"may\",\"mona\",\"gilbert\", \"ford\", \"golu\"]\n",
    "number_half_party_guest=len(guest_list)/2\n",
    "for i in range(0,len(guest_list)-1):\n",
    "    if i>=number_half_party_guest:\n",
    "        print(\"the fashionalbly late guest are :\", guest_list[i])\n",
    "    "
   ]
  },
  {
   "cell_type": "code",
   "execution_count": 7,
   "id": "40a3f141",
   "metadata": {},
   "outputs": [
    {
     "name": "stdout",
     "output_type": "stream",
     "text": [
      "[(0, 10), (1, 20), (2, 3), (3, 4), (4, 5), (5, 6), (6, 7)]\n",
      "[(1, 20), (3, 4), (5, 6)]\n",
      "original list is :  [10, 20, 3, 4, 5, 6, 7]\n",
      "0th,2nd,4th and 6th index elements have been removed  [20, 4, 6]\n"
     ]
    }
   ],
   "source": [
    "#wap to remove 0th,2nd,4th and 6th index elements from the list\n",
    "l = [10,20,3,4,5,6,7]\n",
    "a = list(enumerate(l))\n",
    "print(a)\n",
    "l1=[]\n",
    "for i in a:\n",
    "    for j in i:\n",
    "        if j==0 or j==2 or j==4 or j==6:\n",
    "            a.remove(i)\n",
    "print(a)\n",
    "for x in a:\n",
    "    l1.append(x[1])\n",
    "print(\"original list is : \",l)\n",
    "print(\"0th,2nd,4th and 6th index elements have been removed \",l1)"
   ]
  },
  {
   "cell_type": "code",
   "execution_count": 12,
   "id": "edb21823",
   "metadata": {},
   "outputs": [
    {
     "name": "stdout",
     "output_type": "stream",
     "text": [
      "enter the size of the list5\n",
      "enter the elements in the listbalmeet nitin madam 1221 sanjot\n",
      "the list is :   ['balmeet', 'nitin', 'madam', '1221', 'sanjot']\n",
      "number of strings where the string length is 2 or more and the first and last character are same is  3\n"
     ]
    }
   ],
   "source": [
    "'''Write a Python program to count the number of strings where the string length is 2 or more and the first\n",
    "and last character are same from a given list of strings. \n",
    "Sample List : ['abc', 'xyz', 'aba', '1221']\n",
    "Expected Result : 2\n",
    "'''\n",
    "n=int(input(\"enter the size of the list\"))\n",
    "l=[]\n",
    "count=0\n",
    "l=input(\"enter the elements in the list\").split()\n",
    "print(\"the list is :  \",l)\n",
    "for k in l:\n",
    "    if len(k)>=2 and (k[0]==k[-1]):\n",
    "        count=count+1\n",
    "print(\"number of strings where the string length is 2 or more and the first and last character are same is \", count)"
   ]
  },
  {
   "cell_type": "code",
   "execution_count": 13,
   "id": "15b6132c",
   "metadata": {},
   "outputs": [
    {
     "name": "stdout",
     "output_type": "stream",
     "text": [
      "enter the size of first list4\n",
      "enter the size of second list5\n",
      "enter the numbers in the first list34 45 67 21\n",
      "enter the numbers in the second list45 21 14 23 78\n",
      "the first list is :   ['34', '45', '67', '21']\n",
      "the second list is :   ['45', '21', '14', '23', '78']\n",
      "['34', '45', '67', '21'] ['45', '21', '14', '23', '78']\n",
      "True\n"
     ]
    }
   ],
   "source": [
    "'''Write a Python function that takes two lists and returns True if they have at least one common member\n",
    "'''\n",
    "def common(l3,l4):\n",
    "    print(l3,l4)\n",
    "    for e in l3:\n",
    "        if e in l4:\n",
    "            return True\n",
    "n=int(input(\"enter the size of first list\"))\n",
    "n=int(input(\"enter the size of second list\"))\n",
    "l1=[]\n",
    "l2=[]\n",
    "l1=input(\"enter the numbers in the first list\").split()\n",
    "l2=input(\"enter the numbers in the second list\").split()\n",
    "print(\"the first list is :  \",l1)\n",
    "print(\"the second list is :  \",l2)\n",
    "print(common(l1,l2))"
   ]
  },
  {
   "cell_type": "code",
   "execution_count": 15,
   "id": "b29dc505",
   "metadata": {},
   "outputs": [
    {
     "name": "stdout",
     "output_type": "stream",
     "text": [
      "['p1', 'q1', 'p2', 'q2', 'p3', 'q3', 'p4', 'q4', 'p5', 'q5']\n"
     ]
    }
   ],
   "source": [
    "''''Write a Python program to create a list by concatenating a given list which range goes from 1 to n. \n",
    "Sample list : ['p', 'q']\n",
    "n =5\n",
    "Sample Output : ['p1', 'q1', 'p2', 'q2', 'p3', 'q3', 'p4', 'q4', 'p5', 'q5']'''\n",
    "\n",
    "l=['p','q']\n",
    "n=5\n",
    "l1=[]\n",
    "l2=[]\n",
    "for i in range(1,6):\n",
    "    for k in l:\n",
    "        i=str(i)\n",
    "        l1.append(k+i)\n",
    "        \n",
    "        \n",
    "l2=l2+l1\n",
    "print(l2)"
   ]
  },
  {
   "cell_type": "code",
   "execution_count": 16,
   "id": "4fe62974",
   "metadata": {},
   "outputs": [
    {
     "name": "stdout",
     "output_type": "stream",
     "text": [
      "[1, 0, 3, 8, 5, 7]\n"
     ]
    }
   ],
   "source": [
    "''' Write a Python program to change the position of every n-th value with the (n+1)th in a list. Go to the editor\n",
    "Sample list: [0,1,2,3,4,5]\n",
    "Expected Output: [1, 0, 3, 2, 5, 4]\n",
    "'''\n",
    "l= [0,1,8,3,7,5]\n",
    "i=0\n",
    "while i<=len(l)-1:\n",
    "    a=l[i]\n",
    "    l[i]=l[i+1]\n",
    "    l[i+1]=a\n",
    "    i=i+2\n",
    "print(l)\n",
    "    "
   ]
  },
  {
   "cell_type": "code",
   "execution_count": 17,
   "id": "cd01cbb0",
   "metadata": {},
   "outputs": [
    {
     "name": "stdout",
     "output_type": "stream",
     "text": [
      "all items of list is equal to given string\n"
     ]
    }
   ],
   "source": [
    "#Write a Python program to check if all items of a given list of strings is equal to a given string.\n",
    "l=['green','green', 'green']\n",
    "s=\"green\"\n",
    "k=0\n",
    "for ch in l:\n",
    "    if ch==s:\n",
    "        k=k+1\n",
    "if k==len(l):\n",
    "    print(\"all items of list is equal to given string\")\n",
    "else:\n",
    "    print(\"not\")"
   ]
  },
  {
   "cell_type": "code",
   "execution_count": 18,
   "id": "f8d4c5a4",
   "metadata": {},
   "outputs": [
    {
     "name": "stdout",
     "output_type": "stream",
     "text": [
      "['emp1', 'emp2', 'emp3', 'emp4']\n"
     ]
    }
   ],
   "source": [
    "'''Write a Python program to insert a given string at the beginning of all items in a list. \n",
    "Sample list : [1,2,3,4], string : emp\n",
    "Expected output : ['emp1', 'emp2', 'emp3', 'emp4']\n",
    "'''\n",
    "l=[1,2,3,4]\n",
    "s=\"emp\"\n",
    "l1=[]\n",
    "for i in l:\n",
    "    i=str(i)\n",
    "    l1.append(s+i)\n",
    "print(l1)\n",
    "    \n",
    "    "
   ]
  },
  {
   "cell_type": "code",
   "execution_count": 19,
   "id": "c4d6ab61",
   "metadata": {},
   "outputs": [
    {
     "name": "stdout",
     "output_type": "stream",
     "text": [
      "[3, 4, 6, 2, 6, 7, 6, 9, 10, 7, 4, 4, 5, 3, 2, 9, 7, 1, 0, 0, 0, 0, 0, 0, 0, 0, 0]\n"
     ]
    }
   ],
   "source": [
    "'''Write a Python program to move all zero digits to end of a given list of numbers. \n",
    "Expected output:\n",
    "Original list:\n",
    "[3, 4, 0, 0, 0, 6, 2, 0, 6, 7, 6, 0, 0, 0, 9, 10, 7, 4, 4, 5, 3, 0, 0, 2, 9, 7, 1]\n",
    "Move all zero digits to end of the said list of numbers:\n",
    "[3, 4, 6, 2, 6, 7, 6, 9, 10, 7, 4, 4, 5, 3, 2, 9, 7, 1, 0, 0, 0, 0, 0, 0, 0, 0, 0]\n",
    "'''\n",
    "l=[3, 4, 0, 0, 0, 6, 2, 0, 6, 7, 6, 0, 0, 0, 9, 10, 7, 4, 4, 5, 3, 0, 0, 2, 9, 7, 1]\n",
    "l1=[]\n",
    "l2=[]\n",
    "for ch in l:\n",
    "    if ch!=0:\n",
    "        l1.append(ch)\n",
    "    else:\n",
    "        l2.append(ch)\n",
    "l1.extend(l2)\n",
    "print(l1)\n",
    "        "
   ]
  },
  {
   "cell_type": "code",
   "execution_count": 20,
   "id": "ad9116fa",
   "metadata": {},
   "outputs": [
    {
     "name": "stdout",
     "output_type": "stream",
     "text": [
      "['a', 'd', 'g', 'j', 'm']\n",
      "['b', 'e', 'h', 'k', 'n']\n",
      "['c', 'f', 'i', 'l']\n"
     ]
    }
   ],
   "source": [
    "'''Write a Python program to split a list every Nth element. \n",
    "Sample list: ['a', 'b', 'c', 'd', 'e', 'f', 'g', 'h', 'i', 'j', 'k', 'l', 'm', 'n']\n",
    "Expected Output: [['a', 'd', 'g', 'j', 'm'], ['b', 'e', 'h', 'k', 'n'], ['c', 'f', 'i', 'l']]\n",
    "\n",
    "'''\n",
    "#TAKING N=3\n",
    "l=['a', 'b', 'c', 'd', 'e', 'f', 'g', 'h', 'i', 'j', 'k', 'l', 'm', 'n']\n",
    "k=0\n",
    "for i in range(0,3):\n",
    "    ch=l[k]\n",
    "    print(l[k:len(l):3])\n",
    "    k=k+1"
   ]
  },
  {
   "cell_type": "code",
   "execution_count": 21,
   "id": "99ecdebc",
   "metadata": {},
   "outputs": [
    {
     "name": "stdout",
     "output_type": "stream",
     "text": [
      "enter the size of the list5\n",
      "enter the numbers in the list : 23\n",
      "enter the numbers in the list : 34\n",
      "enter the numbers in the list : 23\n",
      "enter the numbers in the list : 45\n",
      "enter the numbers in the list : 12\n",
      "the list is :   [23, 34, 23, 45, 12]\n",
      "the list is after removing duplicates is :   [23, 34, 45, 12]\n",
      "the duplicates are :   [23]\n"
     ]
    }
   ],
   "source": [
    "'''Write a Python program to remove duplicates from a list.\n",
    "'''\n",
    "n=int(input(\"enter the size of the list\"))\n",
    "l=[]\n",
    "unique_list=[]\n",
    "duplicates_list=[]\n",
    "for i in range(0,n):\n",
    "    num=int(input(\"enter the numbers in the list : \"))\n",
    "    l.append(num)\n",
    "print(\"the list is :  \",l)\n",
    "for i in l:\n",
    "    if i not in unique_list:\n",
    "        unique_list.append(i)\n",
    "    else:\n",
    "        duplicates_list.append(i) \n",
    "print(\"the list is after removing duplicates is :  \", unique_list)\n",
    "print(\"the duplicates are :  \", duplicates_list)\n",
    "    "
   ]
  },
  {
   "cell_type": "code",
   "execution_count": 22,
   "id": "abdcc536",
   "metadata": {},
   "outputs": [
    {
     "name": "stdout",
     "output_type": "stream",
     "text": [
      "the length of the string is :   3\n",
      "the length of the string is :   3\n",
      "the length of the string is :   3\n",
      "the square of the number is :  1\n",
      "the square of the number is :  4\n",
      "the square of the number is :  9\n",
      "the square of the number is :  16\n",
      "the square of the number is :  25\n"
     ]
    }
   ],
   "source": [
    "'''\n",
    "given : l=[[\"abc\",\"def\",\"ghs\"],[1,2,3,4,5]]\n",
    "wap to return the length of the element in list if the element is string and return square if element is number\n",
    "'''\n",
    "\n",
    "l=[[\"abc\",\"def\",\"ghs\"],[1,2,3,4,5]]\n",
    "for i in l:\n",
    "    for j in i:\n",
    "        if type(j)==str:\n",
    "            print(\"the length of the string is :  \", len(j))\n",
    "        elif type(j)==int:\n",
    "            print(\"the square of the number is : \", j**2)"
   ]
  },
  {
   "cell_type": "code",
   "execution_count": null,
   "id": "ae501b6f",
   "metadata": {},
   "outputs": [],
   "source": []
  }
 ],
 "metadata": {
  "kernelspec": {
   "display_name": "Python 3 (ipykernel)",
   "language": "python",
   "name": "python3"
  },
  "language_info": {
   "codemirror_mode": {
    "name": "ipython",
    "version": 3
   },
   "file_extension": ".py",
   "mimetype": "text/x-python",
   "name": "python",
   "nbconvert_exporter": "python",
   "pygments_lexer": "ipython3",
   "version": "3.9.7"
  }
 },
 "nbformat": 4,
 "nbformat_minor": 5
}
