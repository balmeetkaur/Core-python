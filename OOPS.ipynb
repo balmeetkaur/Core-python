{
 "cells": [
  {
   "cell_type": "code",
   "execution_count": 21,
   "id": "ae59799e",
   "metadata": {},
   "outputs": [
    {
     "name": "stdout",
     "output_type": "stream",
     "text": [
      "<__main__.Car object at 0x000002B886B8FD60>\n",
      "the maxspeed of the car is 120 and the mileage is 13\n",
      "sitting capacity of car is 5\n",
      "120\n"
     ]
    }
   ],
   "source": [
    "'''Construct a class with attributes max speed and mileage also define a method description which prints \\\n",
    "the name max speed and mileage of the cars adn one more method named as sitting capacity and u need  to print the sitting \\\n",
    "capacity of the car'''\n",
    "\n",
    "class Car:\n",
    "    def __init__(self,maxspeed1,mileage1):\n",
    "        self.maxspeed=maxspeed1\n",
    "        self.mileage=mileage1\n",
    "    def car_details(self):\n",
    "        print(f\"the maxspeed of the car is {self.maxspeed} and the mileage is {self.mileage}\")\n",
    "    def sitting_capacity(self):\n",
    "        capacity=5\n",
    "        print(f\"sitting capacity of car is {capacity}\")\n",
    "c=Car(120,13)\n",
    "print(c)\n",
    "c.car_details()\n",
    "c.sitting_capacity()\n",
    "print(c.maxspeed)"
   ]
  },
  {
   "cell_type": "code",
   "execution_count": 22,
   "id": "8f409fb0",
   "metadata": {},
   "outputs": [
    {
     "name": "stdout",
     "output_type": "stream",
     "text": [
      "balmeet\n",
      "kaur\n",
      "balmeet kaur\n",
      "the balmeet kaur is having empid 110023\n"
     ]
    }
   ],
   "source": [
    "#inheritance\n",
    "class Person:\n",
    "    def __init__(self):\n",
    "        self.fname = input(\"\")\n",
    "        self.lname = input(\"\")\n",
    "    def printname(self):\n",
    "        print(self.fname,self.lname)\n",
    "class Employee(Person):\n",
    "    def __init__(self,empid):\n",
    "        self.empid = empid\n",
    "        Person.__init__(self)\n",
    "    def details(self):\n",
    "        print(f\"the {self.fname} {self.lname} is having empid {self.empid}\")\n",
    "emp = Employee(\"110023\")\n",
    "emp.printname()\n",
    "emp.fname\n",
    "emp.lname\n",
    "emp.details()\n"
   ]
  },
  {
   "cell_type": "code",
   "execution_count": 34,
   "id": "476e5659",
   "metadata": {},
   "outputs": [
    {
     "name": "stdout",
     "output_type": "stream",
     "text": [
      "vehicle category : two_wheeler , bus , truck ,car,govt_vehicle\n",
      "enter the category of vehicle :car\n",
      "the road tax is :  2000\n"
     ]
    }
   ],
   "source": [
    "'''WAC transport and def a constructor for the same . then define another RT class which impose the tax on \\ the vehicle according to \\\n",
    "the power of the vehicle.\n",
    "\n",
    "car_tax = 2000\n",
    "bus_tax = 1000\n",
    "two_wheeler = 500\n",
    "govt_vehicle = free\n",
    "class RT:\n",
    "def\n",
    "'''\n",
    "class Transport :\n",
    "    def __init__(self):\n",
    "        self.car=2000\n",
    "        self.bus=1000\n",
    "        self.truck=1500\n",
    "        self.two_wheeler=500\n",
    "        self.govt_vehicle=0\n",
    "class Roadtax(Transport):\n",
    "    def __init__(self):\n",
    "        super().__init__()\n",
    "    def road_tax(self):\n",
    "        print(\"vehicle category : two_wheeler , bus , truck ,car,govt_vehicle\")\n",
    "        vehicle=input(\"enter the category of vehicle :\")\n",
    "        if vehicle==\"bus\":\n",
    "            print(\"the road tax is : \",self.bus)\n",
    "        elif vehicle==\"truck\":\n",
    "            print(\"the road tax is : \",self.truck)\n",
    "        elif vehicle==\"car\":\n",
    "            print(\"the road tax is : \",self.car)\n",
    "        elif vehicle==\"gov_vehicle\":\n",
    "            print(\"the road tax is : \",self.govt_vehicle)\n",
    "        elif vehicle==\"two_wheeler\":\n",
    "            print(\"the road tax is : \",self.two_wheeler)\n",
    "        else:\n",
    "            print(\"this vehicle category is not defined \")\n",
    "r=Roadtax()\n",
    "r.road_tax()\n",
    "\n",
    "        \n",
    "    \n"
   ]
  },
  {
   "cell_type": "code",
   "execution_count": 39,
   "id": "556afeb5",
   "metadata": {},
   "outputs": [
    {
     "name": "stdout",
     "output_type": "stream",
     "text": [
      "enter the shape gbala\n",
      "entered shape is not defined\n"
     ]
    }
   ],
   "source": [
    "'''WAC shape take the input from the user regarding the shape and then make a method called area and \\\n",
    "take the sides input from the user and then compute the arra of the shape\n",
    "'''\n",
    "class Shape:\n",
    "    def __init__(self):\n",
    "        self.shape=\"\"   \n",
    "    def shape_input(self):\n",
    "        self.shape=input(\"enter the shape \")\n",
    "    def area(self):\n",
    "        if self.shape==\"square\":\n",
    "            side=int(input(\"enter the side\"))\n",
    "            print(\"the area is \", side*side)\n",
    "        elif self.shape==\"rectangle\":\n",
    "            l,b=input(\"enter the length and breadth \").split(\",\")\n",
    "            l=int(l)\n",
    "            b=int(b)\n",
    "            print(\"the area of rectangle is \", l*b)\n",
    "        else:\n",
    "            print(\"entered shape is not defined\")\n",
    "s=Shape()\n",
    "s.shape_input()\n",
    "s.area()\n",
    "\n",
    "            \n",
    "    \n",
    "        \n",
    "        "
   ]
  },
  {
   "cell_type": "code",
   "execution_count": 47,
   "id": "4311b046",
   "metadata": {},
   "outputs": [
    {
     "name": "stdout",
     "output_type": "stream",
     "text": [
      "how many books information you want to show : 2\n",
      "details for book 1 \n",
      "enter the title for book python\n",
      "enter the author namefor book nan\n",
      "enter the price for book 780\n",
      "details for book 2 \n",
      "enter the title for book c\n",
      "enter the author namefor book nna\n",
      "enter the price for book 340\n",
      "the book details are as :\n",
      "[('python', 'nan', '780'), ('c', 'nna', '340')]\n"
     ]
    }
   ],
   "source": [
    "'''Define a Book class with the following attributes: Title, Author (Full name), Price. Define a constructor used to initialize the attributes of the method with values entered by the user.                        \n",
    "Set the View() method to display information for the current book.               \n",
    "Write a program to testing the Book class.\n",
    "'''\n",
    "class Book:\n",
    "    def __init__(self,title1,Author_name1,price1):\n",
    "        \n",
    "        self.title=title1\n",
    "        self.Author=Author_name1\n",
    "        self.price=price1\n",
    "    def view(self,l):\n",
    "        print(\"the book details are as :\")\n",
    "        #print(f\"the title is {self.title} \\n author name is {self.Author}\\n the price is {self.price}\")\n",
    "        print(l)\n",
    "n=int(input(\"how many books information you want to show : \"))\n",
    "l=[]\n",
    "for i in range(1,n+1):\n",
    "    tup=()\n",
    "    print(f\"details for book {i} \")\n",
    "    t=input(\"enter the title for book \")\n",
    "    n=input(\"enter the author namefor book \")\n",
    "    p=input(\"enter the price for book \")\n",
    "    tup=(t,n,p)\n",
    "    l.append(tup)\n",
    "    b=Book(t,n,p)\n",
    "b.view(l)\n",
    "    "
   ]
  },
  {
   "cell_type": "code",
   "execution_count": 53,
   "id": "0c829936",
   "metadata": {},
   "outputs": [
    {
     "name": "stdout",
     "output_type": "stream",
     "text": [
      "enter the deposit amount2200\n",
      "the balance is  2200\n",
      "enter the withdrwal amount56\n",
      "the account holder name : balmeet\n",
      "the account number is : 124567890\n",
      "the account balance is   : 2144\n",
      "the fees is :  107.2\n"
     ]
    }
   ],
   "source": [
    "'''Q6.Create a Python class called BankAccount which represents a bank account, having as attributes: accountNumber (numeric type), name (name of the account owner as string type), balance.** <br/>\n",
    "Create a constructor with parameters: accountNumber, name, balance. <br/>\n",
    "Create a Deposit() method which manages the deposit actions. <br/>\n",
    "Create a Withdrawal() method which manages withdrawals actions. <br/>\n",
    "Create a bankFees() method to apply the bank fees with a percentage of 5% of the balance account. <br/>\n",
    "Create a display()**\n",
    "'''\n",
    "class Bankaccount:\n",
    "    def __init__(self,account_name1,account_num1):\n",
    "        self.account_num=account_num1\n",
    "        self.account_name=account_name1\n",
    "        self.balance=0\n",
    "    def deposit(self):\n",
    "        amount=int(input(\"enter the deposit amount\"))\n",
    "        self.balance=self.balance+amount\n",
    "        print(\"the balance is \",self.balance)\n",
    "    def withdrawl(self):\n",
    "        w=int(input(\"enter the withdrwal amount\"))\n",
    "        if self.balance==0:\n",
    "            print(\"the withdrawl can not be done \")\n",
    "        else:\n",
    "            self.balance=self.balance-w\n",
    "            #print(\"the balance is \",self.balance)\n",
    "    def bankfees(self):\n",
    "        fees=(5*self.balance)/100\n",
    "        print(\"the fees is : \",fees)\n",
    "    def display(self):\n",
    "        print(\"the account holder name :\",self.account_name)\n",
    "        print(\"the account number is :\",self.account_num)\n",
    "        print(\"the account balance is   :\",self.balance)\n",
    "b=Bankaccount(\"balmeet\",124567890)\n",
    "b.deposit()\n",
    "b.withdrawl()\n",
    "b.display()\n",
    "b.bankfees()\n"
   ]
  },
  {
   "cell_type": "markdown",
   "id": "ffeaac51",
   "metadata": {},
   "source": [
    "### use of super "
   ]
  },
  {
   "cell_type": "code",
   "execution_count": 64,
   "id": "4266c662",
   "metadata": {},
   "outputs": [
    {
     "name": "stdout",
     "output_type": "stream",
     "text": [
      "Bird is ready\n",
      "Penguin is ready\n",
      "Bird\n",
      "Penguin\n",
      "Swim faster\n",
      "Run faster\n"
     ]
    }
   ],
   "source": [
    "## cal parent function which has name in child class by using super()\n",
    "class Bird:\n",
    "    \n",
    "    def __init__(self):\n",
    "        print(\"Bird is ready\")\n",
    "\n",
    "    def whoisThis(self):\n",
    "        print(\"Bird\")\n",
    "\n",
    "    def swim(self):\n",
    "        print(\"Swim faster\")\n",
    "\n",
    "# child class\n",
    "class Penguin(Bird):\n",
    "\n",
    "    def __init__(self):\n",
    "        # call super() function\n",
    "        super().__init__()\n",
    "        print(\"Penguin is ready\")\n",
    "\n",
    "    def whoisThis(self):\n",
    "        super().whoisThis()\n",
    "        print(\"Penguin\")\n",
    "\n",
    "    def run(self):\n",
    "        print(\"Run faster\")\n",
    "\n",
    "peggy = Penguin()\n",
    "peggy.whoisThis()\n",
    "peggy.swim()\n",
    "peggy.run()"
   ]
  },
  {
   "cell_type": "code",
   "execution_count": null,
   "id": "a5469969",
   "metadata": {},
   "outputs": [],
   "source": []
  }
 ],
 "metadata": {
  "kernelspec": {
   "display_name": "Python 3 (ipykernel)",
   "language": "python",
   "name": "python3"
  },
  "language_info": {
   "codemirror_mode": {
    "name": "ipython",
    "version": 3
   },
   "file_extension": ".py",
   "mimetype": "text/x-python",
   "name": "python",
   "nbconvert_exporter": "python",
   "pygments_lexer": "ipython3",
   "version": "3.9.7"
  }
 },
 "nbformat": 4,
 "nbformat_minor": 5
}
