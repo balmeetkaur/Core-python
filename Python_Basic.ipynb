{
 "cells": [
  {
   "cell_type": "markdown",
   "id": "b33c3335",
   "metadata": {},
   "source": [
    "### Introduction to python\n",
    "\n",
    "   **What is python??**\n",
    "\n",
    "   **Why python ?**"
   ]
  },
  {
   "cell_type": "markdown",
   "id": "7295db7a",
   "metadata": {},
   "source": [
    "#### Python \n",
    "\n",
    "- Python is General purpose,dynamic, high level and interpreted programming language.\n",
    "\n",
    "- It was developed by Guido Van Rossum during 1985-1990\n"
   ]
  },
  {
   "cell_type": "markdown",
   "id": "fc57be6e",
   "metadata": {},
   "source": [
    "#### Why python ??\n",
    "\n",
    "It provides many useful features to the programmer . These features makes it popular and widely used langauge.\n",
    "- Easy to use,learn :  it is developer-friendly.\n",
    "- Expressive: Python is easy to read and understand. The syntax of python is like English statements.\n",
    "- Easy-to-maintain\n",
    "- Open source\n",
    "- Development and debuggingg fast (productive language)\n",
    "- Portable\n",
    "- Multi purpose\n",
    "- Python is more productive\n",
    "- Dynamically typed langauge\n",
    "- Rich set of libraries and framework: Python provides a large set of libraries, modules, and functions that enable the      rapid development of applications.\n",
    "- Interpreted: Python is processed at runtime by the interpreter. No need for compiling the program before executing it.\n",
    "- Extendable: You can add low-level modules to the Python interpreter. These modules enable programmers to add to or customize their tools to be more efficient. \n",
    "- Large Community Support Support from online Python community\n",
    "- Interpreted : Python is processed at runtime by the interpreter. No need for compiling the program before executing it.\n",
    "- Interactive: Python can run in an interactive mode, i.e. program can be written in a command-line shell which gives immediate output for each statement.\n",
    "- Supports OOPS\n",
    " "
   ]
  },
  {
   "cell_type": "markdown",
   "id": "b9ada465",
   "metadata": {},
   "source": [
    "### Python is scripting and interpreted  lanaguage\n",
    "\n",
    "\n",
    "\n",
    "Note : It is case sensitive \n",
    "\n",
    "\n"
   ]
  },
  {
   "cell_type": "markdown",
   "id": "8a789e9c",
   "metadata": {},
   "source": [
    "### Where Python is used  ???`"
   ]
  },
  {
   "cell_type": "markdown",
   "id": "184e0465",
   "metadata": {},
   "source": [
    "Python is a general-purpose language that is widely being used in every domain of software development.\n",
    "\n",
    "#### - Console Based Application\n",
    "Python can be used for developing console-based applications.\n",
    "\n",
    "#### - Web Applications\n",
    "web applications can be developed using Python. It provides libraries to handle protocols like HTML, XML, JSON, requests, etc. It provides various frameworks such as Django, Pyramid, etc., for web application development.\n",
    "\n",
    "#### - Desktop GUI Application\n",
    "Python provides various frameworks like Kivy, PyQt, Tkinter PyGUI, etc., for developing desktop GUI applications.\n",
    "\n",
    "#### - Scientific and Numeric Computing Applications\n",
    "Python provides various libraries and packages like SciPy, Pandas, IPython, etc., for developing numeric and scientific computations using Python.\n",
    "\n",
    "#### - Business Applications\n",
    "Python is used for building business applications like ERP, e-commerce applications, etc.\n",
    "\n",
    "#### - Audio or Video-based Applications\n",
    "Python can be used to develop multimedia applications that include images, audios, videos and can be used to create cartoons, etc. Some of the real-time applications are TimPlayer, cplay, etc.\n",
    "\n",
    "#### - Machine Learning Applications\n",
    "Python does contain special libraries for machine learning, namely scipy and numpy, which are great for linear algebra and getting to know kernel methods of machine learning."
   ]
  },
  {
   "cell_type": "markdown",
   "id": "b4c0ad2b",
   "metadata": {},
   "source": [
    "#### Real-time Examples where Python is used\n",
    "\n",
    "- Google\n",
    "- DropBox\n",
    "- NetFlix\n",
    "- Instagram\n",
    "- Splunk\n",
    "- BuzzFeed\n",
    "- Facebook\n",
    "- Spotify "
   ]
  },
  {
   "cell_type": "markdown",
   "id": "b3522979",
   "metadata": {},
   "source": [
    "#### Python Versions\n",
    "The first version of Python was released as Python 1.0 in 1994. Now the latest version is Python 3.7.0, released on 27th June 2018. From Python 1.0 till 3.7, various new features and enhancements to the existing features are being made.`"
   ]
  },
  {
   "cell_type": "markdown",
   "id": "0040776f",
   "metadata": {},
   "source": [
    "####  Do you want to contribute to Python?\n",
    "\n",
    "\n",
    "Since Python is Open Source, you can contribute to python by submitting any modules or applications, or you can even raise any bugs or even provide the fixes for it. \n",
    "\n",
    "- To contribute, you can submit your works to the official python sites. Some of them are mentioned below.\n",
    "\n",
    "- To report the bug, use the link https://bugs.python.org/\n",
    "\n",
    "- To contribute to the official Python documentation, join the Documentation SIG, write to docs@python.org, or use the Issue Tracker to contribute a documentation patch.\n",
    "\n",
    "- To announce your module or application to the Python community, refer to this guide Posting guideline. Refer to the guide of Python mailing lists for more information.\n",
    "\n",
    "- To contribute to a bug fix or other patch to the Python core, read the Python Developer’s Guide for more information about Python’s development process.\n",
    "\n",
    "- To propose changes to the Python core, refer to this guide CompLangPython to post your thoughts. If you have an implementation, follow thePython Patch Guidelines."
   ]
  },
  {
   "cell_type": "markdown",
   "id": "ce9c88ed",
   "metadata": {},
   "source": [
    "### Anaconda \n",
    "\n",
    "\n",
    "- Anaconda is a distribution of the Python and R programming languages for scientific computing (data science, machine learning applications, large-scale data processing, predictive analytics, etc.), that aims to simplify package management and deployment.\n",
    "\n",
    "- It is a bundle of some popular python packages and a package manager called conda(similar to pip).\n",
    "\n",
    "- Anaconda distribution comes with over 250 packages automatically installed, and over 7,500 additional open-source packages can be installed from PyPI as well as the conda package and virtual environment manager. \n",
    "\n",
    "- It includes \n",
    "\n",
    "    - GUI\n",
    "    \n",
    "    - Anaconda Navigator as a graphical alternative to the command-line interface (CLI)."
   ]
  },
  {
   "cell_type": "markdown",
   "id": "4a3c434b",
   "metadata": {},
   "source": [
    "### Steps  to install Anaconda  ??\n"
   ]
  },
  {
   "cell_type": "markdown",
   "id": "266c303f",
   "metadata": {},
   "source": [
    "### Difference between conda and the pip package manager\n",
    "-  Conda allows you to install non-python library dependencies such as HDF5 ,MKL,LLVM etc. With pip you can install python depdencies\n",
    "- The big difference between conda and the pip package manager is in how package dependencies are managed, which is a significant challenge for Python data science and the reason conda exists.\n",
    "\n",
    "Before version 20.3, when pip installed a package, it automatically installed any dependent Python packages without checking if these conflict with previously installed packages. It would install a package and any of its dependencies regardless of the state of the existing installation.Because of this, a user with a working installation of, for example, TensorFlow, could find that it stopped working having used pip to install a different package that requires a different version of the dependent numpy library than the one used by TensorFlow. In some cases, the package would appear to work but produce different results in detail. While pip has since implemented consistent dependency resolution this difference accounts for a historical differentiation of the conda package manager\n",
    "\n",
    "In contrast, conda analyses the current environment including everything currently installed, and, together with any version limitations specified (e.g. the user may wish to have TensorFlow version 2,0 or higher), works out how to install a compatible set of dependencies, and shows a warning if this cannot be done.\n",
    "\n",
    "Open source packages can be individually installed from the Anaconda repository Anaconda Cloud (anaconda.org), or the user's own private repository or mirror, using the conda install command. Anaconda, Inc. compiles and builds the packages available in the Anaconda repository itself, and provides binaries for Windows 32/64 bit, Linux 64 bit and MacOS 64-bit. Anything available on PyPI may be installed into a conda environment using pip, and conda will keep track of what it has installed itself and what pip has installed.\n",
    "\n",
    "\n",
    "\n"
   ]
  },
  {
   "cell_type": "markdown",
   "id": "919552d2",
   "metadata": {},
   "source": [
    "The default installation of Anaconda2 includes Python 2.7 and Anaconda3 includes Python 3.7. However, it is possible to create new environments that include any version of Python packaged with conda"
   ]
  },
  {
   "cell_type": "markdown",
   "id": "4a6cb458",
   "metadata": {},
   "source": [
    "#### Anaconda Navigator :\n",
    "- Toolkit for data science.\n",
    "\n",
    "\n",
    "- Anaconda Navigator is a desktop graphical user interface (GUI) included in Anaconda distribution that allows users to launch applications and manage conda packages, environments and channels without using command-line commands.\n",
    "\n",
    "- Navigator can search for packages on Anaconda Cloud or in a local Anaconda Repository, install them in an environment, run the packages and update them. It is available for Windows, macOS and Linux.\n",
    "\n",
    "- The following applications are available by default in Navigator\n",
    "\n",
    "     -   JupyterLab\n",
    "\n",
    "     - Jupyter Notebook\n",
    "\n",
    "     - QtConsole\n",
    "\n",
    "     - Spyder\n",
    "\n",
    "     - Glue\n",
    "\n",
    "     - Orange\n",
    "\n",
    "     - RStudio\n",
    "\n",
    "     - Visual Studio Code"
   ]
  },
  {
   "cell_type": "markdown",
   "id": "87657599",
   "metadata": {},
   "source": [
    "#### Jupyter  Notebook\n",
    "\n",
    "- JupyterLab is the latest web-based interactive development environment for notebooks, code, and data.\n",
    "\n",
    "- It is an interactive computational environment, in which you can combine code execution, rich text, mathematics, plots and rich media.\n",
    "\n",
    "- Because of the mix of code and text elements, these documents are the ideal place to bring together an analysis description, and its results, as well as, they can be executed perform the data analysis in real time.\n",
    "\n",
    "- Jupyteris a loose acronym meaning Julia, Python, and R. These programming languages were the first target languages of the Jupyter application, but nowadays, the notebook technology also supports many other languages .\n",
    "\n",
    "- It is brower based application allows you to edit and run your notebooks via a web browser(defulat browser). The application can be executed on a PC without Internet access, or it can be installed on a remote server, where you can access it through the Internet."
   ]
  },
  {
   "cell_type": "markdown",
   "id": "8cb8a7b1",
   "metadata": {},
   "source": [
    "### SHORTCUTS \n",
    "\n",
    "1. Esc +A =( insert the cell above particular)\n",
    "2. Esc + B =( insert the cell below particular)\n",
    "3. Esc + C =( copy the cell )\n",
    "4. Esc + X =( cut the cell )\n",
    "5. Esc + Y =( change the cell to code )\n",
    "6. Esc + M =( change the cell to markdown )\n",
    "\n"
   ]
  },
  {
   "cell_type": "markdown",
   "id": "6545a4a3",
   "metadata": {},
   "source": [
    "### Python Basic Syntax\n",
    "\n",
    "There is no use of curly braces or semicolon in Python programming language. It is English-like language. But Python uses the indentation to define a block of code. Indentation is nothing but adding whitespace before the statement when it is needed. \n",
    "\n",
    "\n",
    "For example -\n",
    "\n",
    "#### def func():  \n",
    "          statement 1  \n",
    "           statement 2  \n",
    "            …………………  \n",
    "            …………………  \n",
    "            statement N  "
   ]
  },
  {
   "cell_type": "markdown",
   "id": "1d1e852f",
   "metadata": {},
   "source": [
    "#### Comments"
   ]
  },
  {
   "cell_type": "markdown",
   "id": "260319a6",
   "metadata": {},
   "source": [
    "- Comments can be used to explain Python code.\n",
    "\n",
    "- Comments can be used to make the code more readable.\n",
    "\n",
    "- Comments can be used to prevent execution when testing code."
   ]
  },
  {
   "cell_type": "markdown",
   "id": "84f054e4",
   "metadata": {},
   "source": [
    "### How to Create a Comment ?"
   ]
  },
  {
   "cell_type": "markdown",
   "id": "73e3b45a",
   "metadata": {},
   "source": [
    "#### SINGLE LINE comment :  starts with  #, and Python will ignore it. \n",
    "\n"
   ]
  },
  {
   "cell_type": "code",
   "execution_count": 25,
   "id": "51b4516c",
   "metadata": {},
   "outputs": [
    {
     "name": "stdout",
     "output_type": "stream",
     "text": [
      "Hello, World!\n",
      "Hello, World!\n"
     ]
    }
   ],
   "source": [
    "\n",
    "#This is a comment\n",
    "print(\"Hello, World!\")\n",
    "print(\"Hello, World!\") #This is a comment"
   ]
  },
  {
   "cell_type": "markdown",
   "id": "825b1fce",
   "metadata": {},
   "source": [
    "#### MULTI LINE comment :  "
   ]
  },
  {
   "cell_type": "code",
   "execution_count": 26,
   "id": "af319044",
   "metadata": {},
   "outputs": [
    {
     "name": "stdout",
     "output_type": "stream",
     "text": [
      "Hello, World!\n"
     ]
    }
   ],
   "source": [
    "#This is a comment\n",
    "#written in\n",
    "#more than just one line\n",
    "print(\"Hello, World!\")"
   ]
  },
  {
   "cell_type": "code",
   "execution_count": 27,
   "id": "ff712e4f",
   "metadata": {},
   "outputs": [
    {
     "name": "stdout",
     "output_type": "stream",
     "text": [
      "Hello, World!\n"
     ]
    }
   ],
   "source": [
    "\"\"\"\n",
    "This is a comment\n",
    "written in\n",
    "more than just one line\n",
    "\"\"\"\n",
    "print(\"Hello, World!\")"
   ]
  },
  {
   "cell_type": "markdown",
   "id": "b0e4f208",
   "metadata": {},
   "source": [
    "\n",
    "\n"
   ]
  },
  {
   "cell_type": "markdown",
   "id": "40231ad4",
   "metadata": {},
   "source": []
  },
  {
   "cell_type": "markdown",
   "id": "489d9553",
   "metadata": {},
   "source": [
    "###  Variables "
   ]
  },
  {
   "cell_type": "markdown",
   "id": "26ece7cb",
   "metadata": {},
   "source": [
    "- Holds the data\n",
    "- Variables are containers for storing data values. For eg : roll_num, name, a etc\n",
    "  Values can be either string, numeric etc. Example : \"Sara\", 120, 25.36\n",
    "- A Python variable is a reserved memory location to store values. In other words, a variable in a python program gives data to the computer for processing.\n",
    "- Variables are created when first assigned.\n",
    "- Variables must be assigned before being referenced.\n",
    "- The value stored in a variable can be accessed or updated later.\n",
    "\n"
   ]
  },
  {
   "cell_type": "markdown",
   "id": "1b312f25",
   "metadata": {},
   "source": [
    "###  How to create the variables ?"
   ]
  },
  {
   "cell_type": "markdown",
   "id": "774a9092",
   "metadata": {},
   "source": [
    "- Python has no command for declaring a variable.\n",
    "\n",
    "- A variable is created the moment you first assign a value to it.\n"
   ]
  },
  {
   "cell_type": "code",
   "execution_count": 20,
   "id": "2c1c5df0",
   "metadata": {},
   "outputs": [
    {
     "name": "stdout",
     "output_type": "stream",
     "text": [
      "5\n",
      "John\n"
     ]
    },
    {
     "data": {
      "text/plain": [
       "25"
      ]
     },
     "execution_count": 20,
     "metadata": {},
     "output_type": "execute_result"
    }
   ],
   "source": [
    "x = 5  # Variables are created when first assigned. (python assignment statements) 5=x is wrong\n",
    "y = \"John\" \n",
    "a=25\n",
    "print(x)\n",
    "print(y)\n",
    "a"
   ]
  },
  {
   "cell_type": "code",
   "execution_count": 19,
   "id": "2893e6c2",
   "metadata": {},
   "outputs": [
    {
     "name": "stdout",
     "output_type": "stream",
     "text": [
      "1 1 1\n"
     ]
    }
   ],
   "source": [
    "x=y=z=1 ### multiple assignments(assign a single value to more than one variables simultaneously.)\n",
    "print(x,y,z)"
   ]
  },
  {
   "cell_type": "markdown",
   "id": "4614b661",
   "metadata": {},
   "source": [
    "#### Variables do not need to be declared with any particular type, and can even change type after they have been set.\n",
    "\n"
   ]
  },
  {
   "cell_type": "code",
   "execution_count": 11,
   "id": "f660ea0c",
   "metadata": {},
   "outputs": [
    {
     "name": "stdout",
     "output_type": "stream",
     "text": [
      "4\n",
      "<class 'int'>\n",
      "Sally\n",
      "<class 'str'>\n"
     ]
    }
   ],
   "source": [
    "x = 4 # x is of type int\n",
    "print(x)\n",
    "print(type(x))\n",
    "x = \"Sally\" # x is now of type str  ### re declaration of x\n",
    "print(x)\n",
    "print(type(x))"
   ]
  },
  {
   "cell_type": "markdown",
   "id": "cf6766f2",
   "metadata": {},
   "source": [
    "- No declaration required\n",
    "- The type (string, int, float etc.) of the variable is determined by Python\n",
    "- The interpreter allocates memory on the basis of the data type of a variable"
   ]
  },
  {
   "cell_type": "markdown",
   "id": "25206b42",
   "metadata": {},
   "source": [
    "### Get the Type of variable : type() function.\n",
    "\n",
    "\n",
    "\n"
   ]
  },
  {
   "cell_type": "code",
   "execution_count": 18,
   "id": "ade1e7c5",
   "metadata": {},
   "outputs": [
    {
     "name": "stdout",
     "output_type": "stream",
     "text": [
      "<class 'int'>\n",
      "<class 'str'>\n"
     ]
    }
   ],
   "source": [
    "x = 5\n",
    "y = \"John\"\n",
    "print(type(x))\n",
    "print(type(y))"
   ]
  },
  {
   "cell_type": "markdown",
   "id": "d8504a7d",
   "metadata": {},
   "source": [
    "## Python Variable Name Rules\n",
    "- Must begin with a letter (a - z, A - B) or underscore (_)\n",
    "\n",
    "- Other characters can be letters, numbers or _\n",
    "\n",
    "- Case Sensitive\n",
    "\n",
    "- Can be any (reasonable) length\n",
    "\n",
    "- There are some reserved words which you cannot use as a variable name because Python uses them for other things."
   ]
  },
  {
   "cell_type": "code",
   "execution_count": 21,
   "id": "1a39f9f8",
   "metadata": {},
   "outputs": [
    {
     "name": "stdout",
     "output_type": "stream",
     "text": [
      "Bob 54 True\n"
     ]
    }
   ],
   "source": [
    "## valid variables names \n",
    "name = \"Bob\"\n",
    "Age = 54\n",
    "has_A6 = True\n",
    "print(name, Age, has_A6)"
   ]
  },
  {
   "cell_type": "code",
   "execution_count": 23,
   "id": "90e4ef5b",
   "metadata": {},
   "outputs": [
    {
     "ename": "SyntaxError",
     "evalue": "invalid decimal literal (Temp/ipykernel_7796/2355793366.py, line 3)",
     "output_type": "error",
     "traceback": [
      "\u001b[1;36m  File \u001b[1;32m\"C:\\Users\\acer\\AppData\\Local\\Temp/ipykernel_7796/2355793366.py\"\u001b[1;36m, line \u001b[1;32m3\u001b[0m\n\u001b[1;33m    names 1099_filed = False\u001b[0m\n\u001b[1;37m              ^\u001b[0m\n\u001b[1;31mSyntaxError\u001b[0m\u001b[1;31m:\u001b[0m invalid decimal literal\n"
     ]
    }
   ],
   "source": [
    "# invalid variables \n",
    "\n",
    "names 1099_filed = False\n",
    "\n",
    "if=2"
   ]
  },
  {
   "cell_type": "markdown",
   "id": "b3e14118",
   "metadata": {},
   "source": [
    "### Token"
   ]
  },
  {
   "cell_type": "markdown",
   "id": "a41b47f8",
   "metadata": {},
   "source": [
    "#### A token is the smallest  unit in a python program. All statements and instructions in a program are built with tokens. \n",
    "\n",
    "#### The various tokens in python are :\n",
    "1. Keywords\n",
    "\n",
    "2. Identifiers\n",
    "\n",
    "3. Literals or Values\n",
    "\n",
    "4. Operators\n",
    "\n",
    "5. Punctuators\n",
    "\n",
    "\n",
    "\n",
    "\n",
    "\n"
   ]
  },
  {
   "cell_type": "markdown",
   "id": "5976d639",
   "metadata": {},
   "source": [
    "### Keywords "
   ]
  },
  {
   "cell_type": "markdown",
   "id": "baaac10c",
   "metadata": {},
   "source": [
    " - Keywords are words that have some special meaning or significance in a programming language. They can’t be used as variable names, function names, or any other random purpose. \n",
    " \n",
    " - In Python we have 33 keywords some of them are: try, False, True, class, break, continue, and, as, assert, while, for, in, raise, except, or, not, if, elif, print, import, etc.\n",
    " \n",
    "- These  words which is to be used with specific functionality\n"
   ]
  },
  {
   "cell_type": "code",
   "execution_count": 30,
   "id": "8b769246",
   "metadata": {},
   "outputs": [
    {
     "name": "stdout",
     "output_type": "stream",
     "text": [
      "['False', 'None', 'True', '__peg_parser__', 'and', 'as', 'assert', 'async', 'await', 'break', 'class', 'continue', 'def', 'del', 'elif', 'else', 'except', 'finally', 'for', 'from', 'global', 'if', 'import', 'in', 'is', 'lambda', 'nonlocal', 'not', 'or', 'pass', 'raise', 'return', 'try', 'while', 'with', 'yield']\n"
     ]
    }
   ],
   "source": [
    "# To know how many keywords are in python , need to import keyword package as below:\n",
    "\n",
    "import keyword\n",
    "print(keyword.kwlist)"
   ]
  },
  {
   "cell_type": "markdown",
   "id": "cf9866f5",
   "metadata": {},
   "source": [
    "### 2. Identifiers "
   ]
  },
  {
   "cell_type": "markdown",
   "id": "ced9e647",
   "metadata": {},
   "source": [
    "#### Identifiers are the names given to any variable, function, class, list, methods, etc. for their identification.\n",
    "- Python is a case-sensitive language and it has some rules and regulations to name an identifier. \n",
    "\n",
    "### Here are some rules to name an identifier:-\n",
    "\n",
    "- Identifier starts with a capital letter (A-Z) , a small letter (a-z) or an underscore( _ ). It can’t start with any other character.\n",
    "- Except for letters and underscore, digits can also be a part of identifier but can’t be the first character of it.\n",
    "- Any other special characters or whitespaces are strictly prohibited in an identifier.\n",
    "- An identifier can’t be a keyword."
   ]
  },
  {
   "cell_type": "code",
   "execution_count": 32,
   "id": "12898d40",
   "metadata": {},
   "outputs": [
    {
     "data": {
      "text/plain": [
       "2"
      ]
     },
     "execution_count": 32,
     "metadata": {},
     "output_type": "execute_result"
    }
   ],
   "source": [
    "a=2\n",
    "a\n"
   ]
  },
  {
   "cell_type": "code",
   "execution_count": 33,
   "id": "126917eb",
   "metadata": {},
   "outputs": [
    {
     "data": {
      "text/plain": [
       "6"
      ]
     },
     "execution_count": 33,
     "metadata": {},
     "output_type": "execute_result"
    }
   ],
   "source": [
    "A=6\n",
    "A"
   ]
  },
  {
   "cell_type": "code",
   "execution_count": 34,
   "id": "a05844d7",
   "metadata": {},
   "outputs": [
    {
     "ename": "SyntaxError",
     "evalue": "cannot assign to operator (Temp/ipykernel_7796/1643301179.py, line 1)",
     "output_type": "error",
     "traceback": [
      "\u001b[1;36m  File \u001b[1;32m\"C:\\Users\\acer\\AppData\\Local\\Temp/ipykernel_7796/1643301179.py\"\u001b[1;36m, line \u001b[1;32m1\u001b[0m\n\u001b[1;33m    1@W=2\u001b[0m\n\u001b[1;37m    ^\u001b[0m\n\u001b[1;31mSyntaxError\u001b[0m\u001b[1;31m:\u001b[0m cannot assign to operator\n"
     ]
    }
   ],
   "source": [
    "1@W=2"
   ]
  },
  {
   "cell_type": "code",
   "execution_count": 7,
   "id": "7304be82",
   "metadata": {},
   "outputs": [
    {
     "ename": "SyntaxError",
     "evalue": "invalid syntax (Temp/ipykernel_9628/3633788170.py, line 1)",
     "output_type": "error",
     "traceback": [
      "\u001b[1;36m  File \u001b[1;32m\"C:\\Users\\acer\\AppData\\Local\\Temp/ipykernel_9628/3633788170.py\"\u001b[1;36m, line \u001b[1;32m1\u001b[0m\n\u001b[1;33m    1a=3\u001b[0m\n\u001b[1;37m     ^\u001b[0m\n\u001b[1;31mSyntaxError\u001b[0m\u001b[1;31m:\u001b[0m invalid syntax\n"
     ]
    }
   ],
   "source": [
    "1a=3\n"
   ]
  },
  {
   "cell_type": "code",
   "execution_count": 41,
   "id": "2cb79479",
   "metadata": {},
   "outputs": [
    {
     "ename": "SyntaxError",
     "evalue": "invalid syntax (Temp/ipykernel_7796/1870543082.py, line 1)",
     "output_type": "error",
     "traceback": [
      "\u001b[1;36m  File \u001b[1;32m\"C:\\Users\\acer\\AppData\\Local\\Temp/ipykernel_7796/1870543082.py\"\u001b[1;36m, line \u001b[1;32m1\u001b[0m\n\u001b[1;33m    pass=\"HELLO\"\u001b[0m\n\u001b[1;37m        ^\u001b[0m\n\u001b[1;31mSyntaxError\u001b[0m\u001b[1;31m:\u001b[0m invalid syntax\n"
     ]
    }
   ],
   "source": [
    "pass=\"HELLO\"\n"
   ]
  },
  {
   "cell_type": "markdown",
   "id": "14d2ab8e",
   "metadata": {},
   "source": [
    "variable should not be a keyword"
   ]
  },
  {
   "cell_type": "code",
   "execution_count": 42,
   "id": "ce09f146",
   "metadata": {},
   "outputs": [
    {
     "ename": "SyntaxError",
     "evalue": "invalid syntax (Temp/ipykernel_7796/3828324299.py, line 1)",
     "output_type": "error",
     "traceback": [
      "\u001b[1;36m  File \u001b[1;32m\"C:\\Users\\acer\\AppData\\Local\\Temp/ipykernel_7796/3828324299.py\"\u001b[1;36m, line \u001b[1;32m1\u001b[0m\n\u001b[1;33m    if = 10\u001b[0m\n\u001b[1;37m       ^\u001b[0m\n\u001b[1;31mSyntaxError\u001b[0m\u001b[1;31m:\u001b[0m invalid syntax\n"
     ]
    }
   ],
   "source": [
    "if = 10\n",
    "print (if)"
   ]
  },
  {
   "cell_type": "markdown",
   "id": "a19b89c5",
   "metadata": {},
   "source": [
    "- never start/end not in between with special character with the exception of only _"
   ]
  },
  {
   "cell_type": "code",
   "execution_count": 9,
   "id": "225874c7",
   "metadata": {},
   "outputs": [
    {
     "ename": "SyntaxError",
     "evalue": "cannot assign to operator (Temp/ipykernel_9628/72314948.py, line 1)",
     "output_type": "error",
     "traceback": [
      "\u001b[1;36m  File \u001b[1;32m\"C:\\Users\\acer\\AppData\\Local\\Temp/ipykernel_9628/72314948.py\"\u001b[1;36m, line \u001b[1;32m1\u001b[0m\n\u001b[1;33m    abc@a=2\u001b[0m\n\u001b[1;37m    ^\u001b[0m\n\u001b[1;31mSyntaxError\u001b[0m\u001b[1;31m:\u001b[0m cannot assign to operator\n"
     ]
    }
   ],
   "source": [
    "abc@a=2\n",
    "@abc=6\n",
    "abc@=9\n"
   ]
  },
  {
   "cell_type": "code",
   "execution_count": 43,
   "id": "da4dc83f",
   "metadata": {},
   "outputs": [
    {
     "data": {
      "text/plain": [
       "20"
      ]
     },
     "execution_count": 43,
     "metadata": {},
     "output_type": "execute_result"
    }
   ],
   "source": [
    "abc_a=20\n",
    "abc_a"
   ]
  },
  {
   "cell_type": "markdown",
   "id": "a5145d1b",
   "metadata": {},
   "source": [
    "### Literals or Values:"
   ]
  },
  {
   "cell_type": "markdown",
   "id": "723c7a2c",
   "metadata": {},
   "source": [
    " Literals are the fixed values(constants) or data items used in a source code. \n",
    " \n",
    " Python supports different types of literals such as:\n",
    "\n",
    "-  String Literals\n",
    "-  Character Literals\n",
    "-  Numeric Literals: These are the literals written in form of numbers.\n",
    "-  Boolean Literals: Boolean literals have only two values in Python. These are True and False.\n",
    "-  Special Literals: Python has a special literal ‘None’. It is used to denote nothing, no values, or the absence of value.\n"
   ]
  },
  {
   "cell_type": "code",
   "execution_count": 44,
   "id": "1430e4e3",
   "metadata": {},
   "outputs": [
    {
     "name": "stdout",
     "output_type": "stream",
     "text": [
      "Hello\n",
      "Geeks\n",
      "Geeks for Geeks is a\n",
      "        learning platform\n"
     ]
    }
   ],
   "source": [
    "#String Literals:\n",
    "a = 'Hello'\n",
    "b = \"Geeks\"\n",
    "c = '''Geeks for Geeks is a\n",
    "        learning platform'''\n",
    "print(a)\n",
    "print(b)\n",
    "print(c)"
   ]
  },
  {
   "cell_type": "code",
   "execution_count": 45,
   "id": "30095f82",
   "metadata": {},
   "outputs": [
    {
     "name": "stdout",
     "output_type": "stream",
     "text": [
      "G\n",
      "W\n"
     ]
    }
   ],
   "source": [
    "### Character Literals:Character literal is also a string literal type in which the character is enclosed in single or double-quotes.\n",
    "\n",
    "a = 'G'\n",
    "b = \"W\"\n",
    "print(a)\n",
    "print(b)"
   ]
  },
  {
   "cell_type": "markdown",
   "id": "50693390",
   "metadata": {},
   "source": [
    " Python supports the following numerical literals:\n",
    "\n",
    "- Integer Literal: It includes both positive and negative numbers along with 0. It doesn’t include fractional parts. It can also include binary, decimal, octal, hexadecimal literal.\n",
    "\n",
    "- Float Literal: It includes both positive and negative real numbers. It also includes fractional parts.\n",
    "\n",
    "- Complex Literal: It includes a+bi numeral, here a represents the real part and b represents the complex part."
   ]
  },
  {
   "cell_type": "code",
   "execution_count": null,
   "id": "d3089662",
   "metadata": {},
   "outputs": [],
   "source": [
    "# Numeric Literals\n",
    "a = 5\n",
    "b = 10.3\n",
    "c = -17\n",
    " \n",
    "# Driver code\n",
    "print(a)\n",
    "print(b)\n",
    "print(c)"
   ]
  },
  {
   "cell_type": "code",
   "execution_count": 47,
   "id": "493cb830",
   "metadata": {},
   "outputs": [
    {
     "name": "stdout",
     "output_type": "stream",
     "text": [
      "True False 11\n"
     ]
    }
   ],
   "source": [
    "# Boolean Literals\n",
    "a = True\n",
    "b = (a == 3)\n",
    "c = True + 10\n",
    " \n",
    "\n",
    "print(a, b, c)"
   ]
  },
  {
   "cell_type": "code",
   "execution_count": 48,
   "id": "c4cbd0d8",
   "metadata": {},
   "outputs": [
    {
     "name": "stdout",
     "output_type": "stream",
     "text": [
      "None\n"
     ]
    }
   ],
   "source": [
    "# Special Literals\n",
    "var = None\n",
    "print(var)"
   ]
  },
  {
   "cell_type": "markdown",
   "id": "954d537b",
   "metadata": {},
   "source": [
    "### Data Types : Variables can hold values, and every value has a data-type. Python is a dynamically typed language; hence we do not need to define the type of the variable while declaring it. The interpreter implicitly binds the value with its type.\n",
    "\n",
    "Every value in Python has a datatype. Since everything is an object in Python programming, data types are actually classes and variables are instance (object) of these classes.\n",
    "\n",
    "\n"
   ]
  },
  {
   "cell_type": "code",
   "execution_count": 79,
   "id": "0366936c",
   "metadata": {},
   "outputs": [
    {
     "data": {
      "text/plain": [
       "5"
      ]
     },
     "execution_count": 79,
     "metadata": {},
     "output_type": "execute_result"
    }
   ],
   "source": [
    "a = 5  \n",
    "a"
   ]
  },
  {
   "cell_type": "markdown",
   "id": "ae50b33d",
   "metadata": {},
   "source": [
    "The variable a holds integer value five and we did not define its type. Python interpreter will automatically interpret variables a as an integer type.\n",
    "\n",
    "Python enables us to check the type of the variable used in the program. Python provides us the type() function, which returns the type of the variable passed.\n",
    "\n",
    " "
   ]
  },
  {
   "cell_type": "code",
   "execution_count": 80,
   "id": "3096360c",
   "metadata": {},
   "outputs": [
    {
     "name": "stdout",
     "output_type": "stream",
     "text": [
      "<class 'int'>\n",
      "<class 'str'>\n",
      "<class 'float'>\n"
     ]
    }
   ],
   "source": [
    "## example to define the values of different data types and checking its type.a=10  \n",
    "b=\"Hi Python\"  \n",
    "c = 10.5  \n",
    "print(type(a))  \n",
    "print(type(b))  \n",
    "print(type(c))  "
   ]
  },
  {
   "cell_type": "markdown",
   "id": "ee040d5d",
   "metadata": {},
   "source": [
    "### Standard data types "
   ]
  },
  {
   "attachments": {
    "python%20data%20types.png": {
     "image/png": "[encoded data removed]"
    }
   },
   "cell_type": "markdown",
   "id": "209cc4d2",
   "metadata": {},
   "source": [
    "![python%20data%20types.png](attachment:python%20data%20types.png)"
   ]
  },
  {
   "cell_type": "markdown",
   "id": "8fb56e33",
   "metadata": {},
   "source": [
    "NOTE : datatype array and byte array comes in numpy"
   ]
  },
  {
   "cell_type": "markdown",
   "id": "339449a2",
   "metadata": {},
   "source": [
    "#### 1. Numeric :  Numeric data type represent the data which has numeric value. \n",
    "\n",
    "- Numeric value :\n",
    "     - integer\n",
    " \n",
    "     - floating number \n",
    "\n",
    "     - complex numbers. \n",
    "\n",
    "\n",
    "These values are defined as int, float and complex class in Python.\n",
    "\n"
   ]
  },
  {
   "cell_type": "markdown",
   "id": "dee267db",
   "metadata": {},
   "source": [
    "### Integers – \n",
    "- It contains positive or negative whole numbers (without fraction or decimal).\n",
    "- In Python there is no limit to how long an integer value can be.(Python has no restriction on the length of an integer).It is only limited by the memory available.\n",
    "- This value is represented by int class\n",
    "Eg : 21,23456,-21,-2 etc"
   ]
  },
  {
   "cell_type": "code",
   "execution_count": 59,
   "id": "d84e84e6",
   "metadata": {},
   "outputs": [
    {
     "data": {
      "text/plain": [
       "1234567890123456789"
      ]
     },
     "execution_count": 59,
     "metadata": {},
     "output_type": "execute_result"
    }
   ],
   "source": [
    "#Eg:\n",
    "a = 1234567890123456789\n",
    "a\n",
    "\n"
   ]
  },
  {
   "cell_type": "markdown",
   "id": "71cc097a",
   "metadata": {},
   "source": [
    "### Float –  \n",
    "- It is a real number with floating point representation. \n",
    "- It is specified by a decimal point. (Optionally, the character e or E followed by a positive or negative integer may be appended to specify scientific notation.)\n",
    "- This value is represented by float class\n"
   ]
  },
  {
   "cell_type": "code",
   "execution_count": 61,
   "id": "3b35a58f",
   "metadata": {},
   "outputs": [
    {
     "data": {
      "text/plain": [
       "0.12345678901234568"
      ]
     },
     "execution_count": 61,
     "metadata": {},
     "output_type": "execute_result"
    }
   ],
   "source": [
    "# eg :\n",
    "b = 0.1234567890123456789\n",
    "b"
   ]
  },
  {
   "cell_type": "markdown",
   "id": "74849bc8",
   "metadata": {},
   "source": [
    "### Complex Numbers – \n",
    "- Complex number is represented by complex class. \n",
    "- It is specified as (real part) + (imaginary part)j. For example – 2+3j"
   ]
  },
  {
   "cell_type": "code",
   "execution_count": 62,
   "id": "e0e12b92",
   "metadata": {},
   "outputs": [
    {
     "data": {
      "text/plain": [
       "(1+2j)"
      ]
     },
     "execution_count": 62,
     "metadata": {},
     "output_type": "execute_result"
    }
   ],
   "source": [
    "# Eg:\n",
    "\n",
    "0.12345678901234568\n",
    "c = 1+2j\n",
    "c\n"
   ]
  },
  {
   "cell_type": "markdown",
   "id": "8b7ff5e4",
   "metadata": {},
   "source": [
    "### Use the type() OR isinstance()  function to know which class a variable or a value belongs to. "
   ]
  },
  {
   "cell_type": "code",
   "execution_count": 64,
   "id": "c5c361a8",
   "metadata": {},
   "outputs": [
    {
     "name": "stdout",
     "output_type": "stream",
     "text": [
      "5 is of type <class 'int'>\n",
      "2.0 is of type <class 'float'>\n",
      "(1+2j) is complex number? True\n"
     ]
    }
   ],
   "source": [
    "a = 5\n",
    "print(a, \"is of type\", type(a))\n",
    "\n",
    "a = 2.0\n",
    "print(a, \"is of type\", type(a))\n",
    "\n",
    "a = 1+2j\n",
    "print(a, \"is complex number?\", isinstance(1+2j,complex))"
   ]
  },
  {
   "cell_type": "markdown",
   "id": "da7b88ea",
   "metadata": {},
   "source": [
    " ### sequence"
   ]
  },
  {
   "cell_type": "markdown",
   "id": "cd285646",
   "metadata": {},
   "source": [
    "\n",
    "- sequence is the ordered collection of similar or different data types. \n",
    "- Sequences allows to store multiple values in an organized and efficient fashion. \n",
    "\n",
    "\n",
    "#### There are several sequence types in Python –\n",
    "\n",
    "- String\n",
    "- List\n",
    "- Tuple"
   ]
  },
  {
   "cell_type": "markdown",
   "id": "273037a9",
   "metadata": {},
   "source": [
    "### String\n",
    "- stores textual data like abc, hello etc.\n",
    "- A string is a collection of one or more characters put in a single quote, double-quote or triple quote.\n",
    "- Note : In python there is no character data type, a character is a string of length one. \n",
    "- It is represented by str class."
   ]
  },
  {
   "cell_type": "code",
   "execution_count": 65,
   "id": "e34e6b55",
   "metadata": {},
   "outputs": [
    {
     "name": "stdout",
     "output_type": "stream",
     "text": [
      "String with the use of Single Quotes: \n",
      "hello sweety\n",
      "\n",
      "String with the use of Double Quotes: \n",
      "hello manisha\n",
      "<class 'str'>\n",
      "\n",
      "String with the use of Triple Quotes: \n",
      "I'm good anjali\n",
      "<class 'str'>\n",
      "\n",
      "Creating a multiline String: \n",
      "hi\n",
      "            how \n",
      "            are you\n"
     ]
    }
   ],
   "source": [
    "### Eg:\n",
    "# Creating a String  with single Quotes \n",
    "String1 = 'hello sweety'\n",
    "print(\"String with the use of Single Quotes: \") \n",
    "print(String1) \n",
    "    \n",
    "# Creating a String with double Quotes \n",
    "String1 = \"hello manisha\"\n",
    "print(\"\\nString with the use of Double Quotes: \") \n",
    "print(String1) \n",
    "print(type(String1))\n",
    "    \n",
    "# Creating a String with triple Quotes \n",
    "String1 = '''I'm good anjali'''\n",
    "print(\"\\nString with the use of Triple Quotes: \") \n",
    "print(String1) \n",
    "print(type(String1))\n",
    "  \n",
    "# Creating String with triple Quotes allows multiple lines \n",
    "String1 = '''hi\n",
    "            how \n",
    "            are you'''\n",
    "print(\"\\nCreating a multiline String: \") \n",
    "print(String1) "
   ]
  },
  {
   "cell_type": "markdown",
   "id": "0aab4fb1",
   "metadata": {},
   "source": [
    "### List\n",
    "- Lists are just like the arrays, declared in other languages which is a ordered collection of data. \n",
    "- It is very flexible as the items in a list do not need to be of the same type.\n",
    " \n"
   ]
  },
  {
   "cell_type": "code",
   "execution_count": 81,
   "id": "3cef2956",
   "metadata": {},
   "outputs": [
    {
     "name": "stdout",
     "output_type": "stream",
     "text": [
      "Initial blank List: \n",
      "[]\n",
      "\n",
      "List with the use of String: \n",
      "['hello']\n",
      "\n",
      "List containing multiple values: \n",
      "hello\n",
      "how r u\n",
      "\n",
      "List containing multiple values: \n",
      "hello\n",
      "12\n",
      "\n",
      "Multi-Dimensional List: \n",
      "[['Geeks', 'For'], ['Geeks']]\n"
     ]
    }
   ],
   "source": [
    "### Creating List\n",
    "### Lists in Python can be created by just placing the sequence inside the square brackets[].\n",
    "\n",
    "\n",
    "# Python program to demonstrate  \n",
    "# Creation of List  \n",
    "    \n",
    "# Creating a List \n",
    "List = [] \n",
    "print(\"Initial blank List: \") \n",
    "print(List) \n",
    "    \n",
    "# Creating a List with   the use of a String \n",
    "List = ['hello'] \n",
    "print(\"\\nList with the use of String: \") \n",
    "print(List) \n",
    "    \n",
    "# Creating a List with the use of multiple values \n",
    "List = [\"hello\", \"binisha\", \"how r u\"] \n",
    "print(\"\\nList containing multiple values: \") \n",
    "print(List[0])    ##slicing operator [ ] to extract an item or a range of items from a list. \n",
    "print(List[2]) \n",
    "\n",
    "List = [\"hello\", \"binisha\", 12] \n",
    "print(\"\\nList containing multiple values: \") \n",
    "print(List[0])  \n",
    "print(List[2]) \n",
    "    \n",
    "# Creating a Multi-Dimensional List \n",
    "# (By Nesting a list inside a List) \n",
    "List = [['Geeks', 'For'], ['Geeks']] \n",
    "print(\"\\nMulti-Dimensional List: \") \n",
    "print(List) "
   ]
  },
  {
   "cell_type": "markdown",
   "id": "32d18b19",
   "metadata": {},
   "source": [
    "### Tuple\n",
    "- Just like list, tuple is also an ordered collection of Python objects. \n",
    "- The only difference between tuple and list is that tuples are immutable i.e. tuples cannot be modified after it is created. \n",
    "- It is represented by tuple class."
   ]
  },
  {
   "cell_type": "markdown",
   "id": "ade4b86f",
   "metadata": {},
   "source": [
    "### Creating Tuple\n",
    "-  tuples are created by placing a sequence of values separated by ‘comma’ with or without the use of parentheses for grouping of the data sequence. \n",
    "- Tuples can contain any number of elements and of any datatype (like strings, integers, list, etc.).\n",
    "\n",
    "Note: Tuples can also be created with a single element, but it is a bit tricky. Having one element in the parentheses is not sufficient, there must be a trailing ‘comma’ to make it a tuple."
   ]
  },
  {
   "cell_type": "code",
   "execution_count": 70,
   "id": "f0c89fc7",
   "metadata": {},
   "outputs": [
    {
     "name": "stdout",
     "output_type": "stream",
     "text": [
      "Initial empty Tuple: \n",
      "()\n",
      "\n",
      "Tuple with the use of String: \n",
      "('raj', 'manraj')\n",
      "\n",
      "Tuple using List: \n",
      "(1, 2, 4, 5, 6)\n",
      "\n",
      "Tuple with the use of function: \n",
      "('a', 'v', 'i', 'r', 'a', 'j')\n",
      "\n",
      "Tuple with nested tuples: \n",
      "((0, 1, 2, 3), ('delhi', 'goa'))\n"
     ]
    }
   ],
   "source": [
    "# Python program to demonstrate  \n",
    "# creation of Set \n",
    "    \n",
    "# Creating an empty tuple \n",
    "Tuple1 = () \n",
    "print(\"Initial empty Tuple: \") \n",
    "print (Tuple1) \n",
    "    \n",
    "# Creating a Tuple with  \n",
    "# the use of Strings \n",
    "Tuple1 = ('raj', 'manraj') \n",
    "print(\"\\nTuple with the use of String: \") \n",
    "print(Tuple1) \n",
    "    \n",
    "# Creating a Tuple with the use of list \n",
    "list1 = [1, 2, 4, 5, 6] \n",
    "print(\"\\nTuple using List: \") \n",
    "print(tuple(list1)) \n",
    "  \n",
    "# Creating a Tuple with the \n",
    "# use of built-in function \n",
    "Tuple1 = tuple('aviraj') \n",
    "print(\"\\nTuple with the use of function: \") \n",
    "print(Tuple1) \n",
    "  \n",
    "# Creating a Tuple  \n",
    "# with nested tuples \n",
    "Tuple1 = (0, 1, 2, 3) \n",
    "Tuple2 = ('delhi', 'goa') \n",
    "Tuple3 = (Tuple1, Tuple2) \n",
    "print(\"\\nTuple with nested tuples: \") \n",
    "print(Tuple3) "
   ]
  },
  {
   "cell_type": "markdown",
   "id": "459f99a2",
   "metadata": {},
   "source": [
    "### Set"
   ]
  },
  {
   "cell_type": "markdown",
   "id": "6daca3b5",
   "metadata": {},
   "source": [
    "- Set is an unordered collection of unique items. \n",
    "- Set is defined by values separated by comma inside braces { }. Items in a set are not ordered.\n",
    "\n"
   ]
  },
  {
   "cell_type": "code",
   "execution_count": 72,
   "id": "2297fb78",
   "metadata": {},
   "outputs": [
    {
     "name": "stdout",
     "output_type": "stream",
     "text": [
      "a =  {1, 2, 3, 4, 5}\n",
      "<class 'set'>\n"
     ]
    }
   ],
   "source": [
    "#eg: \n",
    "a = {5,2,3,1,4}\n",
    "\n",
    "# printing set variable\n",
    "print(\"a = \", a)\n",
    "\n",
    "# data type of variable a\n",
    "print(type(a))\n"
   ]
  },
  {
   "cell_type": "markdown",
   "id": "d1ab7e4c",
   "metadata": {},
   "source": [
    "### Boolean"
   ]
  },
  {
   "cell_type": "markdown",
   "id": "452e5f5d",
   "metadata": {},
   "source": [
    "\n",
    "- Boolean type provides two built-in values, True and False. \n",
    "- These values are used to determine the given statement true or false. \n",
    "- It denotes by the class bool. True can be represented by any non-zero value or 'T' whereas false can be represented by the 0 or 'F'. Consider the following example.\n",
    "\n"
   ]
  },
  {
   "cell_type": "code",
   "execution_count": 77,
   "id": "3b8b2ba7",
   "metadata": {},
   "outputs": [
    {
     "name": "stdout",
     "output_type": "stream",
     "text": [
      "True\n",
      "<class 'bool'>\n",
      "<class 'bool'>\n",
      "False\n"
     ]
    }
   ],
   "source": [
    "#eg:\n",
    "a=True\n",
    "print(a)\n",
    "print(type(True))  \n",
    "print(type(False))  \n",
    "print(False)  "
   ]
  },
  {
   "cell_type": "markdown",
   "id": "1f3ff102",
   "metadata": {},
   "source": [
    "### Python Dictionary"
   ]
  },
  {
   "cell_type": "markdown",
   "id": "8edaf826",
   "metadata": {},
   "source": [
    "\n",
    "- Dictionary is an unordered collection of key-value pairs.\n",
    "\n",
    "- It is generally used when we have a huge amount of data. Dictionaries are optimized for retrieving data. We must know the key to retrieve the value."
   ]
  },
  {
   "cell_type": "code",
   "execution_count": 78,
   "id": "bd99c79d",
   "metadata": {},
   "outputs": [
    {
     "name": "stdout",
     "output_type": "stream",
     "text": [
      "<class 'dict'>\n",
      "<class 'dict'>\n",
      "d[1] =  value\n",
      "d['key'] =  2\n"
     ]
    },
    {
     "ename": "KeyError",
     "evalue": "2",
     "output_type": "error",
     "traceback": [
      "\u001b[1;31m---------------------------------------------------------------------------\u001b[0m",
      "\u001b[1;31mKeyError\u001b[0m                                  Traceback (most recent call last)",
      "\u001b[1;32m~\\AppData\\Local\\Temp/ipykernel_7796/4241265036.py\u001b[0m in \u001b[0;36m<module>\u001b[1;34m\u001b[0m\n\u001b[0;32m     12\u001b[0m \u001b[1;33m\u001b[0m\u001b[0m\n\u001b[0;32m     13\u001b[0m \u001b[1;31m# Generates error\u001b[0m\u001b[1;33m\u001b[0m\u001b[1;33m\u001b[0m\u001b[0m\n\u001b[1;32m---> 14\u001b[1;33m \u001b[0mprint\u001b[0m\u001b[1;33m(\u001b[0m\u001b[1;34m\"d[2] = \"\u001b[0m\u001b[1;33m,\u001b[0m \u001b[0md\u001b[0m\u001b[1;33m[\u001b[0m\u001b[1;36m2\u001b[0m\u001b[1;33m]\u001b[0m\u001b[1;33m)\u001b[0m\u001b[1;33m\u001b[0m\u001b[1;33m\u001b[0m\u001b[0m\n\u001b[0m",
      "\u001b[1;31mKeyError\u001b[0m: 2"
     ]
    }
   ],
   "source": [
    "d = {1:'value','key':2}\n",
    "print(type(d))\n",
    "\n",
    "#We use key to retrieve the respective value. But not the other way around.\n",
    "\n",
    "d = {1:'value','key':2}\n",
    "print(type(d))\n",
    "\n",
    "print(\"d[1] = \", d[1])\n",
    "\n",
    "print(\"d['key'] = \", d['key'])\n",
    "\n",
    "# Generates error\n",
    "print(\"d[2] = \", d[2])"
   ]
  },
  {
   "cell_type": "markdown",
   "id": "ded677d8",
   "metadata": {},
   "source": [
    "### Type casting / Conversion between data types\n",
    "\n",
    "If you want to specify the data type of a variable, this can be done with casting."
   ]
  },
  {
   "cell_type": "code",
   "execution_count": 57,
   "id": "20948fc6",
   "metadata": {},
   "outputs": [
    {
     "name": "stdout",
     "output_type": "stream",
     "text": [
      "<class 'str'>\n",
      "<class 'int'>\n",
      "<class 'float'>\n"
     ]
    }
   ],
   "source": [
    "x = str(3)    # x will be '3'  : int into to str\n",
    "z = float(3)  # z will be 3.0 : int to float\n",
    "print(type(x)\n",
    "print(type(z))"
   ]
  },
  {
   "cell_type": "markdown",
   "id": "3fc436a5",
   "metadata": {},
   "source": [
    " #### Convert int to float "
   ]
  },
  {
   "cell_type": "code",
   "execution_count": 50,
   "id": "875fa7a2",
   "metadata": {},
   "outputs": [
    {
     "name": "stdout",
     "output_type": "stream",
     "text": [
      "<class 'int'>\n",
      "10.0\n"
     ]
    },
    {
     "data": {
      "text/plain": [
       "float"
      ]
     },
     "execution_count": 50,
     "metadata": {},
     "output_type": "execute_result"
    }
   ],
   "source": [
    "a=10\n",
    "print(type(a))\n",
    "a=float(a)\n",
    "print(a)\n",
    "type(a)"
   ]
  },
  {
   "cell_type": "markdown",
   "id": "c8a33c4e",
   "metadata": {},
   "source": [
    "### Conversion from float to int "
   ]
  },
  {
   "cell_type": "code",
   "execution_count": 82,
   "id": "41d9b257",
   "metadata": {},
   "outputs": [
    {
     "name": "stdout",
     "output_type": "stream",
     "text": [
      "10\n",
      "-10\n"
     ]
    }
   ],
   "source": [
    "print(int(10.6))\n",
    "print(int(-10.6))"
   ]
  },
  {
   "cell_type": "markdown",
   "id": "1007d93b",
   "metadata": {},
   "source": [
    "fractional part  truncated make it closer to zero."
   ]
  },
  {
   "cell_type": "markdown",
   "id": "927e7de3",
   "metadata": {},
   "source": [
    "### Conversion to and from string must contain compatible values."
   ]
  },
  {
   "cell_type": "code",
   "execution_count": 83,
   "id": "b93a1d0f",
   "metadata": {},
   "outputs": [
    {
     "name": "stdout",
     "output_type": "stream",
     "text": [
      "2.5\n",
      "25\n"
     ]
    },
    {
     "ename": "ValueError",
     "evalue": "invalid literal for int() with base 10: '1p'",
     "output_type": "error",
     "traceback": [
      "\u001b[1;31m---------------------------------------------------------------------------\u001b[0m",
      "\u001b[1;31mValueError\u001b[0m                                Traceback (most recent call last)",
      "\u001b[1;32m~\\AppData\\Local\\Temp/ipykernel_7796/2556223197.py\u001b[0m in \u001b[0;36m<module>\u001b[1;34m\u001b[0m\n\u001b[0;32m      1\u001b[0m \u001b[0mprint\u001b[0m\u001b[1;33m(\u001b[0m\u001b[0mfloat\u001b[0m\u001b[1;33m(\u001b[0m\u001b[1;34m'2.5'\u001b[0m\u001b[1;33m)\u001b[0m\u001b[1;33m)\u001b[0m\u001b[1;33m\u001b[0m\u001b[1;33m\u001b[0m\u001b[0m\n\u001b[0;32m      2\u001b[0m \u001b[0mprint\u001b[0m\u001b[1;33m(\u001b[0m\u001b[0mstr\u001b[0m\u001b[1;33m(\u001b[0m\u001b[1;36m25\u001b[0m\u001b[1;33m)\u001b[0m\u001b[1;33m)\u001b[0m\u001b[1;33m\u001b[0m\u001b[1;33m\u001b[0m\u001b[0m\n\u001b[1;32m----> 3\u001b[1;33m \u001b[0mprint\u001b[0m\u001b[1;33m(\u001b[0m\u001b[0mint\u001b[0m\u001b[1;33m(\u001b[0m\u001b[1;34m'1p'\u001b[0m\u001b[1;33m)\u001b[0m\u001b[1;33m)\u001b[0m\u001b[1;33m\u001b[0m\u001b[1;33m\u001b[0m\u001b[0m\n\u001b[0m",
      "\u001b[1;31mValueError\u001b[0m: invalid literal for int() with base 10: '1p'"
     ]
    }
   ],
   "source": [
    "print(float('2.5'))\n",
    "print(str(25))\n",
    "print(int('1p'))"
   ]
  },
  {
   "cell_type": "markdown",
   "id": "376c32b8",
   "metadata": {},
   "source": [
    " #### Convert int to string\n"
   ]
  },
  {
   "cell_type": "code",
   "execution_count": 85,
   "id": "48f4dc70",
   "metadata": {},
   "outputs": [
    {
     "name": "stdout",
     "output_type": "stream",
     "text": [
      "5\n"
     ]
    },
    {
     "data": {
      "text/plain": [
       "str"
      ]
     },
     "execution_count": 85,
     "metadata": {},
     "output_type": "execute_result"
    }
   ],
   "source": [
    "a=5\n",
    "a=str(a)\n",
    "print(a)\n",
    "type(a)"
   ]
  },
  {
   "cell_type": "code",
   "execution_count": 89,
   "id": "bb1c0a08",
   "metadata": {},
   "outputs": [
    {
     "ename": "ValueError",
     "evalue": "invalid literal for int() with base 10: '5.6'",
     "output_type": "error",
     "traceback": [
      "\u001b[1;31m---------------------------------------------------------------------------\u001b[0m",
      "\u001b[1;31mValueError\u001b[0m                                Traceback (most recent call last)",
      "\u001b[1;32m~\\AppData\\Local\\Temp/ipykernel_7796/1106640566.py\u001b[0m in \u001b[0;36m<module>\u001b[1;34m\u001b[0m\n\u001b[0;32m      1\u001b[0m \u001b[0ma\u001b[0m\u001b[1;33m=\u001b[0m\u001b[1;34m\"5.6\"\u001b[0m\u001b[1;33m\u001b[0m\u001b[1;33m\u001b[0m\u001b[0m\n\u001b[1;32m----> 2\u001b[1;33m \u001b[0ma\u001b[0m\u001b[1;33m=\u001b[0m\u001b[0mint\u001b[0m\u001b[1;33m(\u001b[0m\u001b[0ma\u001b[0m\u001b[1;33m)\u001b[0m\u001b[1;33m\u001b[0m\u001b[1;33m\u001b[0m\u001b[0m\n\u001b[0m\u001b[0;32m      3\u001b[0m \u001b[0ma\u001b[0m\u001b[1;33m\u001b[0m\u001b[1;33m\u001b[0m\u001b[0m\n",
      "\u001b[1;31mValueError\u001b[0m: invalid literal for int() with base 10: '5.6'"
     ]
    }
   ],
   "source": [
    "a=\"5.6\"\n",
    "a=int(a)\n",
    "a"
   ]
  },
  {
   "cell_type": "markdown",
   "id": "b318a817",
   "metadata": {},
   "source": [
    "- why this error as str needs to convert it into float then int so leads double conversion so we can not do with single command int so do it as below"
   ]
  },
  {
   "cell_type": "markdown",
   "id": "b15c1f94",
   "metadata": {},
   "source": [
    "so how will we do ?"
   ]
  },
  {
   "cell_type": "code",
   "execution_count": 90,
   "id": "91d13139",
   "metadata": {},
   "outputs": [
    {
     "name": "stdout",
     "output_type": "stream",
     "text": [
      "5.6\n"
     ]
    },
    {
     "data": {
      "text/plain": [
       "int"
      ]
     },
     "execution_count": 90,
     "metadata": {},
     "output_type": "execute_result"
    }
   ],
   "source": [
    "print(a)\n",
    "a=int(float(a))\n",
    "type(a)"
   ]
  },
  {
   "cell_type": "code",
   "execution_count": 91,
   "id": "22efce52",
   "metadata": {},
   "outputs": [
    {
     "name": "stdout",
     "output_type": "stream",
     "text": [
      "<class 'float'>\n"
     ]
    }
   ],
   "source": [
    "a=\"10.6\"\n",
    "a=float(a)\n",
    "print(type(a))"
   ]
  },
  {
   "cell_type": "markdown",
   "id": "566e9222",
   "metadata": {},
   "source": [
    "here in above str to float conversion does with the exception of with int "
   ]
  },
  {
   "cell_type": "code",
   "execution_count": 92,
   "id": "daa2e0d3",
   "metadata": {},
   "outputs": [
    {
     "data": {
      "text/plain": [
       "str"
      ]
     },
     "execution_count": 92,
     "metadata": {},
     "output_type": "execute_result"
    }
   ],
   "source": [
    "s=\"10\"\n",
    "float(s)\n",
    "type(s)"
   ]
  },
  {
   "cell_type": "markdown",
   "id": "020b4547",
   "metadata": {},
   "source": [
    "### convert one sequence to another."
   ]
  },
  {
   "cell_type": "code",
   "execution_count": 94,
   "id": "d97f9bcb",
   "metadata": {},
   "outputs": [
    {
     "name": "stdout",
     "output_type": "stream",
     "text": [
      "{1, 2, 3}\n",
      "(5, 6, 7)\n",
      "['h', 'e', 'l', 'l', 'o']\n"
     ]
    }
   ],
   "source": [
    "print(set([1,2,3]))\n",
    "print(tuple({5,6,7}))\n",
    "print(list('hello'))\n"
   ]
  },
  {
   "cell_type": "markdown",
   "id": "a457c9f6",
   "metadata": {},
   "source": [
    "### To convert to dictionary, each element must be a pair:"
   ]
  },
  {
   "cell_type": "code",
   "execution_count": 95,
   "id": "019def9e",
   "metadata": {},
   "outputs": [
    {
     "name": "stdout",
     "output_type": "stream",
     "text": [
      "{1: 2, 3: 4}\n",
      "{3: 26, 4: 44}\n"
     ]
    }
   ],
   "source": [
    "print(dict([[1,2],[3,4]]))\n",
    "print(dict([(3,26),(4,44)]))\n"
   ]
  },
  {
   "cell_type": "markdown",
   "id": "e1489a7f",
   "metadata": {},
   "source": [
    "###  Convert int/float/string to bool"
   ]
  },
  {
   "cell_type": "code",
   "execution_count": 99,
   "id": "8743c7e5",
   "metadata": {},
   "outputs": [
    {
     "name": "stdout",
     "output_type": "stream",
     "text": [
      "True\n",
      "True\n",
      "False\n",
      "True\n"
     ]
    }
   ],
   "source": [
    "a=2\n",
    "b=bool(2)\n",
    "print(b)\n",
    "c=2.5\n",
    "d=bool(c)\n",
    "print(d)\n",
    "k=0\n",
    "m=bool(k)\n",
    "print(m)\n",
    "x=\"str\"\n",
    "y=bool(x)\n",
    "print(y)"
   ]
  },
  {
   "cell_type": "markdown",
   "id": "7254df2d",
   "metadata": {},
   "source": [
    "###  OPERATORS\n",
    "The operator is defined as a symbol which is responsible for a particular operation between two operands."
   ]
  },
  {
   "cell_type": "markdown",
   "id": "e9619703",
   "metadata": {},
   "source": [
    "1. Arithematic\n",
    "2. Comaprisons\n",
    "3. Assignment\n",
    "4. Logical\n",
    "5. Membership\n",
    "6. Bitwise\n"
   ]
  },
  {
   "attachments": {
    "OPERATORS.png": {
     "image/png": "[encoded data removed]"
    }
   },
   "cell_type": "markdown",
   "id": "33d9b007",
   "metadata": {},
   "source": [
    "### Arithmetic Operators:\n",
    "\n",
    "![OPERATORS.png](attachment:OPERATORS.png)"
   ]
  },
  {
   "cell_type": "code",
   "execution_count": 101,
   "id": "c606d094",
   "metadata": {},
   "outputs": [
    {
     "name": "stdout",
     "output_type": "stream",
     "text": [
      "12\n",
      "8\n",
      "20\n",
      "5.0\n",
      "5\n",
      "0\n",
      "100\n"
     ]
    }
   ],
   "source": [
    "#Eg :\n",
    "a=10\n",
    "b=2\n",
    "print(a+b)\n",
    "print(a-b)\n",
    "print(a*b)\n",
    "print(a/b)\n",
    "print(a//b)\n",
    "print(a%b)\n",
    "print(a**b)"
   ]
  },
  {
   "cell_type": "markdown",
   "id": "05ece401",
   "metadata": {},
   "source": [
    "### Q: \n",
    "Raj has 23 candies, simran has 34 candies, aditya has 21 candies . Candies would be equally distributed\n",
    "How many candies need to be distributed to each of them and remaning candies need to given to diksha ?"
   ]
  },
  {
   "cell_type": "code",
   "execution_count": 28,
   "id": "979308ed",
   "metadata": {},
   "outputs": [
    {
     "name": "stdout",
     "output_type": "stream",
     "text": [
      "total candies is 82\n",
      "27.333333333333332\n",
      "each will get  27\n",
      "diksha will get 1\n"
     ]
    }
   ],
   "source": [
    "r=23\n",
    "s=38\n",
    "a=21\n",
    "tc=r+s+a\n",
    "print(\"total candies is\",tc)\n",
    "print(tc/3)\n",
    "ec=tc//3\n",
    "print(\"each will get \",ec)\n",
    "print(\"diksha will get\",tc%3)"
   ]
  },
  {
   "attachments": {
    "comaprison%20op.png": {
     "image/png": "[encoded data removed]"
    }
   },
   "cell_type": "markdown",
   "id": "7d081258",
   "metadata": {},
   "source": [
    "### Comparison operator\n",
    "![comaprison%20op.png](attachment:comaprison%20op.png)"
   ]
  },
  {
   "cell_type": "code",
   "execution_count": 103,
   "id": "3ab1d66d",
   "metadata": {},
   "outputs": [
    {
     "name": "stdout",
     "output_type": "stream",
     "text": [
      "x > y is False\n",
      "x < y is True\n",
      "x == y is False\n",
      "x != y is True\n",
      "x >= y is False\n"
     ]
    }
   ],
   "source": [
    "#eg:\n",
    "x = 10\n",
    "y = 12\n",
    "\n",
    "print('x > y is',x>y)\n",
    "print('x < y is',x<y)\n",
    "print('x == y is',x==y)\n",
    "print('x != y is',x!=y)\n",
    "print('x >= y is',x>=y)"
   ]
  },
  {
   "attachments": {
    "logical.png": {
     "image/png": "[encoded data removed]"
    }
   },
   "cell_type": "markdown",
   "id": "465c1ba2",
   "metadata": {},
   "source": [
    "### Logical operator\n",
    "![logical.png](attachment:logical.png)"
   ]
  },
  {
   "cell_type": "code",
   "execution_count": 104,
   "id": "d597f5f4",
   "metadata": {},
   "outputs": [
    {
     "name": "stdout",
     "output_type": "stream",
     "text": [
      "x and y is False\n",
      "x or y is True\n",
      "not x is False\n"
     ]
    }
   ],
   "source": [
    "#eg:\n",
    "x = True\n",
    "y = False\n",
    "\n",
    "print('x and y is',x and y)\n",
    "\n",
    "print('x or y is',x or y)\n",
    "\n",
    "print('not x is',not x)"
   ]
  },
  {
   "attachments": {
    "assignmet.png": {
     "image/png": "[encoded data removed]"
    }
   },
   "cell_type": "markdown",
   "id": "d675c164",
   "metadata": {},
   "source": [
    "### Assignment operators :\n",
    "Assignment operators are used in Python to assign values to variables.\n",
    "\n",
    "a = 5 is a simple assignment operator that assigns the value 5 on the right to the variable a on the left.\n",
    "\n",
    "There are various compound operators in Python like a += 5 that adds to the variable and later assigns the same. It is equivalent to a = a + 5.\n",
    "\n",
    "\n",
    "![assignmet.png](attachment:assignmet.png)"
   ]
  },
  {
   "attachments": {
    "bitwsie_.png": {
     "image/png": "[encoded data removed]"
    }
   },
   "cell_type": "markdown",
   "id": "37a0475f",
   "metadata": {},
   "source": [
    "\n",
    "### Bitwise operator:\n",
    "\n",
    "Bitwise operators act on operands as if they were strings of binary digits. They operate bit by bit, hence the name.\n",
    "\n",
    "For example, 2 is 10 in binary and 7 is 111.\n",
    "\n",
    "In the table below: Let x = 10 (0000 1010 in binary) and y = 4 (0000 0100 in binary)\n",
    "\n",
    "![bitwsie_.png](attachment:bitwsie_.png)"
   ]
  },
  {
   "attachments": {
    "bitwsie1.png": {
     "image/png": "[encoded data removed]"
    }
   },
   "cell_type": "markdown",
   "id": "a0b3e45d",
   "metadata": {},
   "source": [
    "![bitwsie1.png](attachment:bitwsie1.png)"
   ]
  },
  {
   "cell_type": "markdown",
   "id": "84fb3c70",
   "metadata": {},
   "source": [
    "### Special operators:\n",
    "    \n",
    "#### identity operator \n",
    "\n",
    "#### membership operator\n",
    "\n",
    "\n"
   ]
  },
  {
   "attachments": {
    "identical.png": {
     "image/png": "[encoded data removed]"
    }
   },
   "cell_type": "markdown",
   "id": "5732619a",
   "metadata": {},
   "source": [
    "#### Identity operators\n",
    "- is \n",
    "- is not \n",
    "\n",
    "They are used to check if two values (or variables) are located on the same part of the memory. \n",
    "Note : Two variables that are equal does not imply that they are identical.\n",
    "\n",
    "\n",
    "![identical.png](attachment:identical.png)"
   ]
  },
  {
   "cell_type": "code",
   "execution_count": 2,
   "id": "98e47407",
   "metadata": {},
   "outputs": [
    {
     "name": "stdout",
     "output_type": "stream",
     "text": [
      "True\n",
      "False\n",
      "True\n",
      "False\n",
      "True\n"
     ]
    }
   ],
   "source": [
    "### Eg :\n",
    "\n",
    "x1 = 5\n",
    "y1 = 5\n",
    "x2 = 'Hello'\n",
    "y2 = 'Hello'\n",
    "x3 = [1,2,3]\n",
    "y3 = [1,2,3]\n",
    "\n",
    "print(x1 is y1)\n",
    "print(x1 is not y1)\n",
    "print(x2 is y2)\n",
    "print(x3 is y3)\n",
    "y3 = x3\n",
    "print(x3 is y3)"
   ]
  },
  {
   "cell_type": "markdown",
   "id": "6fa1a053",
   "metadata": {},
   "source": [
    "Here, we see that x1 and y1 are integers of the same values, so they are equal as well as identical. Same is the case with x2 and y2 (strings).\n",
    "\n",
    "But x3 and y3 are lists. They are equal but not identical. It is because the interpreter locates them separately in memory although they are equal."
   ]
  },
  {
   "cell_type": "markdown",
   "id": "12a2bfb2",
   "metadata": {},
   "source": [
    "### membership operator:\n",
    "- in \n",
    "- not in \n",
    "\n",
    "\n",
    "They are used to test whether a value or variable is found in a sequence (string, list, tuple, set and dictionary)."
   ]
  },
  {
   "cell_type": "code",
   "execution_count": 108,
   "id": "852795cd",
   "metadata": {},
   "outputs": [
    {
     "name": "stdout",
     "output_type": "stream",
     "text": [
      "True\n",
      "True\n",
      "True\n",
      "False\n"
     ]
    }
   ],
   "source": [
    "# eg:\n",
    "x = 'Hello world'\n",
    "y = {1:'a',2:'b'}\n",
    "\n",
    "print('H' in x)\n",
    "\n",
    "\n",
    "print('hello' not in x)\n",
    "\n",
    "\n",
    "print(1 in y)\n",
    "\n",
    "\n",
    "print('a' in y)"
   ]
  },
  {
   "cell_type": "markdown",
   "id": "fb621924",
   "metadata": {},
   "source": [
    "Here, 'H' is in x but 'hello' is not present in x (remember, Python is case sensitive). Similarly, 1 is key and 'a' is the value in dictionary y. Hence, 'a' in y returns False"
   ]
  },
  {
   "cell_type": "markdown",
   "id": "b8180829",
   "metadata": {},
   "source": [
    "### Operator Precedence\n",
    "The precedence of the operators is essential to find out since it enables us to know which operator should be evaluated first. The precedence table of the operators in Python is given below."
   ]
  },
  {
   "cell_type": "markdown",
   "id": "3f409ad6",
   "metadata": {},
   "source": [
    "#### precedence in operations as PEDMAS : parentheses, expo, divsion, mult,add, sub"
   ]
  },
  {
   "attachments": {
    "precd1.png": {
     "image/png": "[encoded data removed]"
    }
   },
   "cell_type": "markdown",
   "id": "b74f1587",
   "metadata": {},
   "source": [
    "![precd1.png](attachment:precd1.png)"
   ]
  },
  {
   "attachments": {
    "prec2.png": {
     "image/png": "[encoded data removed]"
    }
   },
   "cell_type": "markdown",
   "id": "8ebba28f",
   "metadata": {},
   "source": [
    "![prec2.png](attachment:prec2.png)"
   ]
  },
  {
   "cell_type": "markdown",
   "id": "c91fd3d9",
   "metadata": {},
   "source": [
    "### Problem : How  we get ans is 0 for this below expression \n",
    "8-3*2-1+1"
   ]
  },
  {
   "cell_type": "markdown",
   "id": "646657ea",
   "metadata": {},
   "source": [
    "### Punctuators: \n",
    "\n",
    "These are the symbols that used in Python to organize the structures, statements, and expressions. \n",
    "\n",
    "Some of the Punctuators are: [ ] { } ( ) @  -=  +=  *=  //=  **==  = , etc.\n",
    "\n"
   ]
  },
  {
   "cell_type": "code",
   "execution_count": null,
   "id": "83dc82e5",
   "metadata": {},
   "outputs": [],
   "source": []
  }
 ],
 "metadata": {
  "kernelspec": {
   "display_name": "Python 3 (ipykernel)",
   "language": "python",
   "name": "python3"
  },
  "language_info": {
   "codemirror_mode": {
    "name": "ipython",
    "version": 3
   },
   "file_extension": ".py",
   "mimetype": "text/x-python",
   "name": "python",
   "nbconvert_exporter": "python",
   "pygments_lexer": "ipython3",
   "version": "3.9.7"
  }
 },
 "nbformat": 4,
 "nbformat_minor": 5
}
