{
 "cells": [
  {
   "cell_type": "markdown",
   "id": "99e7b813",
   "metadata": {},
   "source": [
    "### lambda "
   ]
  },
  {
   "cell_type": "code",
   "execution_count": 14,
   "id": "9f217f20",
   "metadata": {},
   "outputs": [
    {
     "name": "stdout",
     "output_type": "stream",
     "text": [
      "enter the value of n4\n",
      "19\n"
     ]
    }
   ],
   "source": [
    "'''Write a Python program to create a lambda function that adds 15 to a given number passed in as an argument, \n",
    "also \n",
    "Sample Output:\n",
    "25\n",
    "48\n",
    "'''\n",
    "result=lambda n:n+15\n",
    "n=int(input(\"enter the value of n\"))\n",
    "print(result(n))"
   ]
  },
  {
   "cell_type": "code",
   "execution_count": 15,
   "id": "c8bcf76f",
   "metadata": {},
   "outputs": [
    {
     "name": "stdout",
     "output_type": "stream",
     "text": [
      "12\n"
     ]
    }
   ],
   "source": [
    "#create a lambda function that multiplies argument x with argument y and print the result.\n",
    "result=lambda x,y :x*y\n",
    "print(result(2,6))"
   ]
  },
  {
   "cell_type": "code",
   "execution_count": 20,
   "id": "fc7236fd",
   "metadata": {},
   "outputs": [
    {
     "name": "stdout",
     "output_type": "stream",
     "text": [
      "False\n"
     ]
    }
   ],
   "source": [
    "'''Write a Python program to find if a given string starts with a given character using Lambda. Go to the editor\n",
    "Sample Output:\n",
    "True\n",
    "False\n",
    "'''\n",
    "s=\"balmeet\"\n",
    "result=lambda s: True if s.startswith(\"a\") else False\n",
    "print(result(s))"
   ]
  },
  {
   "cell_type": "code",
   "execution_count": 21,
   "id": "228a0e59",
   "metadata": {},
   "outputs": [
    {
     "name": "stdout",
     "output_type": "stream",
     "text": [
      "True\n"
     ]
    }
   ],
   "source": [
    "#Write a Python program to check whether a given string is number or not using Lambda. \n",
    "s=\"1\"\n",
    "result=lambda s: True if type(int(s))==int else False\n",
    "print(result(s))"
   ]
  },
  {
   "cell_type": "code",
   "execution_count": 22,
   "id": "cd1f42dd",
   "metadata": {},
   "outputs": [
    {
     "name": "stdout",
     "output_type": "stream",
     "text": [
      "[('Social sciences', 82), ('English', 88), ('Science', 90), ('Maths', 97)]\n"
     ]
    }
   ],
   "source": [
    "'''Write a Python program to sort a list of tuples using Lambda.\n",
    "Original list of tuples:\n",
    "[('English', 88), ('Science', 90), ('Maths', 97), ('Social sciences', 82)]\n",
    "Sorting the List of Tuples:\n",
    "[('Social sciences', 82), ('English', 88), ('Science', 90), ('Maths', 97)]\n",
    "'''\n",
    "l=[('English', 88), ('Science', 90), ('Maths', 97), ('Social sciences', 82)]\n",
    "\n",
    "print(sorted(l,key= lambda t:t[1]))"
   ]
  },
  {
   "cell_type": "code",
   "execution_count": 17,
   "id": "32bbf159",
   "metadata": {},
   "outputs": [
    {
     "name": "stdout",
     "output_type": "stream",
     "text": [
      "[{'make': 'Nokia', 'model': 216, 'color': 'Black'}, {'make': 'Samsung', 'model': 7, 'color': 'Blue'}, {'make': 'Mi Max', 'model': '2', 'color': 'Gold'}]\n"
     ]
    }
   ],
   "source": [
    "'''\n",
    "Write a Python program to sort a list of dictionaries using Lambda. Go to the editor\n",
    "Original list of dictionaries :\n",
    "[{'make': 'Nokia', 'model': 216, 'color': 'Black'}, {'make': 'Mi Max', 'model': '2', 'color': 'Gold'},\n",
    "{'make': 'Samsung', 'model': 7, 'color': 'Blue'}]\n",
    "Sorting the List of dictionaries :\n",
    "[{'make': 'Nokia', 'model': 216, 'color': 'Black'}, {'make': 'Samsung', 'model': 7, 'color': 'Blue'}, \n",
    "{'make': 'Mi Max', 'model': '2', 'color': 'Gold'}]'''\n",
    "\n",
    "l=[{'make': 'Nokia', 'model': 216, 'color': 'Black'}, {'make': 'Mi Max', 'model': '2', 'color': 'Gold'},\n",
    "{'make': 'Samsung', 'model': 7, 'color': 'Blue'}]\n",
    "print(sorted(l,key=lambda x:x[\"color\"]))"
   ]
  },
  {
   "cell_type": "markdown",
   "id": "48721f8e",
   "metadata": {},
   "source": [
    "### maps"
   ]
  },
  {
   "cell_type": "code",
   "execution_count": 1,
   "id": "d575ca91",
   "metadata": {},
   "outputs": [
    {
     "name": "stdout",
     "output_type": "stream",
     "text": [
      "[6, 9, 12]\n"
     ]
    }
   ],
   "source": [
    "#Write a Python program to triple all numbers of a given list of integers. Use Python map\n",
    "l=[2,3,4]\n",
    "def triple(x):\n",
    "    tri=3*x\n",
    "    return tri\n",
    "result=list(map(triple,l))\n",
    "print(result)"
   ]
  },
  {
   "cell_type": "code",
   "execution_count": 2,
   "id": "c4ad4907",
   "metadata": {},
   "outputs": [
    {
     "name": "stdout",
     "output_type": "stream",
     "text": [
      "[3, 12, 15, 18]\n"
     ]
    }
   ],
   "source": [
    "#Write a Python program to triple all numbers of a given list of integers. Use Python map and lambda\n",
    "l=[1,4,5,6]\n",
    "triple=list(map(lambda x:3*x,l))\n",
    "print(triple)"
   ]
  },
  {
   "cell_type": "code",
   "execution_count": 3,
   "id": "38d4c0eb",
   "metadata": {},
   "outputs": [
    {
     "name": "stdout",
     "output_type": "stream",
     "text": [
      "[5, 6, 7]\n"
     ]
    }
   ],
   "source": [
    "#Write a Python program to add three given lists using Python map and lambd\n",
    "l=[2,3,4]\n",
    "result=list(map(lambda x:x+3,l))\n",
    "print(result)"
   ]
  },
  {
   "cell_type": "code",
   "execution_count": 4,
   "id": "46220183",
   "metadata": {},
   "outputs": [
    {
     "name": "stdout",
     "output_type": "stream",
     "text": [
      "['Apple', 'Avacados', None, None, None]\n"
     ]
    }
   ],
   "source": [
    "#fruits = [\"Apple\",\"Avacados\",\"Orange\",\"mango\",\"banana\"]\n",
    "#wap to fetch those fruits starts with \"a\"\n",
    "#using map\n",
    "\n",
    "fruits = [\"Apple\",\"Avacados\",\"Orange\",\"mango\",\"banana\"]\n",
    "def starts_with_a(fruit):\n",
    "    if fruit.startswith(\"A\"):\n",
    "        return fruit\n",
    "a=list(map(starts_with_a,fruits))\n",
    "print(a)"
   ]
  },
  {
   "cell_type": "markdown",
   "id": "41557a99",
   "metadata": {},
   "source": [
    "###  or"
   ]
  },
  {
   "cell_type": "code",
   "execution_count": 7,
   "id": "f92f8e17",
   "metadata": {},
   "outputs": [
    {
     "name": "stdout",
     "output_type": "stream",
     "text": [
      "['Apple', 'Avacados', '', '', '']\n"
     ]
    }
   ],
   "source": [
    "fruits = [\"Apple\",\"Avacados\",\"Orange\",\"mango\",\"banana\"]\n",
    "f=list(map(lambda fruit_:fruit_ if fruit_.startswith(\"A\") else \"\",fruits))\n",
    "print(f)"
   ]
  },
  {
   "cell_type": "code",
   "execution_count": 3,
   "id": "3aff0c78",
   "metadata": {},
   "outputs": [
    {
     "name": "stdout",
     "output_type": "stream",
     "text": [
      "['', '', 'taris']\n"
     ]
    }
   ],
   "source": [
    "#wap to change \"p\" in list to \"t\"with map\n",
    "\n",
    "l=[\"this\",\"is\",\"paris\"]\n",
    "result=list(map(lambda word:word.replace(\"p\",\"t\") if \"p\" in word else \"\",l))\n",
    "print(result)"
   ]
  },
  {
   "cell_type": "code",
   "execution_count": 6,
   "id": "68e616fa",
   "metadata": {},
   "outputs": [
    {
     "name": "stdout",
     "output_type": "stream",
     "text": [
      "[['b', 'l', 'u', 'e'], ['r', 'e', 'd']]\n"
     ]
    }
   ],
   "source": [
    "#Write a Python program to add three given lists using Python map and lambd\n",
    "l=[\"blue\",\"red\"]\n",
    "result=list(map(lambda x:list(x),l))\n",
    "print(result)"
   ]
  },
  {
   "cell_type": "code",
   "execution_count": 5,
   "id": "0929e788",
   "metadata": {},
   "outputs": [
    {
     "name": "stdout",
     "output_type": "stream",
     "text": [
      "[7, 9, 11]\n"
     ]
    }
   ],
   "source": [
    "#Write a Python program to add two given lists and find the difference between lists. Use map() function\n",
    "l1=[2,3,4]\n",
    "l2=[5,6,7]\n",
    "sum=list(map(lambda x,y:x+y,l1,l2))\n",
    "print(sum)"
   ]
  },
  {
   "cell_type": "code",
   "execution_count": 8,
   "id": "6173e382",
   "metadata": {},
   "outputs": [
    {
     "name": "stdout",
     "output_type": "stream",
     "text": [
      "power of numbers lists  [4, 64, 6]\n"
     ]
    }
   ],
   "source": [
    "'''WAP to print the power of numbers . by taking a list of bases and a list of raised powers .\n",
    "'''\n",
    "base_list=[2,4,6]\n",
    "power_list=[2,3,1]\n",
    "def num_power(base,power):\n",
    "    result=base**power\n",
    "    return result\n",
    "a=list(map(num_power,base_list,power_list))\n",
    "print(\"power of numbers lists \", a)"
   ]
  },
  {
   "cell_type": "code",
   "execution_count": 9,
   "id": "98654d3b",
   "metadata": {},
   "outputs": [
    {
     "name": "stdout",
     "output_type": "stream",
     "text": [
      "[4, 64, 6]\n"
     ]
    }
   ],
   "source": [
    "'''WAP to print the power of numbers . by taking a list of bases and a list of raised powers . \n",
    "with lamba\n",
    "'''\n",
    "base_list=[2,4,6]\n",
    "power_list=[2,3,1]\n",
    "a=list(map(lambda base,power: base**power,base_list,power_list))\n",
    "print(a)"
   ]
  },
  {
   "cell_type": "code",
   "execution_count": 10,
   "id": "50ae72dd",
   "metadata": {},
   "outputs": [
    {
     "name": "stdout",
     "output_type": "stream",
     "text": [
      "the area is :   [10, 18, 28]\n"
     ]
    }
   ],
   "source": [
    "'''WAP to Print the area of rectange given the list of lengths and list of breadths using MAP.\n",
    "'''\n",
    "length=[2,3,4]\n",
    "breadth=[5,6,7]\n",
    "def area_rectangle(l,b):\n",
    "    area=l*b\n",
    "    return area\n",
    "area_list=list(map(area_rectangle,length,breadth))\n",
    "print(\"the area is :  \",area_list)"
   ]
  },
  {
   "cell_type": "code",
   "execution_count": 11,
   "id": "676f10eb",
   "metadata": {},
   "outputs": [
    {
     "name": "stdout",
     "output_type": "stream",
     "text": [
      "[10, 18, 28]\n"
     ]
    }
   ],
   "source": [
    "#WAP to Print the area of rectange given the list of lengths and list of breadths using MAP using lamba.\n",
    "area_list=list(map(lambda l,b:l*b,length, breadth))\n",
    "print(area_list)"
   ]
  },
  {
   "cell_type": "code",
   "execution_count": 12,
   "id": "9d693480",
   "metadata": {},
   "outputs": [
    {
     "name": "stdout",
     "output_type": "stream",
     "text": [
      "list of strings :  ['4', '5', '6']\n",
      "tuple of strings :  ('8', '90', '2')\n"
     ]
    }
   ],
   "source": [
    "'''Write a Python program to convert a given list of integers and a tuple of integers in a list of strings.\n",
    "'''\n",
    "l=[4,5,6]\n",
    "t=(8,90,2)\n",
    "list_string=list(map(lambda a:str(a),l))\n",
    "print(\"list of strings : \",list_string)\n",
    "tuple_strings=tuple(map(lambda b:str(b),t))\n",
    "print(\"tuple of strings : \",tuple_strings)"
   ]
  },
  {
   "cell_type": "code",
   "execution_count": 13,
   "id": "02f1e281",
   "metadata": {},
   "outputs": [
    {
     "name": "stdout",
     "output_type": "stream",
     "text": [
      "[['r', 'e', 'd'], ['g', 'r', 'e', 'e', 'n'], ['b', 'l', 'u', 'e']]\n"
     ]
    }
   ],
   "source": [
    "'''Convert a given list of strings into list of lists using map function\n",
    "'''\n",
    "l=[\"red\",\"green\",\"blue\"]\n",
    "def string_to_list(a):\n",
    "    l=list(a) \n",
    "    return l\n",
    "l1=list(map(string_to_list,l))\n",
    "print(l1)"
   ]
  },
  {
   "cell_type": "code",
   "execution_count": 18,
   "id": "1283ffa7",
   "metadata": {},
   "outputs": [
    {
     "name": "stdout",
     "output_type": "stream",
     "text": [
      "['', 2, '', 4, '', 6, '', 8, '', 10]\n"
     ]
    }
   ],
   "source": [
    " '''Write a Python program to filter a list of integers using Lambda. Go to the editor\n",
    "Original list of integers:\n",
    "[1, 2, 3, 4, 5, 6, 7, 8, 9, 10]\n",
    "Even numbers from the said list:\n",
    "[2, 4, 6, 8, 10]\n",
    "Odd numbers from the said list:\n",
    "[1, 3, 5, 7, 9]\n",
    "'''\n",
    "l=[1, 2, 3, 4, 5, 6, 7, 8, 9, 10]\n",
    "even_num=list(map(lambda x:x if x%2==0 else \"\" ,l))\n",
    "print(even_num)"
   ]
  },
  {
   "cell_type": "code",
   "execution_count": 19,
   "id": "b08a6cbc",
   "metadata": {},
   "outputs": [
    {
     "name": "stdout",
     "output_type": "stream",
     "text": [
      "[1, 4, 9, 16, 25, 36, 49, 64, 81, 100]\n"
     ]
    }
   ],
   "source": [
    "'''Write a Python program to square and cube every number in a given list of integers using Lambda. Go to the editor\n",
    "Original list of integers:\n",
    "[1, 2, 3, 4, 5, 6, 7, 8, 9, 10]\n",
    "Square every number of the said list:\n",
    "[1, 4, 9, 16, 25, 36, 49, 64, 81, 100]\n",
    "Cube every number of the said list:\n",
    "[1, 8, 27, 64, 125, 216, 343, 512, 729, 1000]\n",
    "'''\n",
    "l=[1, 2, 3, 4, 5, 6, 7, 8, 9, 10]\n",
    "sqaure=list(map(lambda x:x**2,l))\n",
    "print(sqaure)"
   ]
  },
  {
   "cell_type": "markdown",
   "id": "7d08cdf6",
   "metadata": {},
   "source": [
    "### filter"
   ]
  },
  {
   "cell_type": "code",
   "execution_count": 16,
   "id": "1e1334dc",
   "metadata": {},
   "outputs": [
    {
     "name": "stdout",
     "output_type": "stream",
     "text": [
      "[80]\n"
     ]
    }
   ],
   "source": [
    "#wap to get those marks list which is greater than 75\n",
    "marks_list=[75,80,23,45]\n",
    "filtered_marks=list(filter(lambda marks:marks>75,marks_list))\n",
    "print(filtered_marks)"
   ]
  },
  {
   "cell_type": "code",
   "execution_count": 17,
   "id": "f503397a",
   "metadata": {},
   "outputs": [
    {
     "name": "stdout",
     "output_type": "stream",
     "text": [
      "['php', 'nitin', 'madam']\n"
     ]
    }
   ],
   "source": [
    "#wap to get those word which are palindrome\n",
    "word_list=[\"php\",\"nitin\",\"balmeet\",\"madam\",\"harsh\"]\n",
    "palindrome=list(filter(lambda word:word[::-1]==word,word_list))\n",
    "print(palindrome)"
   ]
  },
  {
   "cell_type": "code",
   "execution_count": 7,
   "id": "f4d61b36",
   "metadata": {},
   "outputs": [
    {
     "name": "stdout",
     "output_type": "stream",
     "text": [
      "['paris', 'play']\n"
     ]
    }
   ],
   "source": [
    "#wap to fetch the word from the list where \"p\" is exist.\n",
    "l=[\"this\",\"is\",\"paris\",\"play\"]\n",
    "result=list(filter(lambda word:word if\"p\" in word else \"\",l))\n",
    "print(result)"
   ]
  },
  {
   "cell_type": "code",
   "execution_count": 19,
   "id": "b4986a51",
   "metadata": {},
   "outputs": [
    {
     "name": "stdout",
     "output_type": "stream",
     "text": [
      "['monday', 'tuesday', 'friday', 'sunday']\n"
     ]
    }
   ],
   "source": [
    "#Use filter to print only the names that are less than or equal to seven letters\n",
    "days=[\"monday\",\"tuesday\",\"wednesday\",\"thursday\",\"friday\",\"saturday\",\"sunday\"]\n",
    "filtered_days=list(filter(lambda day:len(day)<=7,days))\n",
    "print(filtered_days)"
   ]
  },
  {
   "cell_type": "markdown",
   "id": "c07ae4a6",
   "metadata": {},
   "source": [
    "## reduce "
   ]
  },
  {
   "cell_type": "code",
   "execution_count": 8,
   "id": "0788bb69",
   "metadata": {},
   "outputs": [
    {
     "name": "stdout",
     "output_type": "stream",
     "text": [
      "14\n"
     ]
    }
   ],
   "source": [
    "#wap to add the elements of the list using reduce\n",
    "from functools import reduce\n",
    "l=[2,3,4,5]\n",
    "result=reduce(lambda a,b:a+b,l)\n",
    "print(result)"
   ]
  },
  {
   "cell_type": "code",
   "execution_count": 14,
   "id": "847d9bc9",
   "metadata": {},
   "outputs": [
    {
     "name": "stdout",
     "output_type": "stream",
     "text": [
      "2\n"
     ]
    }
   ],
   "source": [
    "#wap to find the minimum element of the list\n",
    "from functools import reduce\n",
    "l=[2,3,4,5]\n",
    "result=reduce(lambda a,b:a if a<b else b,l)\n",
    "print(result)"
   ]
  },
  {
   "cell_type": "code",
   "execution_count": 25,
   "id": "28f87e9d",
   "metadata": {},
   "outputs": [
    {
     "name": "stdout",
     "output_type": "stream",
     "text": [
      "160\n"
     ]
    }
   ],
   "source": [
    "'''Use reduce to print the product of these numbers\n",
    "my_numbers = [4, 6, 9, 23, 5]'''\n",
    "\n",
    "from functools import reduce\n",
    "my_numbers = [4, 5, 2, 2, 2]\n",
    "multiply=reduce(lambda a,b:a*b,my_numbers)\n",
    "print(multiply)\n"
   ]
  },
  {
   "cell_type": "code",
   "execution_count": 39,
   "id": "5467c83e",
   "metadata": {},
   "outputs": [
    {
     "name": "stdout",
     "output_type": "stream",
     "text": [
      "balmeet\n"
     ]
    }
   ],
   "source": [
    "'''problem wap to get biggest word of the list'''\n",
    "\n",
    "from functools import reduce\n",
    "word_list=[\"hello\",\"princy\",\"balmeet\"]\n",
    "biggest=reduce(lambda word1,word2:word1 if len(word1)>len(word2) else word2,word_list)\n",
    "print(biggest)"
   ]
  },
  {
   "cell_type": "code",
   "execution_count": null,
   "id": "4e05b79f",
   "metadata": {},
   "outputs": [],
   "source": []
  }
 ],
 "metadata": {
  "kernelspec": {
   "display_name": "Python 3 (ipykernel)",
   "language": "python",
   "name": "python3"
  },
  "language_info": {
   "codemirror_mode": {
    "name": "ipython",
    "version": 3
   },
   "file_extension": ".py",
   "mimetype": "text/x-python",
   "name": "python",
   "nbconvert_exporter": "python",
   "pygments_lexer": "ipython3",
   "version": "3.9.7"
  }
 },
 "nbformat": 4,
 "nbformat_minor": 5
}
