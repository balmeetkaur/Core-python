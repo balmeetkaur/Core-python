{
 "cells": [
  {
   "cell_type": "code",
   "execution_count": 1,
   "id": "e0f95277",
   "metadata": {},
   "outputs": [
    {
     "name": "stdout",
     "output_type": "stream",
     "text": [
      "amanaplanagoodman\n",
      "not palindrome\n"
     ]
    }
   ],
   "source": [
    "'''Wap to lower all the characters in the given strings and remove all non-alphanumeric characters from the string and \\\n",
    "check after removing if the string is palindrome or not..  \n",
    "GIVEN STRING IS : A man, A plan, A goodman'''\n",
    "\n",
    "s= \"A man, A plan, A goodman\"\n",
    "s1=\"\"\n",
    "for ch in s:\n",
    "    if ch.isalpha():\n",
    "        ch1=ch.lower()\n",
    "        s1=s1+ch1\n",
    "print(s1)\n",
    "if s1[::-1]==s1:\n",
    "    print(\"palindrome\")\n",
    "else:\n",
    "    print(\"not palindrome\")"
   ]
  },
  {
   "cell_type": "code",
   "execution_count": 2,
   "id": "add01870",
   "metadata": {},
   "outputs": [
    {
     "name": "stdout",
     "output_type": "stream",
     "text": [
      "['the', 'python', 'is', 'fun']\n"
     ]
    }
   ],
   "source": [
    "#WAP to fetch the strings in the given list into new list\n",
    "\n",
    "s = [[\"the\",1,2],[3,4,\"python\"],[\"is\",\"fun\",1,2,3]]\n",
    "l1=[]\n",
    "for i in range(0,3):\n",
    "    for j in range(0,3):\n",
    "        if type(s[i][j])==str:\n",
    "            l1.append(s[i][j])\n",
    "print(l1)\n"
   ]
  },
  {
   "cell_type": "code",
   "execution_count": 11,
   "id": "fa5009b0",
   "metadata": {},
   "outputs": [
    {
     "name": "stdout",
     "output_type": "stream",
     "text": [
      "enter the string : balmeet\n",
      "first and last characters have been exchanged :  talmeeb\n"
     ]
    }
   ],
   "source": [
    "#WAP TO EXCHANGE FIRST AND LAST CHARACTER OF THE STRING\n",
    "s=input(\"enter the string : \")\n",
    "ch_s=s[0]\n",
    "ch_e=s[-1]\n",
    "s1=s.replace(s[-1],ch_s)\n",
    "s2=s1.replace(s[0],ch_e,1)\n",
    "print(\"first and last characters have been exchanged : \",s2)   \n"
   ]
  },
  {
   "cell_type": "code",
   "execution_count": 14,
   "id": "04efb87a",
   "metadata": {},
   "outputs": [
    {
     "name": "stdout",
     "output_type": "stream",
     "text": [
      "enter the strings  :   \n",
      " balmeet\n",
      "enter the index to remove the character on that index  2\n",
      "original string   balmeet\n",
      "character at index number  2 has ben removed    bameet\n"
     ]
    }
   ],
   "source": [
    "'''Write a Python program to remove the nth index character from a nonempty string.\n",
    "'''\n",
    "s=input(\"enter the strings  :   \\n \")\n",
    "i=int(input(\"enter the index to remove the character on that index  \"))\n",
    "print(\"original string  \", s)\n",
    "k=s[i]\n",
    "s1=s.replace(k,\"\")\n",
    "print(\"character at index number \",i,\"has ben removed   \",s1 )"
   ]
  },
  {
   "cell_type": "code",
   "execution_count": 22,
   "id": "4bc5f92e",
   "metadata": {},
   "outputs": [
    {
     "name": "stdout",
     "output_type": "stream",
     "text": [
      "enter the string:   \n",
      " [[]]\n",
      "enter the middle string :\n",
      "balmeet\n",
      "the resultant string is :  [[balmeet]]\n"
     ]
    }
   ],
   "source": [
    "'''Write a Python program to insert a string in the middle of a string.'''\n",
    "\n",
    "s=input(\"enter the string:   \\n \")\n",
    "middle_string=input(\"enter the middle string :\\n\")\n",
    "l=len(s)\n",
    "mid=(1+l)/2\n",
    "mid=int(mid)\n",
    "s2=s[0:mid]+middle_string+s[mid:]\n",
    "print(\"the resultant string is : \", s2)"
   ]
  },
  {
   "cell_type": "code",
   "execution_count": 18,
   "id": "473046f6",
   "metadata": {},
   "outputs": [
    {
     "name": "stdout",
     "output_type": "stream",
     "text": [
      "enter the wordsBALMEET AVIRAJ BALPREET KAWAL SANJOT\n",
      "the list of words is  ['BALMEET', 'AVIRAJ', 'BALPREET', 'KAWAL', 'SANJOT']\n",
      "['BALPREET', 'BALMEET', 'AVIRAJ', 'SANJOT', 'KAWAL']\n",
      "the longest word is  BALPREET and length is  8\n"
     ]
    }
   ],
   "source": [
    "'''Write a Python program that takes a list of words and return the longest word and the length of the longest one. \n",
    "'''\n",
    "\n",
    "l=input(\"enter the words\").split()\n",
    "print(\"the list of words is \", l)\n",
    "longest=sorted(l,key=len,reverse=True)\n",
    "print(longest)\n",
    "print(\"the longest word is \",longest[0], \"and length is \",len(longest[0]))\n"
   ]
  },
  {
   "cell_type": "code",
   "execution_count": 19,
   "id": "0cbd1d27",
   "metadata": {},
   "outputs": [
    {
     "name": "stdout",
     "output_type": "stream",
     "text": [
      "enter the string is   BALMEET\n",
      "IsBALMEET\n"
     ]
    }
   ],
   "source": [
    "'''Write a Python program to get a new string from a given string where \"Is\" has been added to the front. \n",
    "If the given string already begins with \"Is\" then return the string unchanged.(without using inbuilt function.)'''\n",
    "\n",
    "s=input(\"enter the string is   \")\n",
    "if s[0]==\"I\" and s[1]==\"s\":\n",
    "    print(s, \" : that string remains same\")\n",
    "else:\n",
    "    print(\"Is\"+s)"
   ]
  },
  {
   "cell_type": "code",
   "execution_count": 21,
   "id": "d8968ba5",
   "metadata": {},
   "outputs": [
    {
     "name": "stdout",
     "output_type": "stream",
     "text": [
      "enter the wordsbalmeet,avi,sajot,avi,balpreet,rajbir\n",
      "the entered words are :    ['balmeet', 'avi', 'sajot', 'avi', 'balpreet', 'rajbir']\n",
      "the unique list is  ['balmeet', 'avi', 'sajot', 'balpreet', 'rajbir']\n",
      "the sorted list of words are : ['avi', 'balmeet', 'balpreet', 'rajbir', 'sajot']\n"
     ]
    }
   ],
   "source": [
    "'''\n",
    "Write a Python program that accepts a comma separated sequence of words as input and prints the unique words in \n",
    "sorted form (alphanumerically).\n",
    "'''\n",
    "s=input(\"enter the words\").split(\",\")\n",
    "print(\"the entered words are :   \", s)\n",
    "\n",
    "k=[]\n",
    "unique_list=[]\n",
    "for i in s:\n",
    "    if i not in unique_list:\n",
    "        unique_list.append(i)   \n",
    "#print(\"this\",l2, \"is duplicate in it\")\n",
    "print(\"the unique list is \", unique_list)\n",
    "#print(l1)\n",
    "k=sorted(unique_list)\n",
    "print(\"the sorted list of words are :\",k)"
   ]
  },
  {
   "cell_type": "code",
   "execution_count": 24,
   "id": "3ad5492e",
   "metadata": {},
   "outputs": [
    {
     "name": "stdout",
     "output_type": "stream",
     "text": [
      "enter th pincode :  ba2233\n",
      "you entered invalid pincode \n"
     ]
    }
   ],
   "source": [
    "'''wap to check wether entered pincode is valid or not valid pincode should have 6 digits\n",
    "'''\n",
    "pincode=input(\"enter th pincode :  \")\n",
    "if len(pincode)==6 and pincode.isdigit():\n",
    "        print(\"you entered valid pincode \")\n",
    "else:\n",
    "    print(\"you entered invalid pincode \")\n",
    "    "
   ]
  },
  {
   "cell_type": "code",
   "execution_count": 25,
   "id": "74dd8bf6",
   "metadata": {},
   "outputs": [
    {
     "name": "stdout",
     "output_type": "stream",
     "text": [
      "enter the string : balmeetAbc123@\n",
      "LETTERS  10 DIGIT 3\n"
     ]
    }
   ],
   "source": [
    "#Write a program that accepts a sentence and calculate the number of letters and digits. \n",
    "st=input(\"enter the string : \")\n",
    "letter=0\n",
    "digit=0\n",
    "special=0\n",
    "for ch in st:\n",
    "    if ch.isalpha()==True:\n",
    "        letter=letter+1\n",
    "    elif ch.isdigit()==True:\n",
    "        digit=digit+1\n",
    "    else:\n",
    "        special=special+1\n",
    "print(\"LETTERS \", letter,\"DIGIT\",digit)\n",
    "\n",
    "    "
   ]
  },
  {
   "cell_type": "code",
   "execution_count": null,
   "id": "64c3817b",
   "metadata": {},
   "outputs": [],
   "source": []
  }
 ],
 "metadata": {
  "kernelspec": {
   "display_name": "Python 3 (ipykernel)",
   "language": "python",
   "name": "python3"
  },
  "language_info": {
   "codemirror_mode": {
    "name": "ipython",
    "version": 3
   },
   "file_extension": ".py",
   "mimetype": "text/x-python",
   "name": "python",
   "nbconvert_exporter": "python",
   "pygments_lexer": "ipython3",
   "version": "3.9.7"
  }
 },
 "nbformat": 4,
 "nbformat_minor": 5
}
