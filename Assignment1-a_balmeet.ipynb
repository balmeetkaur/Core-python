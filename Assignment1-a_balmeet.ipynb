{
 "cells": [
  {
   "cell_type": "markdown",
   "id": "340b0e97",
   "metadata": {},
   "source": [
    "\n",
    "# Assignment 1: Core Python"
   ]
  },
  {
   "cell_type": "markdown",
   "id": "f018e845",
   "metadata": {},
   "source": [
    "###### q.1 Write a program which will find all such numbers which are divisible by 7 but are not a multiple of 5, between 2000 and 3200 (both included). The numbers obtained should be printed in a comma-separated sequence on a single line. "
   ]
  },
  {
   "cell_type": "code",
   "execution_count": 4,
   "id": "a14e2439",
   "metadata": {},
   "outputs": [
    {
     "name": "stdout",
     "output_type": "stream",
     "text": [
      "following are the numbers which are divisible by 7 but not by 5 \n",
      " \n",
      " \n",
      "2002,2009,2016,2023,2037,2044,2051,2058,2072,2079,2086,2093,2107,2114,2121,2128,2142,2149,2156,2163,2177,2184,2191,2198,2212,2219,2226,2233,2247,2254,2261,2268,2282,2289,2296,2303,2317,2324,2331,2338,2352,2359,2366,2373,2387,2394,2401,2408,2422,2429,2436,2443,2457,2464,2471,2478,2492,2499,2506,2513,2527,2534,2541,2548,2562,2569,2576,2583,2597,2604,2611,2618,2632,2639,2646,2653,2667,2674,2681,2688,2702,2709,2716,2723,2737,2744,2751,2758,2772,2779,2786,2793,2807,2814,2821,2828,2842,2849,2856,2863,2877,2884,2891,2898,2912,2919,2926,2933,2947,2954,2961,2968,2982,2989,2996,3003,3017,3024,3031,3038,3052,3059,3066,3073,3087,3094,3101,3108,3122,3129,3136,3143,3157,3164,3171,3178,3192,3199,"
     ]
    }
   ],
   "source": [
    "print(\"following are the numbers which are divisible by 7 but not by 5 \\n \\n \")\n",
    "for num in range(2000,3201):\n",
    "    if num%7==0 and num%5!=0:\n",
    "        print(num, end=\",\")\n"
   ]
  },
  {
   "cell_type": "markdown",
   "id": "dd23633c",
   "metadata": {},
   "source": [
    "###### q.2  Write a program which can compute the factorial of a given numbers. The results should be printed in a comma-separated sequence on a single line. \n",
    "Suppose the input is supplied to the program: 8 Then, the output should be: 40320 \n",
    "###### Hints: In case of input data being supplied to the question, it should be assumed to be a console input. \n"
   ]
  },
  {
   "cell_type": "code",
   "execution_count": 1,
   "id": "d4df69fc",
   "metadata": {},
   "outputs": [
    {
     "name": "stdout",
     "output_type": "stream",
     "text": [
      "enter the number for which you want to get its factorial :  4\n",
      "the ! 4 is :   24\n"
     ]
    }
   ],
   "source": [
    "number=int(input(\"enter the number for which you want to get its factorial :  \",))\n",
    "fact=1\n",
    "num=number\n",
    "if number==0:\n",
    "    print(\"the factorial of \",number,\"is :\",1)\n",
    "elif number<0:\n",
    "    print(\"the factorial of -ve number is not defined \")\n",
    "elif number==1:\n",
    "    print(number)\n",
    "    print(\"the factorial of 1 is : \",1)\n",
    "else:\n",
    "    while(number>1):\n",
    "        fact=fact*number\n",
    "        number=number-1\n",
    "    print(\"the !\",num, \"is :  \", fact)\n",
    "    "
   ]
  },
  {
   "cell_type": "markdown",
   "id": "d6a7e0e6",
   "metadata": {},
   "source": [
    "###### q.3 With a given integral number n, write a program to generate a dictionary that contains (i, i*i) such that is an integral number between 1 and n (both included) and then the program should print the dictionary. \n",
    " Suppose the input is supplied to the program: 8 \n",
    "Then, the output should be: {1: 1, 2: 4, 3: 9, 4: 16, 5: 25, 6: 36, 7: 49, 8: 64} \n",
    "Hints: In case of input data being supplied to the question, it should be assumed to be a console input. Consider use dict() \n"
   ]
  },
  {
   "cell_type": "code",
   "execution_count": 23,
   "id": "778564b6",
   "metadata": {},
   "outputs": [
    {
     "name": "stdout",
     "output_type": "stream",
     "text": [
      "enter the integral number : 6\n",
      "{1: 1, 2: 4, 3: 9, 4: 16, 5: 25, 6: 36}\n"
     ]
    }
   ],
   "source": [
    "d=dict()\n",
    "n=int(input(\"enter the integral number : \"))\n",
    "for i in range(1,n+1):\n",
    "    d[i]=i*i\n",
    "print(d)"
   ]
  },
  {
   "cell_type": "markdown",
   "id": "9742726c",
   "metadata": {},
   "source": [
    "###### q.4 Write a program which accepts a sequence of comma-separated numbers from console and generate a list and a tuple which contains every number. \n",
    "Suppose the input is supplied to the program: 34, 67, 55, 33, 12, 98 \n",
    "Then, the output should be: \n",
    "['34', '67', '55', '33', '12', '98'] \n",
    "('34', '67', '55', '33', '12', '98') \n",
    "Hints: In case of input data being supplied to the question, it should be assumed to be a console input. tuple() method can convert list to tuple \n"
   ]
  },
  {
   "cell_type": "code",
   "execution_count": 27,
   "id": "c1a5c325",
   "metadata": {},
   "outputs": [
    {
     "name": "stdout",
     "output_type": "stream",
     "text": [
      "enter the number in the list :     3,4,5,6,7\n",
      "the list is :   ['3', '4', '5', '6', '7']\n",
      "the tuple is :   ('3', '4', '5', '6', '7')\n"
     ]
    }
   ],
   "source": [
    "number_list=input(\"enter the number in the list :     \").split(\",\")\n",
    "print(\"the list is :  \", number_list)\n",
    "t=tuple(number_list)\n",
    "print(\"the tuple is :  \",t)"
   ]
  },
  {
   "cell_type": "markdown",
   "id": "78ddfb4b",
   "metadata": {},
   "source": [
    "######  q.5 Define a class which has at least two methods: \n",
    "getString: to get a string from console input \n",
    "printString: to print the string in upper case. \n",
    " \n",
    "Also please include simple test function to test the class methods. \n",
    "Hints: Use __init__ method to construct some parameters \n"
   ]
  },
  {
   "cell_type": "code",
   "execution_count": 109,
   "id": "d2bc4ea2",
   "metadata": {},
   "outputs": [
    {
     "name": "stdout",
     "output_type": "stream",
     "text": [
      "enter the string :balmeet\n",
      "upper case string is :  BALMEET\n"
     ]
    }
   ],
   "source": [
    "class Test:\n",
    "    def __init__(self):\n",
    "        self.string=\"\"        \n",
    "    def get_string(self):\n",
    "        self.string=input(\"enter the string :\")\n",
    "    def upper_case(self):\n",
    "        s1=(self.string).upper()\n",
    "        print(\"upper case string is : \",s1)\n",
    "t=Test()\n",
    "t.get_string()\n",
    "t.upper_case()"
   ]
  },
  {
   "cell_type": "markdown",
   "id": "f380b81f",
   "metadata": {},
   "source": [
    "###### q.6 Write a program that calculates and prints the value according to the given formula: \n",
    "Q = Square root of [(2 * C * D)/H] \n",
    "\n",
    "Following are the fixed values of C and H: C is 50. H is 30. \n",
    "D is the variable whose values should be input to your program in a comma-separated sequence. \n",
    "\n",
    "Let us assume the following comma separated input sequence is given to the program: 100,150,180 \n",
    "The output of the program should be: 18, 22, 24 \n",
    "\n",
    "Hints: If the output received is in decimal form, it should be rounded off to its nearest value (for example, if the output received is 26.0, it should be printed as 26) \n",
    "In case of input data being supplied to the question, it should be assumed to be a console input. \n"
   ]
  },
  {
   "cell_type": "code",
   "execution_count": 41,
   "id": "55965d75",
   "metadata": {},
   "outputs": [
    {
     "name": "stdout",
     "output_type": "stream",
     "text": [
      "enter the values of D 34,56,67\n",
      "8,11,12,"
     ]
    }
   ],
   "source": [
    "import math\n",
    "D_list=input(\"enter the values of D \").split(\",\")\n",
    "C=50\n",
    "D=50\n",
    "H=50\n",
    "for d in D_list:\n",
    "    d=int(d)\n",
    "    square_root=round(math.sqrt((2*C*d)/H))\n",
    "    print(square_root,end=\",\")\n"
   ]
  },
  {
   "cell_type": "markdown",
   "id": "b9673581",
   "metadata": {},
   "source": [
    "###### q.7 Write a program which takes 2 digits, X,Y as input and generates a 2-dimensional array. The element value in the i-th row and j-th column of the array should be i*j. \n",
    "Note: i=0,1.., X-1; j=0,1,¡Y-1. \n",
    "Suppose the following inputs are given to the program: 3, 5 \n",
    "\n",
    "Then, the output of the program should be: [[0, 0, 0, 0, 0], [0, 1, 2, 3, 4], [0, 2, 4, 6, 8]] \n",
    "Hints: In case of input data being supplied to the question, it should be assumed to be a console input in a comma-separated form. \n"
   ]
  },
  {
   "cell_type": "code",
   "execution_count": 43,
   "id": "0bec297b",
   "metadata": {},
   "outputs": [
    {
     "name": "stdout",
     "output_type": "stream",
     "text": [
      "enter the dimensions of the array 2,4\n",
      "[[0, 0, 0, 0], [0, 1, 2, 3]]\n"
     ]
    }
   ],
   "source": [
    "X,Y=input(\"enter the dimensions of the array \").split(\",\")\n",
    "x=int(X)\n",
    "y=int(Y)\n",
    "l=[]\n",
    "for i in range(0,x):\n",
    "    l1=[]\n",
    "    for j in range(0,y):\n",
    "        l1.append(i*j)\n",
    "    l.append(l1)\n",
    "print(l)\n"
   ]
  },
  {
   "cell_type": "markdown",
   "id": "731892f5",
   "metadata": {},
   "source": [
    "###### q.8   Write a program that accepts a comma separated sequence of words as input and prints the words in a comma-separated sequence after sorting them alphabetically. \n",
    "Suppose the input is supplied to the program: without, hello, bag, world \n",
    "Then, the output should be: bag, hello, without, world \n",
    "Hints: In case of input data being supplied to the question, it should be assumed to be a console input. \n"
   ]
  },
  {
   "cell_type": "code",
   "execution_count": 47,
   "id": "b03f69d6",
   "metadata": {},
   "outputs": [
    {
     "name": "stdout",
     "output_type": "stream",
     "text": [
      "enter the wordsbalmeet,avi,sanjot,balpreet\n",
      "the original list :   ['balmeet', 'avi', 'sanjot', 'balpreet']\n",
      "sorted list alphabetically ['avi', 'balmeet', 'balpreet', 'sanjot']\n"
     ]
    }
   ],
   "source": [
    "word_list=input(\"enter the words\").split(\",\")\n",
    "print(\"the original list :  \", word_list)\n",
    "sorted_list=sorted(word_list)\n",
    "print(\"sorted list alphabetically\",sorted_list)"
   ]
  },
  {
   "cell_type": "markdown",
   "id": "09109c97",
   "metadata": {},
   "source": [
    "##### q.9 Write a program that accepts sequence of lines as input and prints the lines after making all characters in the sentence capitalized.\n",
    "\n",
    "Suppose the input is supplied to the program: Hello world \n",
    "Practice makes perfect \n",
    "\n",
    "Then, the output should be: HELLO WORLD \n",
    "PRACTICE MAKES PERFECT \n",
    "Hints: In case of input data being supplied to the question, it should be assumed to be a console input. \n"
   ]
  },
  {
   "cell_type": "code",
   "execution_count": 48,
   "id": "54fc9c74",
   "metadata": {},
   "outputs": [
    {
     "name": "stdout",
     "output_type": "stream",
     "text": [
      "enter the input lineshello balmeet how r you\n",
      "HELLO BALMEET HOW R YOU\n"
     ]
    }
   ],
   "source": [
    "st=input(\"enter the input lines\")\n",
    "capitalized=st.upper()\n",
    "print(capitalized)"
   ]
  },
  {
   "cell_type": "markdown",
   "id": "5bb6a8c5",
   "metadata": {},
   "source": [
    " ###### q.10 Write a program that accepts a sequence of whitespace separated words as input and prints the words after removing all duplicate words and sorting them alphanumerically. \n",
    "Suppose the input is supplied to the program: hello world and practice makes perfect and hello world again \n",
    "Then, the output should be: again and hello makes perfect practice world \n",
    "Hints: In case of input data being supplied to the question, it should be assumed to be a console input. We use set container to remove duplicated data automatically and then use sorted() to sort the data. \n"
   ]
  },
  {
   "cell_type": "code",
   "execution_count": 90,
   "id": "17eb7521",
   "metadata": {},
   "outputs": [
    {
     "name": "stdout",
     "output_type": "stream",
     "text": [
      "enter the seqeunce of white seperated words   balmeet hi how r u how is your kid balmeet\n",
      "['balmeet', 'hi', 'how', 'is', 'kid', 'r', 'u', 'your']\n"
     ]
    }
   ],
   "source": [
    "s=input(\"enter the seqeunce of white seperated words   \").split()\n",
    "unique_string=[]\n",
    "for ch in s:\n",
    "    if ch not in unique_string:\n",
    "        unique_string.append(ch)\n",
    "s1=sorted(unique_string)\n",
    "print(s1)\n"
   ]
  },
  {
   "cell_type": "markdown",
   "id": "ca2bed97",
   "metadata": {},
   "source": [
    "###### q.11 Write a program which accepts a sequence of comma separated 4 digit binary numbers as its input and then check whether they are divisible by 5 or not. The numbers that are divisible by 5 are to be printed in a comma separated sequence. \n",
    "Suppose the input is supplied to the program: 0100,0011,1010,1001 \n",
    "Then the output should be: 1010 \n",
    "Notes: Assume the data is input by console. \n",
    "Hints: In case of input data being supplied to the question, it should be assumed to be a console input. \n"
   ]
  },
  {
   "cell_type": "code",
   "execution_count": 60,
   "id": "492245d7",
   "metadata": {},
   "outputs": [
    {
     "name": "stdout",
     "output_type": "stream",
     "text": [
      "enter the 4 digit binary numbers 1100,1111,1010\n",
      "1111\n",
      "1010\n"
     ]
    }
   ],
   "source": [
    "numbers=input(\"enter the 4 digit binary numbers \").split(\",\")\n",
    "for num in numbers:\n",
    "    num=int(num,2)\n",
    "    if num%5==0:\n",
    "        binary=bin(num)\n",
    "        print(binary.lstrip(\"0b\"))\n",
    "    "
   ]
  },
  {
   "cell_type": "markdown",
   "id": "95a820c6",
   "metadata": {},
   "source": [
    "###### q.12 Write a program, which will find all such numbers between 1000 and 3000 (both included) such that each digit of the number is an even number. \n",
    "The numbers obtained should be printed in a comma-separated sequence on a single line. \n",
    "\n",
    "Hints: In case of input data being supplied to the question, it should be assumed to be a console input. \n"
   ]
  },
  {
   "cell_type": "code",
   "execution_count": 103,
   "id": "d2234a26",
   "metadata": {},
   "outputs": [
    {
     "name": "stdout",
     "output_type": "stream",
     "text": [
      "2000 is even,2002 is even,2004 is even,2006 is even,2008 is even,2020 is even,2022 is even,2024 is even,2026 is even,2028 is even,2040 is even,2042 is even,2044 is even,2046 is even,2048 is even,2060 is even,2062 is even,2064 is even,2066 is even,2068 is even,2080 is even,2082 is even,2084 is even,2086 is even,2088 is even,2200 is even,2202 is even,2204 is even,2206 is even,2208 is even,2220 is even,2222 is even,2224 is even,2226 is even,2228 is even,2240 is even,2242 is even,2244 is even,2246 is even,2248 is even,2260 is even,2262 is even,2264 is even,2266 is even,2268 is even,2280 is even,2282 is even,2284 is even,2286 is even,2288 is even,2400 is even,2402 is even,2404 is even,2406 is even,2408 is even,2420 is even,2422 is even,2424 is even,2426 is even,2428 is even,2440 is even,2442 is even,2444 is even,2446 is even,2448 is even,2460 is even,2462 is even,2464 is even,2466 is even,2468 is even,2480 is even,2482 is even,2484 is even,2486 is even,2488 is even,2600 is even,2602 is even,2604 is even,2606 is even,2608 is even,2620 is even,2622 is even,2624 is even,2626 is even,2628 is even,2640 is even,2642 is even,2644 is even,2646 is even,2648 is even,2660 is even,2662 is even,2664 is even,2666 is even,2668 is even,2680 is even,2682 is even,2684 is even,2686 is even,2688 is even,2800 is even,2802 is even,2804 is even,2806 is even,2808 is even,2820 is even,2822 is even,2824 is even,2826 is even,2828 is even,2840 is even,2842 is even,2844 is even,2846 is even,2848 is even,2860 is even,2862 is even,2864 is even,2866 is even,2868 is even,2880 is even,2882 is even,2884 is even,2886 is even,2888 is even,"
     ]
    }
   ],
   "source": [
    "count=0\n",
    "for num in range(1000,3000):\n",
    "    num=str(num)\n",
    "    count=0    \n",
    "    for ch in num:\n",
    "        ch=int(ch)\n",
    "        if ch%2==0:\n",
    "            count=count+1\n",
    "    if count==4:\n",
    "        print(num,\"is even\",end=\",\")\n",
    "    "
   ]
  },
  {
   "cell_type": "markdown",
   "id": "6ebd08ec",
   "metadata": {},
   "source": [
    "###### q.13 Write a program that accepts a sentence and calculate the number of letters and digits. \n",
    "Suppose the input is supplied to the program: hello world! 123 \n",
    "Then, the output should be: LETTERS 10 DIGITS 3 \n",
    "Hints: In case of input data being supplied to the question, it should be assumed to be a console input. \n"
   ]
  },
  {
   "cell_type": "code",
   "execution_count": 81,
   "id": "086a8ac3",
   "metadata": {},
   "outputs": [
    {
     "name": "stdout",
     "output_type": "stream",
     "text": [
      "enter the string : hello balmeet HOW R YOU 1234\n",
      "LETTERS  19 DIGIT 4\n"
     ]
    }
   ],
   "source": [
    "st=input(\"enter the string : \")\n",
    "letter=0\n",
    "digit=0\n",
    "special=0\n",
    "for ch in st:\n",
    "    if ch.isalpha()==True:\n",
    "        letter=letter+1\n",
    "    elif ch.isdigit()==True:\n",
    "        digit=digit+1\n",
    "    else:\n",
    "        special=special+1\n",
    "print(\"LETTERS \", letter,\"DIGIT\",digit)\n",
    "\n",
    "    "
   ]
  },
  {
   "cell_type": "markdown",
   "id": "8249a07a",
   "metadata": {},
   "source": [
    "###### q.14 Write a program that accepts a sentence and calculate the number of upper case letters and lower case letters. \n",
    "Suppose the input is supplied to the program: Hello world! \n",
    "Then, the output should be: UPPER CASE 1 \n",
    "LOWER CASE 9 \n",
    "Hints: In case of input data being supplied to the question, it should be assumed to be a console input. \n"
   ]
  },
  {
   "cell_type": "code",
   "execution_count": 83,
   "id": "cd8d68c3",
   "metadata": {},
   "outputs": [
    {
     "name": "stdout",
     "output_type": "stream",
     "text": [
      "enter the string : Balmeet BALPREET Aviraj\n",
      "UPPERCASE 10 LOWERCASE 11\n"
     ]
    }
   ],
   "source": [
    "st=input(\"enter the string : \")\n",
    "upper=0\n",
    "digit=0\n",
    "special=0\n",
    "lower=0\n",
    "for ch in st:\n",
    "    if ch.isupper()==True:\n",
    "        upper=upper+1\n",
    "    elif ch.islower()==True:\n",
    "        lower=lower+1\n",
    "    elif ch.isdigit()==True:\n",
    "        digit=digit+1\n",
    "    else:\n",
    "        special=special+1\n",
    "print(\"UPPERCASE\", upper,\"LOWERCASE\",lower)\n"
   ]
  },
  {
   "cell_type": "markdown",
   "id": "8f62d983",
   "metadata": {},
   "source": [
    "###### q.15 Write a program that computes the value of a+aa+aaa+aaaa with a given digit as the value of a. \n",
    "Suppose the input is supplied to the program: 9 \n",
    "Then, the output should be: 11106 \n",
    "Hints: In case of input data being supplied to the question, it should be assumed to be a console input. \n"
   ]
  },
  {
   "cell_type": "code",
   "execution_count": 104,
   "id": "db53d992",
   "metadata": {},
   "outputs": [
    {
     "name": "stdout",
     "output_type": "stream",
     "text": [
      "enter the value of a 9\n",
      "11106\n"
     ]
    }
   ],
   "source": [
    "a=int(input(\"enter the value of a \"))\n",
    "a1=a\n",
    "a1=str(a1)\n",
    "a4=a1*4\n",
    "a3=a1*3\n",
    "a2=a1*2\n",
    "a1=int(a1)\n",
    "a2=int(a2)\n",
    "a3=int(a3)\n",
    "a4=int(a4)\n",
    "s=a4+a3+a2+a1\n",
    "print(s)\n",
    "print(a,\"+\",a*2,\"+\",a*3,\"+\",a*4,\"is \",s)"
   ]
  },
  {
   "cell_type": "markdown",
   "id": "d9e789ce",
   "metadata": {},
   "source": [
    "###### q.16 Use a list comprehension to square each odd number in a list. The list is input by a sequence of comma-separated numbers. \n",
    "Suppose the input is supplied to the program: 1,2,3,4,5,6,7,8,9 \n",
    "Then, the output should be: 1, 3, 5, 7, 9 \n",
    "Hints: In case of input "
   ]
  },
  {
   "cell_type": "code",
   "execution_count": 93,
   "id": "86951fa2",
   "metadata": {},
   "outputs": [
    {
     "name": "stdout",
     "output_type": "stream",
     "text": [
      "enter the elements in the list 3,4,5,6,7,8\n",
      "[9, 25, 49]\n"
     ]
    }
   ],
   "source": [
    "l=input(\"enter the elements in the list \").split(\",\")\n",
    "\n",
    "l1=[int(num)*int(num) for num in l if int(num)%2!=0]\n",
    "print(l1)"
   ]
  },
  {
   "cell_type": "markdown",
   "id": "cf6be8b0",
   "metadata": {},
   "source": [
    "###### q.17 Write a program that computes the net amount of a bank account based a transaction log from console input. The transaction log format is shown as following: \n",
    "D 100 \n",
    "W 200 \n",
    "--D means deposit while W means withdrawal. \n",
    "Suppose the input is supplied to the program: \n",
    "D 300\n",
    "D 300 \n",
    "W 200 \n",
    "D 100 \n",
    "Then, the output should be: 500 \n",
    "Hints: In case of input data being supplied to the question, it should be assumed to be a console input. \n"
   ]
  },
  {
   "cell_type": "code",
   "execution_count": 105,
   "id": "3f9561a7",
   "metadata": {},
   "outputs": [
    {
     "name": "stdout",
     "output_type": "stream",
     "text": [
      "enter your choice :  D : for deposit  W : for withdrawlD\n",
      "enter the deposit amount200\n",
      "you wish to do transaction again : Yes or No  :  Yes\n",
      "enter your choice :  D : for deposit  W : for withdrawlD\n",
      "enter the deposit amount100\n",
      "you wish to do transaction again : Yes or No  :  Yes\n",
      "enter your choice :  D : for deposit  W : for withdrawlW\n",
      "enter the withdrawl amount50\n",
      "you wish to do transaction again : Yes or No  :  No\n",
      "the bank amount is :  250\n"
     ]
    }
   ],
   "source": [
    "amount=0\n",
    "\n",
    "while True:  \n",
    "    choice =input(\"enter your choice :  D : for deposit  W : for withdrawl\")\n",
    "    if choice==\"D\":\n",
    "        d=int(input(\"enter the deposit amount\"))\n",
    "        amount=amount+d\n",
    "    elif choice==\"W\":\n",
    "        if amount==0:\n",
    "            print(\"go for deposit first\")\n",
    "            continue\n",
    "        w=int(input(\"enter the withdrawl amount\"))\n",
    "        amount=amount-w        \n",
    "    else:\n",
    "        print(\"wrong choice\")\n",
    "    choice1=input(\"you wish to do transaction again : Yes or No  :  \")\n",
    "    if choice1==\"No\":\n",
    "        break\n",
    "    elif choice1==\"Yes\":\n",
    "        continue\n",
    "    else:\n",
    "        print(\"entered invalid choice\")\n",
    "        break\n",
    "print(\"the bank amount is : \",amount)\n",
    "       \n",
    "    \n",
    "                      "
   ]
  },
  {
   "cell_type": "markdown",
   "id": "4dfb199c",
   "metadata": {},
   "source": [
    "######  problem q.18 A website requires the users to input username and password to register. Write a program to check the validity of password input by users. \n",
    "Following are the criteria for checking the password: \n",
    "1. At least 1 letter between [a-z] \n",
    "2. At least 1 number between [0-9] \n",
    "1. At least 1 letter between [A-Z] \n",
    "3. At least 1 character from [$#@] \n",
    "4. Minimum length of transaction password: 6 \n",
    "5. Maximum length of transaction password: 12 \n",
    "Your program should accept a sequence of comma separated passwords and will check them according to the above criteria. Passwords that match the criteria are to be printed, each separated by a comma. \n",
    "If the following passwords are given as input to the program: ABd1234@1,a F1#,2w3E*,2We3345 \n",
    "Then, the output of the program should be: ABd1234@1 \n",
    "Hints: In case of input data being supplied to the question, it should be assumed to be a console input. \n"
   ]
  },
  {
   "cell_type": "code",
   "execution_count": 118,
   "id": "dc9fa352",
   "metadata": {},
   "outputs": [
    {
     "name": "stdout",
     "output_type": "stream",
     "text": [
      "enter the usernamebalmeet\n",
      "password validity criteria is as : \\ At least 1 letter between [a-z] \\At least 1 number between [0-9] \\At least 1 letter between [A-Z] At least 1 character from [$#@] Maximum length of transaction password: 12 \n",
      "ENTER YOUR PASSWORDS  balmeet,Balmeet@123,Balmeetk@!@#$123,balmeetk\n",
      "Balmeet@123  this password is valid  \n",
      "Balmeetk@!@#$123  this password is valid  \n",
      "balmeetk  this password is valid  \n"
     ]
    }
   ],
   "source": [
    "username=input(\"enter the username\")\n",
    "print(\"password validity criteria is as : \\ At least 1 letter between [a-z] \\At least 1 number between [0-9] \\At least 1 letter between [A-Z] At least 1 character from [$#@] Maximum length of transaction password: 12 \")\n",
    "chance=0\n",
    "digit=0\n",
    "lower=0\n",
    "upper=0\n",
    "special=0\n",
    "\n",
    "while True:\n",
    "    password=input(\"ENTER YOUR PASSWORDS  \").split(\",\")\n",
    "    if len(password)>4:\n",
    "        print(\"maximum length of password transaction is 4 so kindly enter the passwords in this range\")\n",
    "        continue\n",
    "    for password1 in password:\n",
    "            for i in password1:\n",
    "                if i.isupper():\n",
    "                    upper=upper+1\n",
    "                elif i.islower():\n",
    "                    lower=lower+1\n",
    "                elif i.isdigit():\n",
    "                    digit=digit+1\n",
    "                else:\n",
    "                    special=special+1\n",
    "            if upper>=1 and lower>=1 and digit>=1 and special>=1 and len(password1)>=6:\n",
    "                print(password1, \" this password is valid  \")\n",
    "    break\n",
    "        \n",
    "    "
   ]
  },
  {
   "cell_type": "code",
   "execution_count": null,
   "id": "31e2e6c4",
   "metadata": {},
   "outputs": [],
   "source": []
  },
  {
   "cell_type": "markdown",
   "id": "ad86af61",
   "metadata": {},
   "source": [
    "###### q.20 Define a class with a generator which can iterate the numbers, which are divisible by 7, between a given range 0 and n. \n",
    "Hints: Consider use yield \n"
   ]
  },
  {
   "cell_type": "code",
   "execution_count": 3,
   "id": "acabbe75",
   "metadata": {},
   "outputs": [
    {
     "name": "stdout",
     "output_type": "stream",
     "text": [
      "enter the value of n :  20\n",
      "[0, 7, 14]\n"
     ]
    }
   ],
   "source": [
    "class A:\n",
    "    def __init__(self,num):\n",
    "        self.n=num        \n",
    "    def divisible_seven(self):\n",
    "        for i in range(0,self.n+1):\n",
    "            if i%7==0:\n",
    "                l.append(i)\n",
    "        yield l\n",
    "l=[]\n",
    "n=int(input(\"enter the value of n :  \"))\n",
    "a=A(n)\n",
    "numbers=iter(a.divisible_seven())\n",
    "print(next(numbers))"
   ]
  },
  {
   "cell_type": "markdown",
   "id": "678c07c2",
   "metadata": {},
   "source": [
    "###### q.21 A robot moves in a plane starting from the original point (0,0). The robot can move toward UP, DOWN, LEFT and RIGHT with a given steps. The trace of robot movement is shown as the following: \n",
    "UP 5 \n",
    "DOWN 3 \n",
    "LEFT 3 \n",
    "RIGHT 2 \n",
    "¡\n",
    "The numbers after the direction are steps. Please write a program to compute the distance from current position after a sequence of movement and original point. If the distance is a float, then just print the nearest integer. \n",
    "If the following tuples are given as input to the program: \n",
    "UP 5 \n",
    "DOWN 3\n",
    "\n"
   ]
  },
  {
   "cell_type": "code",
   "execution_count": null,
   "id": "e1a68f4b",
   "metadata": {},
   "outputs": [],
   "source": []
  },
  {
   "cell_type": "markdown",
   "id": "e0b38424",
   "metadata": {},
   "source": [
    "###### q.22 Write a program to compute the frequency of the words from the input. The output should output after sorting the key alphanumerically. \n",
    "Suppose the input is supplied to the program: \n",
    "New to Python or choosing between Python 2 and Python 3? Read Python 2 or Python 3. \n",
    "Then, the output should be: \n",
    "2:2 \n",
    "3.:1 \n",
    "3?:1 \n",
    "New:1 \n",
    "Python:5 \n",
    "Read:1 \n",
    "and:1 \n",
    "between:1 \n",
    "choosing:1 \n",
    "or:2 \n",
    "to:1 \n",
    "Hints: In case of input data being supplied to the question, it should be assumed to be a console input. \n"
   ]
  },
  {
   "cell_type": "code",
   "execution_count": 135,
   "id": "6cec2e82",
   "metadata": {},
   "outputs": [
    {
     "name": "stdout",
     "output_type": "stream",
     "text": [
      "enter the string hi balmeet how r u balmeet how is your life going on\n",
      "hi : 1  balmeet : 2  how : 2  r : 1  u : 1  is : 1  your : 1  life : 1  going : 1  on : 1  "
     ]
    }
   ],
   "source": [
    "s=input(\"enter the string \").split()\n",
    "l=[]\n",
    "for word in s:\n",
    "    if word not in l:\n",
    "        l.append(word)\n",
    "        #print(l)\n",
    "        print( word, \":\" ,s.count(word),end=\"  \")\n",
    "    \n",
    "    "
   ]
  },
  {
   "cell_type": "markdown",
   "id": "fc0dac99",
   "metadata": {},
   "source": [
    "###### q.23 Write a method which can calculate square value of number \n",
    "Hints: Using the ** operator \n"
   ]
  },
  {
   "cell_type": "code",
   "execution_count": 125,
   "id": "2452a1ee",
   "metadata": {},
   "outputs": [
    {
     "name": "stdout",
     "output_type": "stream",
     "text": [
      "enter the number 6\n",
      "36\n"
     ]
    }
   ],
   "source": [
    "def square(num):\n",
    "    return num*num\n",
    "number=int(input(\"enter the number \"))\n",
    "print(square(number))\n",
    "    "
   ]
  },
  {
   "cell_type": "markdown",
   "id": "ebb59ec4",
   "metadata": {},
   "source": [
    "###### q.24 Python has many built-in functions, and if you do not know how to use it, you can read document online or find some books. But Python has a built-in document function for every \n",
    " \n",
    "built-in functions. Please write a program to print some Python built-in functions documents, such as abs(), int(), raw_input() And add document for your own function \n",
    "Hints: The built-in document method is __doc__ \n"
   ]
  },
  {
   "cell_type": "code",
   "execution_count": 116,
   "id": "b705aeb8",
   "metadata": {},
   "outputs": [
    {
     "name": "stdout",
     "output_type": "stream",
     "text": [
      "addition of two numbers\n",
      "7\n",
      "Help on function add in module __main__:\n",
      "\n",
      "add(a1, b1)\n",
      "    addition of two numbers\n",
      "\n"
     ]
    }
   ],
   "source": [
    "import builtins\n",
    "dir(builtins)\n",
    "def add(a1,b1):\n",
    "    \"addition of two numbers\"\n",
    "    c=a1+b1\n",
    "    return c\n",
    "print(add.__doc__)\n",
    "print(add(3,4))\n",
    "help(add)\n"
   ]
  },
  {
   "cell_type": "markdown",
   "id": "8506c053",
   "metadata": {},
   "source": [
    "###### q.25 Define a class, which have a class parameter and have a same instance parameter. \n",
    "Hints: Define a instance parameter, need add it in __init__ method \n",
    "You can init a object with construct parameter or set the value later \n"
   ]
  },
  {
   "cell_type": "code",
   "execution_count": 174,
   "id": "6f1d98df",
   "metadata": {},
   "outputs": [
    {
     "name": "stdout",
     "output_type": "stream",
     "text": [
      "the name is balmeet , the age is 22 & the gender is female\n",
      "22\n",
      "balmeet\n",
      "balmeet\n"
     ]
    }
   ],
   "source": [
    "class Abc:\n",
    "    name=\"balmeet\"  #class parameter\n",
    "    def __init__(self,age1,gender1):\n",
    "        '''below are instance parameters'''\n",
    "        self.age=age1\n",
    "        self.gender=gender1\n",
    "    def display(self):\n",
    "        print(f\"the name is {name} , the age is {self.age} & the gender is {self.gender}\")\n",
    "a=Abc(22,\"female\")\n",
    "a.display()\n",
    "print(a.age)   #instance parameter can be accessed only with object name\n",
    "print(a.name)  # we can access class parameter with both object and class name\n",
    "print(Abc.name)\n"
   ]
  },
  {
   "cell_type": "markdown",
   "id": "0e04420f",
   "metadata": {},
   "source": [
    "###### q.26 Define a function which can compute the sum of two numbers. \n",
    "Hints: Define a function with two numbers as arguments. You can compute the sum in the function and return the value. \n"
   ]
  },
  {
   "cell_type": "code",
   "execution_count": 127,
   "id": "9a1d8c39",
   "metadata": {},
   "outputs": [
    {
     "name": "stdout",
     "output_type": "stream",
     "text": [
      "enter the numbers23 2\n",
      "the sum is :  25\n"
     ]
    }
   ],
   "source": [
    "def add(n1,n2):\n",
    "    return n1+n2\n",
    "num1,num2=input(\"enter the numbers\").split()\n",
    "print(\"the sum is : \", add(int(num1),int(num2)))"
   ]
  },
  {
   "cell_type": "markdown",
   "id": "421c2eaf",
   "metadata": {},
   "source": [
    "###### q.27 Define a function that can convert a integer into a string and print it in console. \n",
    "Hints: Use str() to convert a number to string. \n"
   ]
  },
  {
   "cell_type": "code",
   "execution_count": 128,
   "id": "bfb9fdde",
   "metadata": {},
   "outputs": [
    {
     "name": "stdout",
     "output_type": "stream",
     "text": [
      "enter the number 34\n",
      "the type of num is <class 'str'> after conversion \n"
     ]
    }
   ],
   "source": [
    "def int_to_str(num):\n",
    "    num=str(num)\n",
    "    return type(num)\n",
    "number=int(input(\"enter the number \"))\n",
    "print(\"the type of num is\",int_to_str(number), \"after conversion \")\n",
    "    "
   ]
  },
  {
   "cell_type": "markdown",
   "id": "5089929c",
   "metadata": {},
   "source": [
    "###### q.28 Define a function that can convert a integer into a string and print it in console. \n",
    "Hints: Use str() to convert a number to string. \n",
    " same as 27"
   ]
  },
  {
   "cell_type": "markdown",
   "id": "970783d3",
   "metadata": {},
   "source": [
    "###### q.29 Define a function that can receive two integral numbers in string form and compute their sum and then print it in console. \n",
    "Hints: Use int() to convert a string to integer. "
   ]
  },
  {
   "cell_type": "code",
   "execution_count": 130,
   "id": "ac10a7a0",
   "metadata": {},
   "outputs": [
    {
     "name": "stdout",
     "output_type": "stream",
     "text": [
      "enter the numbers23 4\n",
      "the sum is  27\n"
     ]
    }
   ],
   "source": [
    "def add(n1,n2):\n",
    "    n1=int(n1)\n",
    "    n2=int(n2)\n",
    "    c=n1+n2\n",
    "    return c   \n",
    "num1,num2=input(\"enter the numbers\").split()\n",
    "print(\"the sum is \", add(num1,num2))\n"
   ]
  },
  {
   "cell_type": "markdown",
   "id": "af690c99",
   "metadata": {},
   "source": [
    "###### q.30 Define a function that can accept two strings as input and concatenate them and then print it in console. \n",
    "Hints: Use + to concatenate the strings \n"
   ]
  },
  {
   "cell_type": "code",
   "execution_count": 156,
   "id": "81346e0d",
   "metadata": {},
   "outputs": [
    {
     "name": "stdout",
     "output_type": "stream",
     "text": [
      "enter the first strings :  balmeet\n",
      " enter the second string :  balpreet\n",
      "balmeetbalpreet\n"
     ]
    }
   ],
   "source": [
    "s1=input(\"enter the first strings :  \")\n",
    "s2=input(\" enter the second string :  \")\n",
    "def concat(a1,b1):\n",
    "    return a1+b1\n",
    "print(concat(s1,s2))"
   ]
  },
  {
   "cell_type": "markdown",
   "id": "4fe8a726",
   "metadata": {},
   "source": [
    "###### q.31 Define a function that can accept two strings as input and print the string with maximum length in console. If two strings have the same length, then the function should print al l strings line by line. \n",
    "Hints: Use len() function to get the length of a string \n"
   ]
  },
  {
   "cell_type": "code",
   "execution_count": 158,
   "id": "3ff8f3de",
   "metadata": {},
   "outputs": [
    {
     "name": "stdout",
     "output_type": "stream",
     "text": [
      "enter the two strings seperatted by ',' balmeet,balpreet\n",
      "balpreet is greater \n"
     ]
    }
   ],
   "source": [
    "s1,s2=input(\"enter the two strings seperatted by ',' \").split(\",\")\n",
    "def max_string(string1,string2):\n",
    "    if len(string1)==len(string2):\n",
    "        print(\"string1 is : \\n \", string1)\n",
    "        print(\"string2 is : \\n \", string2)\n",
    "    elif len(string1)>len(string2):\n",
    "        print(string1, \"is greater \")\n",
    "    else:\n",
    "        print(string2, \"is greater \")\n",
    "max_string(s1,s2)"
   ]
  },
  {
   "cell_type": "markdown",
   "id": "c374dea3",
   "metadata": {},
   "source": [
    "###### q.32 Define a function that can accept an integer number as input and print the \"It is an even number\" if the number is even, otherwise print \"It is an odd number\". \n",
    "Hints: Use % operator to check if a number is even or odd. \n"
   ]
  },
  {
   "cell_type": "code",
   "execution_count": 155,
   "id": "d195a280",
   "metadata": {},
   "outputs": [
    {
     "name": "stdout",
     "output_type": "stream",
     "text": [
      "enter the number 36\n",
      "36 is even num\n"
     ]
    }
   ],
   "source": [
    "num1=int(input(\"enter the number \"  ))\n",
    "def even_num(num):\n",
    "    if num%2==0:\n",
    "        print(num,\"is even num\")\n",
    "    else:\n",
    "        print(num,\" is odd nimber \")\n",
    "even_num(num1)\n",
    "        \n"
   ]
  },
  {
   "cell_type": "markdown",
   "id": "daaf2d2f",
   "metadata": {},
   "source": [
    "###### q.33 Define a function which can print a dictionary where the keys are numbers between 1 and 3 (both included) and the values are square of keys. \n",
    "Hints: Use dict[key]=value pattern to put entry into a dictionary.\n",
    " \n",
    "Use ** operator to get power of a number. \n",
    "\n"
   ]
  },
  {
   "cell_type": "code",
   "execution_count": 154,
   "id": "ca3a4b4d",
   "metadata": {},
   "outputs": [
    {
     "name": "stdout",
     "output_type": "stream",
     "text": [
      "{1: 1, 2: 4, 3: 27}\n"
     ]
    }
   ],
   "source": [
    "d={}\n",
    "def d1():\n",
    "    for i in range(1,4):\n",
    "        d[i]=i**i\n",
    "    return d\n",
    "print(d1())"
   ]
  },
  {
   "cell_type": "markdown",
   "id": "0b93a3be",
   "metadata": {},
   "source": [
    "###### q.34 Define a function which can print a dictionary where the keys are numbers between 1 and 20 (both included) and the values are square of keys. \n",
    "Hints: Use dict[key]=value pattern to put entry into a dictionary. \n",
    "Use ** operator to get power of a number. Use range() for loops. \n"
   ]
  },
  {
   "cell_type": "code",
   "execution_count": 6,
   "id": "2fbb1540",
   "metadata": {},
   "outputs": [],
   "source": [
    "## same as 33"
   ]
  },
  {
   "cell_type": "markdown",
   "id": "841d6e11",
   "metadata": {},
   "source": [
    "###### q.35 . Define a function which can generate a dictionary where the keys are numbers between 1 and 20 (both included) and the values are square of keys. The function should just print the values only. \n",
    "Hints: Use dict[key]=value pattern to put entry into a dictionary. Use ** operator to get power of a number. Use range() for loops. Use keys() to iterate keys in the dictionary. Also we can use item() to get key/value pairs. \n"
   ]
  },
  {
   "cell_type": "code",
   "execution_count": 152,
   "id": "2fe0ce97",
   "metadata": {},
   "outputs": [
    {
     "name": "stdout",
     "output_type": "stream",
     "text": [
      "the values of dict are :  dict_values([1, 4, 9, 16, 25, 36, 49, 64, 81, 100, 121, 144, 169, 196, 225, 256, 289, 324, 361, 400])\n"
     ]
    }
   ],
   "source": [
    "d={}\n",
    "def d1():\n",
    "    for key in range(1,21):\n",
    "        d[key]=key**2\n",
    "    return d.values()\n",
    "print(\"the values of dict are : \",d1())\n",
    "    \n"
   ]
  },
  {
   "cell_type": "markdown",
   "id": "7e665610",
   "metadata": {},
   "source": [
    "###### q.36 Define a function which can generate a dictionary where the keys are numbers between 1 and 20 (both included) and the values are square of keys. The function should just print the keys only. \n",
    "Hints: Use dict[key]=value pattern to put entry into a dictionary. Use ** operator to get power of a number. Use range() for loops. Use keys() to iterate keys in the dictionary. Also we can use item() to get key/value pairs. \n"
   ]
  },
  {
   "cell_type": "code",
   "execution_count": 147,
   "id": "c20f76db",
   "metadata": {},
   "outputs": [],
   "source": [
    "##same as q. 35"
   ]
  },
  {
   "cell_type": "markdown",
   "id": "b6b2de10",
   "metadata": {},
   "source": [
    "###### q.37 Define a function which can generate and print a list where the values are square of numbers between 1 and 20 (both included). \n",
    "Hints: Use ** operator to get power of a number. Use range() for loops. Use list.append() to add values into a list. \n"
   ]
  },
  {
   "cell_type": "code",
   "execution_count": 150,
   "id": "beba1003",
   "metadata": {},
   "outputs": [
    {
     "name": "stdout",
     "output_type": "stream",
     "text": [
      "[1, 4, 9, 16, 25, 36, 49, 64, 81, 100, 121, 144, 169, 196, 225, 256, 289, 324, 361, 400]\n"
     ]
    }
   ],
   "source": [
    "square_list=[]\n",
    "def square1():\n",
    "    for num in range(1,21):\n",
    "        square=num**2\n",
    "        square_list.append(square)\n",
    "    return square_list\n",
    "print(square1())\n",
    "    "
   ]
  },
  {
   "cell_type": "markdown",
   "id": "a0b1f791",
   "metadata": {},
   "source": [
    "###### q.38 Define a function which can generate a list where the values are square of numbers between 1 and 20 (both included). Then the function needs to print the first 5 elements in the list. \n",
    "Hints: Use ** operator to get power of a number. Use range() for loops. Use list.append() to add values into a list. Use [n1:n2] to slice a list \n"
   ]
  },
  {
   "cell_type": "code",
   "execution_count": 163,
   "id": "d8845177",
   "metadata": {},
   "outputs": [
    {
     "name": "stdout",
     "output_type": "stream",
     "text": [
      "first five elements of the list are :   [1, 4, 9, 16, 25]\n"
     ]
    }
   ],
   "source": [
    "def square():\n",
    "    for num in range(1,21):\n",
    "        num=num**2\n",
    "        l.append(num)\n",
    "    for j in range(0,5):\n",
    "        l1.append(l[j])\n",
    "    return l1\n",
    "l1=[]\n",
    "l=[]\n",
    "print(\"first five elements of the list are :  \",square())\n"
   ]
  },
  {
   "cell_type": "markdown",
   "id": "e9ae2e81",
   "metadata": {},
   "source": [
    "###### q.39 Define a function which can generate a list where the values are square of numbers between 1 and 20 (both included). Then the function needs to print the last 5 elements in the list. \n",
    "Hints: Use ** operator to get power of a number. Use range() for loops. Use list.append() to add values into a list. Use [n1:n2] to slice a list \n"
   ]
  },
  {
   "cell_type": "code",
   "execution_count": 133,
   "id": "bfea99aa",
   "metadata": {},
   "outputs": [
    {
     "name": "stdout",
     "output_type": "stream",
     "text": [
      "first five elements of the list are :   [256, 289, 324, 361, 400]\n"
     ]
    }
   ],
   "source": [
    "def last_elements():\n",
    "    for num in range(1,21):\n",
    "        num=num**2\n",
    "        l.append(num)\n",
    "    return (l[len(l)-5:len(l)])\n",
    "l=[]\n",
    "print(\"first five elements of the list are :  \",last_elements())\n"
   ]
  },
  {
   "cell_type": "markdown",
   "id": "7f214c88",
   "metadata": {},
   "source": [
    "###### q.40 Define a function which can generate a list where the values are square of numbers between 1 and 20 (both included). Then the function needs to print all values except the first 5 elements in the list. \n",
    "Hints: Use ** operator to get power of a number. Use range() for loops. Use list.append() to add values into a list. Use [n1:n2] to slice a list \n"
   ]
  },
  {
   "cell_type": "code",
   "execution_count": 134,
   "id": "6055da82",
   "metadata": {},
   "outputs": [
    {
     "name": "stdout",
     "output_type": "stream",
     "text": [
      " elements of the list except first 5 elements :   [36, 49, 64, 81, 100, 121, 144, 169, 196, 225, 256, 289, 324, 361, 400]\n"
     ]
    }
   ],
   "source": [
    "def list_elements():\n",
    "    for num in range(1,21):\n",
    "        num=num**2\n",
    "        l.append(num)\n",
    "        l1=l[5:len(l)]\n",
    "    return l1\n",
    "l1=[]\n",
    "l=[]\n",
    "print(\" elements of the list except first 5 elements :  \",list_elements())\n"
   ]
  },
  {
   "cell_type": "markdown",
   "id": "4f8f69a6",
   "metadata": {},
   "source": [
    "###### q.41 Define a function which can generate and print a tuple where the value are square of numbers between 1 and 20 (both included). \n",
    "Hints: Use ** operator to get power of a number. Use range() for loops. Use list.append() to add values into a list. Use tuple() to get a tuple from a list. \n"
   ]
  },
  {
   "cell_type": "code",
   "execution_count": 165,
   "id": "40e370ee",
   "metadata": {},
   "outputs": [
    {
     "name": "stdout",
     "output_type": "stream",
     "text": [
      "first five elements of the list are :   (1, 4, 9, 16, 25, 36, 49, 64, 81, 100, 121, 144, 169, 196, 225, 256, 289, 324, 361, 400)\n"
     ]
    }
   ],
   "source": [
    "def square():\n",
    "    for num in range(1,21):\n",
    "        num=num**2\n",
    "        l.append(num)\n",
    "        t=tuple(l)\n",
    "    return t\n",
    "l=[]\n",
    "print(\"first five elements of the list are :  \",square())\n"
   ]
  },
  {
   "cell_type": "markdown",
   "id": "2da4c167",
   "metadata": {},
   "source": [
    "###### q.42 With a given tuple (1,2,3,4,5,6,7,8,9,10), write a program to print the first half values in one line and the last half values in one line. \n",
    "Hints: Use [n1:n2] notation to get a slice from a tuple. \n"
   ]
  },
  {
   "cell_type": "code",
   "execution_count": 174,
   "id": "a1cd6a7f",
   "metadata": {},
   "outputs": [
    {
     "name": "stdout",
     "output_type": "stream",
     "text": [
      "first half values of the tuple are :   (1, 2, 3, 4, 5)\n",
      "second half values are  (6, 7, 8, 9, 10)\n"
     ]
    }
   ],
   "source": [
    "t=(1,2,3,4,5,6,7,8,9,10)\n",
    "print(\"first half values of the tuple are :  \",t[0:(len(t)//2)])\n",
    "print(\"second half values are \",t[len(t)//2:len(t)])\n",
    "\n",
    "    "
   ]
  },
  {
   "cell_type": "markdown",
   "id": "4ee2d66c",
   "metadata": {},
   "source": [
    "###### q.43 Write a program to generate and print another tuple whose values are even numbers in the given tuple (1,2,3,4,5,6,7,8,9,10). \n",
    "Hints: Use \"for\" to iterate the tuple. Use tuple() to generate a tuple from a list. \n"
   ]
  },
  {
   "cell_type": "code",
   "execution_count": 176,
   "id": "ce6ae04e",
   "metadata": {},
   "outputs": [
    {
     "name": "stdout",
     "output_type": "stream",
     "text": [
      "2\n",
      "4\n",
      "6\n",
      "8\n",
      "10\n"
     ]
    }
   ],
   "source": [
    "t=(1,2,3,4,5,6,7,8,9,10)\n",
    "for j in t:\n",
    "    if j%2==0:\n",
    "        print(j)"
   ]
  },
  {
   "cell_type": "markdown",
   "id": "7108ed77",
   "metadata": {},
   "source": [
    "###### q.44 Write a program which accepts a string as input to print \"Yes\" if the string is \"yes\" or \"YES\" or \"Yes\", otherwise print \"No\". \n",
    "Hints: Use if statement to judge condition. \n"
   ]
  },
  {
   "cell_type": "code",
   "execution_count": 181,
   "id": "4ec74a41",
   "metadata": {},
   "outputs": [
    {
     "name": "stdout",
     "output_type": "stream",
     "text": [
      "enter the string : Yes\n",
      "Yes\n"
     ]
    }
   ],
   "source": [
    "st=input(\"enter the string : \")\n",
    "if st ==\"YES\" or st==\"Yes\" or st==\"yes\":\n",
    "    print(\"Yes\")\n",
    "else:\n",
    "    print(\"No\")"
   ]
  },
  {
   "cell_type": "markdown",
   "id": "5611e61f",
   "metadata": {},
   "source": [
    "###### q.45  Write a program which can filter even numbers in a list by using filter function. The list is: [1,2,3,4,5,6,7,8,9,10]. \n",
    "Hints: use filter() to filter some elements in a list. Use lambda to define anonymous functions. \n"
   ]
  },
  {
   "cell_type": "code",
   "execution_count": 185,
   "id": "b9dfdb83",
   "metadata": {},
   "outputs": [
    {
     "name": "stdout",
     "output_type": "stream",
     "text": [
      "[2, 4, 6, 8, 10]\n"
     ]
    }
   ],
   "source": [
    "l=[1,2,3,4,5,6,7,8,9,10]\n",
    "even_num=list(filter(lambda num:num%2==0,l))\n",
    "print(even_num)"
   ]
  },
  {
   "cell_type": "markdown",
   "id": "e55c90a2",
   "metadata": {},
   "source": [
    "###### q.46 Write a program which can map() to make a list whose elements are square of elements in [1,2,3,4,5,6,7,8,9,10]. \n",
    "Hints: Use map() to generate a list. Use lambda to define anonymous functions. \n"
   ]
  },
  {
   "cell_type": "code",
   "execution_count": 186,
   "id": "2350c7da",
   "metadata": {},
   "outputs": [
    {
     "name": "stdout",
     "output_type": "stream",
     "text": [
      "[1, 4, 9, 16, 25, 36, 49, 64, 81, 100]\n"
     ]
    }
   ],
   "source": [
    "l=[1,2,3,4,5,6,7,8,9,10]\n",
    "square_list=list(map(lambda num:num**2,l))\n",
    "print(square_list)"
   ]
  },
  {
   "cell_type": "markdown",
   "id": "aa34f93d",
   "metadata": {},
   "source": [
    "###### q.47 Write a program which can map() and filter() to make a list whose elements are square of even number in [1,2,3,4,5,6,7,8,9,10]. \n",
    "Hints: Use map() to generate a list. Use filter() to filter elements of a list. Use lambda to define anonymous functions. \n"
   ]
  },
  {
   "cell_type": "code",
   "execution_count": 187,
   "id": "ed84f789",
   "metadata": {},
   "outputs": [
    {
     "name": "stdout",
     "output_type": "stream",
     "text": [
      "[4, 16, 36, 64, 100]\n"
     ]
    }
   ],
   "source": [
    "l=[1,2,3,4,5,6,7,8,9,10]\n",
    "even_num=list(filter(lambda num:num%2==0,l))\n",
    "square_list=list(map(lambda num:num**2,even_num))\n",
    "print(square_list)"
   ]
  },
  {
   "cell_type": "markdown",
   "id": "8312c464",
   "metadata": {},
   "source": [
    "###### q.48 Write a program which can filter() to make a list whose elements are even number between 1 and 20 (both included). \n",
    "\n",
    " \n",
    "Hints: Use filter() to filter elements of a list. Use lambda to define anonymous functions. \n"
   ]
  },
  {
   "cell_type": "code",
   "execution_count": 188,
   "id": "4ca4697b",
   "metadata": {},
   "outputs": [
    {
     "name": "stdout",
     "output_type": "stream",
     "text": [
      "[4, 16, 36, 64, 100, 144, 196, 256, 324, 400]\n"
     ]
    }
   ],
   "source": [
    "l=[]\n",
    "for i in range(1,21):\n",
    "    l.append(i**2)\n",
    "even_num=list(filter(lambda num:num%2==0,l))\n",
    "print(even_num)\n",
    "    "
   ]
  },
  {
   "cell_type": "markdown",
   "id": "508e889f",
   "metadata": {},
   "source": [
    "###### q.49 Write a program which can map() to make a list whose elements are square of numbers between 1 and 20 (both included). \n",
    "Hints: Use map() to generate a list. Use lambda to define anonymous functions. \n"
   ]
  },
  {
   "cell_type": "code",
   "execution_count": 191,
   "id": "59d3a2f6",
   "metadata": {},
   "outputs": [
    {
     "name": "stdout",
     "output_type": "stream",
     "text": [
      "[1, 4, 9, 16, 25, 36, 49, 64, 81, 100, 121, 144, 169, 196, 225, 256, 289, 324, 361, 400]\n"
     ]
    }
   ],
   "source": [
    "l=[]\n",
    "for i in range(1,21):\n",
    "    l.append(i)\n",
    "square_list=list(map(lambda num:num**2,l))\n",
    "print(square_list)"
   ]
  },
  {
   "cell_type": "markdown",
   "id": "ffb92a07",
   "metadata": {},
   "source": [
    "###### q.50 Define a class named American which has a static method called printNationality. \n",
    "Hints: Use @staticmethod decorator to define class static method. \n"
   ]
  },
  {
   "cell_type": "code",
   "execution_count": null,
   "id": "256217f0",
   "metadata": {},
   "outputs": [],
   "source": []
  },
  {
   "cell_type": "markdown",
   "id": "1aa0209e",
   "metadata": {},
   "source": [
    "###### q.51 . Define a class named American and its subclass NewYorker. \n",
    "Hints: Use class Subclass(ParentClass) to define a subclass. \n"
   ]
  },
  {
   "cell_type": "code",
   "execution_count": 138,
   "id": "fc2fc0ad",
   "metadata": {},
   "outputs": [
    {
     "name": "stdout",
     "output_type": "stream",
     "text": [
      "the  Newyork  is the capital of  america\n"
     ]
    }
   ],
   "source": [
    "class American:\n",
    "    def __init__(self,a):\n",
    "        self.area=\"10 sq mi\"\n",
    "        self.population=\"32.95 Cr\"\n",
    "        self.name=a\n",
    "class Newyork(American):\n",
    "    def __init__(self,capital1):\n",
    "        American.__init__(self,\"america\")\n",
    "        self.capital=capital1\n",
    "    def info(self):\n",
    "        print(\"the \",self.capital,\" is the capital of \",self.name  )\n",
    "n=Newyork(\"Newyork\")\n",
    "n.info()              "
   ]
  },
  {
   "cell_type": "markdown",
   "id": "adbbe631",
   "metadata": {},
   "source": [
    "###### q.52 Define a class named Circle which can be constructed by a radius. The Circle class has a method which can compute the area. \n",
    "Hints: Use def methodName(self) to define a method\n"
   ]
  },
  {
   "cell_type": "code",
   "execution_count": 141,
   "id": "1228d270",
   "metadata": {},
   "outputs": [
    {
     "name": "stdout",
     "output_type": "stream",
     "text": [
      "enter the number of circles you want to get their area2\n",
      "enter the radius3\n",
      "enter the radius4\n",
      "[28.259999999999998, 50.24]\n"
     ]
    }
   ],
   "source": [
    "class Circle:\n",
    "    def __init__(self,r):\n",
    "        self.radius=r\n",
    "    def area(self):\n",
    "        area = 3.14*self.radius*self.radius\n",
    "        l.append(area)\n",
    "l=[]\n",
    "n=int(input(\"enter the number of circles you want to get their area\"))\n",
    "for c in range(1,n+1):\n",
    "    r1=int(input(\"enter the radius\"))\n",
    "    k=Circle(r1)\n",
    "    k.area()\n",
    "print(l)\n",
    "    "
   ]
  },
  {
   "cell_type": "markdown",
   "id": "da0fb0f6",
   "metadata": {},
   "source": [
    "###### q.53 Define a class named Rectangle which can be constructed by a length and width. The Rectangle class has a method which can compute the area. \n",
    "Hints: Use def methodName(self) to define a method. \n"
   ]
  },
  {
   "cell_type": "code",
   "execution_count": 143,
   "id": "0d4debe4",
   "metadata": {},
   "outputs": [
    {
     "name": "stdout",
     "output_type": "stream",
     "text": [
      "the area is  20\n"
     ]
    }
   ],
   "source": [
    "class Rectangle:\n",
    "    def __init__(self,l,b):\n",
    "        self.length=l\n",
    "        self.breadth=b\n",
    "    def area(self):\n",
    "        area = self.length*self.breadth\n",
    "        print(\"the area is \",area)\n",
    "k=Rectangle(4,5)\n",
    "k.area()\n",
    "\n",
    "    "
   ]
  },
  {
   "cell_type": "markdown",
   "id": "8631b116",
   "metadata": {},
   "source": [
    "###### q.54 . Define a class named Shape and its subclass Square. The Square class has an init function which takes a length as argument. Both classes have a area function which can print the area of the shape where Shape's area is 0 by default. \n",
    "Hints: To override a method in super class, we can define a method with the same name in the super class. \n"
   ]
  },
  {
   "cell_type": "code",
   "execution_count": 145,
   "id": "d463aa3c",
   "metadata": {},
   "outputs": [
    {
     "name": "stdout",
     "output_type": "stream",
     "text": [
      "the area of shape is  0\n",
      "the area of square is  9\n"
     ]
    }
   ],
   "source": [
    "class Shape:\n",
    "    def __init__(self,length):\n",
    "        self.l=length   \n",
    "    def area(self):\n",
    "        print(\"the area of shape is \", 0)\n",
    "class Square(Shape):\n",
    "    def area(self):\n",
    "        super().area()\n",
    "        area=self.l*self.l\n",
    "        print(\"the area of square is \",area)\n",
    "s=Square(3)\n",
    "s.area()\n",
    "\n",
    "\n",
    "            \n",
    "    "
   ]
  },
  {
   "cell_type": "markdown",
   "id": "8bf2c7f9",
   "metadata": {},
   "source": [
    "###### q.55 Write a function to compute 5/0 and use try/except to catch the exceptions. \n",
    "Hints: Use try/except to catch exceptions. \n"
   ]
  },
  {
   "cell_type": "code",
   "execution_count": 166,
   "id": "431e9634",
   "metadata": {},
   "outputs": [
    {
     "name": "stdout",
     "output_type": "stream",
     "text": [
      "enter the number5\n",
      "enter the divisor0\n",
      "kindly enter the divisor >0\n",
      "enter the divisor23\n",
      "the result is  0.21739130434782608\n"
     ]
    }
   ],
   "source": [
    "dividend=int(input(\"enter the number\"))\n",
    "while True:\n",
    "    divisor=int(input(\"enter the divisor\"))\n",
    "    try:\n",
    "        result=dividend/divisor\n",
    "        print(\"the result is \", result)\n",
    "        break\n",
    "    except:\n",
    "        print(\"kindly enter the divisor >0\")\n",
    "        continue\n",
    "        \n",
    "    \n"
   ]
  },
  {
   "cell_type": "markdown",
   "id": "9ee63cd9",
   "metadata": {},
   "source": [
    "##### q.56 Define a custom exception class which takes a string message as attribute. \n",
    "Hints: To define a custom exception, we need to define a class inherited from Exception. \n"
   ]
  },
  {
   "cell_type": "code",
   "execution_count": null,
   "id": "91aab460",
   "metadata": {},
   "outputs": [],
   "source": []
  },
  {
   "cell_type": "markdown",
   "id": "38bdd4db",
   "metadata": {},
   "source": [
    "###### q.57 Assuming that we have some email addresses in the \"username@companyname.com\" format, please write program to print the user name of a given email address. Both user names and company names are composed of letters only. \n",
    "If the following email address is given as input to the program: Chandra@gdhdhtc.com \n",
    "Then, the output of the program should be: Chandra \n",
    "\n",
    " \n",
    "In case of input data being supplied to the question, it should be assumed to be a console input. \n",
    "Hints: Use \\w to match letters. \n"
   ]
  },
  {
   "cell_type": "code",
   "execution_count": 195,
   "id": "90f89315",
   "metadata": {},
   "outputs": [
    {
     "name": "stdout",
     "output_type": "stream",
     "text": [
      "enter the valid  email address: balmeet@gmail.com\n",
      "email is :  balmeet@gmail.com\n",
      "username is :   balmeet\n"
     ]
    }
   ],
   "source": [
    "email=input(\"enter the valid  email address: \")\n",
    "print(\"email is : \",email)\n",
    "l=email.split(\"@\")\n",
    "print(\"username is :  \",l[0])"
   ]
  },
  {
   "cell_type": "markdown",
   "id": "7fdbaece",
   "metadata": {},
   "source": [
    "###### q.58  Assuming that we have some email addresses in the \"username@companyname.com\" format, please write program to print the company name of a given email address. Both user names and company names are composed of letters only. \n",
    "If the following email address is given as input to the program: Chandra@analytixlabs.com \n",
    "Then, the output of the program should be: analytixlabs \n",
    "In case of input data being supplied to the question, it should be assumed to be a console input. \n",
    "Hints: Use \\w to match letters \n"
   ]
  },
  {
   "cell_type": "code",
   "execution_count": null,
   "id": "56b75da7",
   "metadata": {},
   "outputs": [],
   "source": []
  },
  {
   "cell_type": "markdown",
   "id": "54738ab2",
   "metadata": {},
   "source": [
    "###### q.59Write a program which accepts a sequence of words separated by whitespace as input to print the words composed of digits only. \n",
    "If the following words are given as input to the program: 2 cats and 3 dogs. \n",
    "Then, the output of the program should be: ['2', '3'] \n",
    "In case of input data being supplied to the question, it should be assumed to be a console input. \n",
    "Hints: Use re.findall() to find all substring using regex. \n"
   ]
  },
  {
   "cell_type": "code",
   "execution_count": 4,
   "id": "7f0d73ad",
   "metadata": {},
   "outputs": [
    {
     "name": "stdout",
     "output_type": "stream",
     "text": [
      "enter the wordsbalmeet5 balpreet23 78 4 avi@\n",
      "the words are :  ['balmeet5', 'balpreet23', '78', '4', 'avi@']\n",
      "['78', '4']\n"
     ]
    }
   ],
   "source": [
    "list_words=input(\"enter the words\").split(\" \")\n",
    "digit=[]\n",
    "print(\"the words are : \",list_words)\n",
    "for word in list_words:\n",
    "    if word.isdigit():\n",
    "        digit.append(word)\n",
    "print(digit)"
   ]
  },
  {
   "cell_type": "markdown",
   "id": "e018d598",
   "metadata": {},
   "source": [
    "###### q.60 Print a unicode string \"hello world\". \n",
    "Hints: Use u'strings' format to define unicode string. \n"
   ]
  },
  {
   "cell_type": "code",
   "execution_count": null,
   "id": "516806d9",
   "metadata": {},
   "outputs": [],
   "source": []
  },
  {
   "cell_type": "markdown",
   "id": "bb7cfdce",
   "metadata": {},
   "source": [
    "###### q.61 Write a program to read an ASCII string and to convert it to a unicode string encoded by utf-8. \n",
    "Hints: Use unicode() function to convert\n"
   ]
  },
  {
   "cell_type": "code",
   "execution_count": null,
   "id": "29c0d9d5",
   "metadata": {},
   "outputs": [],
   "source": []
  },
  {
   "cell_type": "markdown",
   "id": "0f3e1eb1",
   "metadata": {},
   "source": [
    "###### q.62 . Write a special comment to indicate a Python source code file is in unicode. "
   ]
  },
  {
   "cell_type": "code",
   "execution_count": null,
   "id": "b0c975f4",
   "metadata": {},
   "outputs": [],
   "source": []
  },
  {
   "cell_type": "markdown",
   "id": "9088afe3",
   "metadata": {},
   "source": [
    "###### q.63 Write a program to compute 1/2+2/3+3/4+...+n/n+1 with a given n input by console (n>0). \n",
    "If the following n is given as input to the program: 5 \n",
    "Then, the output of the program should be: 3.5\n",
    " \n",
    "In case of input data being supplied to the question, it should be assumed to be a console input. \n",
    "Hints: Use float() to convert an integer to a float \n"
   ]
  },
  {
   "cell_type": "code",
   "execution_count": 8,
   "id": "f5e7f601",
   "metadata": {},
   "outputs": [
    {
     "name": "stdout",
     "output_type": "stream",
     "text": [
      "enter the value of n :  5\n",
      "sum of the series  1/2+2/3+3/4 is :   4.0\n"
     ]
    }
   ],
   "source": [
    "n=int(input(\"enter the value of n :  \"))\n",
    "s=0\n",
    "if n==0:\n",
    "    print(\"the value of shoulb be > 0\")\n",
    "else:\n",
    "    for i in (1,n+1):\n",
    "        s=s+(i/i+1)\n",
    "    print(\"sum of the series  1/2+2/3+3/4 is :  \",s)"
   ]
  },
  {
   "cell_type": "markdown",
   "id": "e6a9e101",
   "metadata": {},
   "source": [
    "###### q.64 Write a program to compute: \n",
    "f(n)=f(n-1)+100 when n>0 \n",
    "and f(0)=1 \n",
    "with a given n input by console (n>0). \n",
    "If the following n is given as input to the program: 5 \n",
    "Then, the output of the program should be: 500 \n",
    "In case of input data being supplied to the question, it should be assumed to be a console input. \n",
    "Hints: We can define recursive function in Python. \n"
   ]
  },
  {
   "cell_type": "code",
   "execution_count": null,
   "id": "164dd023",
   "metadata": {},
   "outputs": [],
   "source": []
  },
  {
   "cell_type": "markdown",
   "id": "2492aeb2",
   "metadata": {},
   "source": [
    "###### q.65 . The Fibonacci sequence is computed based on the following formula: \n",
    "f(n)=0 if n=0 \n",
    "f(n)=1 if n=1 \n",
    "f(n)=f(n-1)+f(n-2) if n>1 \n",
    "Please write a program to compute the value of f(n) with a given n input by console. \n",
    "If the following n is given as input to the program: 7 \n",
    "Then, the output of the program should be: 13 \n",
    "In case of input data being supplied to the question, it should be assumed to be a console input. \n",
    "Hints: We can define recursive function in Python. \n"
   ]
  },
  {
   "cell_type": "code",
   "execution_count": null,
   "id": "899acb0a",
   "metadata": {},
   "outputs": [],
   "source": []
  },
  {
   "cell_type": "markdown",
   "id": "1a171338",
   "metadata": {},
   "source": [
    "###### q.66 The Fibonacci sequence is computed based on the following formula: \n",
    "f(n)=0 if n=0 \n",
    "f(n)=1 if n=1 \n",
    "f(n)=f(n-1)+f(n-2) if n>1 \n",
    "\n",
    " \n",
    "Please write a program using list comprehension to print the Fibonacci sequence in comma separated form with a given n input by console. \n",
    "If the following n is given as input to the program: 7 \n",
    "Then, the output of the program should be: 0, 1, 1, 2, 3, 5, 8, 13 \n",
    "Hints: We can define recursive function in Python. Use list comprehension to generate a list from an existing list. Use string.join() to join a list of strings. In case of input data being supplied to the question, it should be assumed to be a console input. \n"
   ]
  },
  {
   "cell_type": "code",
   "execution_count": null,
   "id": "b0a37315",
   "metadata": {},
   "outputs": [],
   "source": []
  },
  {
   "cell_type": "markdown",
   "id": "3acd31ef",
   "metadata": {},
   "source": [
    "###### q.67 Please write a program using generator to print the even numbers between 0 and n in comma separated form while n is input by console. \n",
    "Example: If the following n is given as input to the program: 10 \n",
    "Then, the output of the program should be: 0,2,4,6,8,10 \n",
    "Hints: Use yield to produce the next value in generator. In case of input data being supplied to the question, it should be assumed to be a console input. \n"
   ]
  },
  {
   "cell_type": "code",
   "execution_count": 206,
   "id": "6acf10ee",
   "metadata": {},
   "outputs": [
    {
     "name": "stdout",
     "output_type": "stream",
     "text": [
      "enter the value of n 6\n",
      "[0, 2, 4, 6]\n"
     ]
    }
   ],
   "source": [
    "def even_num(n1):\n",
    "    for i in range(0,n1+1):\n",
    "        if(i%2==0):\n",
    "            l.append(i)\n",
    "    yield l\n",
    "l=[]\n",
    "n=int(input(\"enter the value of n \"))\n",
    "result=iter(even_num(n))\n",
    "print(next(result))"
   ]
  },
  {
   "cell_type": "markdown",
   "id": "f8543a10",
   "metadata": {},
   "source": [
    "###### q.68 Please write a program using generator to print the numbers which can be divisible by 5 and 7 between 0 and n in comma separated form while n is input by console. \n",
    "If the following n is given as input to the program: 100 \n",
    "Then, the output of the program should be: 0, 35, 70 \n",
    "Hints: Use yield to produce the next value in generator. In case of input data being supplied to the question, it should be assumed to be a console input. \n"
   ]
  },
  {
   "cell_type": "code",
   "execution_count": 203,
   "id": "bd94f768",
   "metadata": {},
   "outputs": [
    {
     "name": "stdout",
     "output_type": "stream",
     "text": [
      "enter the value of n 100\n",
      "[0, 35, 70]\n"
     ]
    }
   ],
   "source": [
    "def even_num(n1):\n",
    "    for i in range(0,n1+1):\n",
    "        if(i%5==0 and i%7==0):\n",
    "            l.append(i)\n",
    "    yield l\n",
    "l=[]\n",
    "n=int(input(\"enter the value of n \"))\n",
    "result=iter(even_num(n))\n",
    "print(next(result))"
   ]
  },
  {
   "cell_type": "markdown",
   "id": "f6403966",
   "metadata": {},
   "source": [
    "###### q.69 Please write assert statements to verify that every number in the list [2,4,6,8] is even. \n",
    "Hints: Use \"assert expression\" to make assertion. \n"
   ]
  },
  {
   "cell_type": "code",
   "execution_count": null,
   "id": "1cdc2243",
   "metadata": {},
   "outputs": [],
   "source": []
  },
  {
   "cell_type": "markdown",
   "id": "d117fe27",
   "metadata": {},
   "source": [
    "###### q.70 Please write a program which accepts basic mathematic expression from console and print the evaluation result. \n",
    "If the following string is given as input to the program: 35+3 \n",
    "Then, the output of the program should be: 38 \n",
    "Hints: Use eval() to evaluate an expression. \n"
   ]
  },
  {
   "cell_type": "code",
   "execution_count": 11,
   "id": "8dcfdd63",
   "metadata": {},
   "outputs": [
    {
     "name": "stdout",
     "output_type": "stream",
     "text": [
      "enter the mathematic expression 65+8+9\n",
      "result is :  82\n"
     ]
    }
   ],
   "source": [
    "expression=input(\"enter the mathematic expression \")\n",
    "result=eval(expression)\n",
    "print(\"result is : \" , result)"
   ]
  },
  {
   "cell_type": "markdown",
   "id": "979a9ae3",
   "metadata": {},
   "source": [
    "###### q. 71 PROBLEM Please write a binary search function which searches an item in a sorted list. The function should return the index of element to be searched in the list. \n",
    "Hints: Use if/elif to deal with conditions\n"
   ]
  },
  {
   "cell_type": "code",
   "execution_count": 5,
   "id": "94429fe2",
   "metadata": {},
   "outputs": [
    {
     "name": "stdout",
     "output_type": "stream",
     "text": [
      "enter the elements in the list 2,3,4,5,6,7,8\n",
      "['2', '3', '4', '5', '6', '7', '8']\n",
      "[2, 3, 4, 5, 6, 7, 8]\n",
      "enter the element to be searched 3\n",
      "3 is found at index   1\n"
     ]
    }
   ],
   "source": [
    "def binary_search(l,beg,end,element):\n",
    "    if end>beg:\n",
    "        mid=(beg+end)//2\n",
    "        #print(\"mid \", mid)\n",
    "        if l[mid]==element:\n",
    "            print(element ,\"is found at index  \",mid)\n",
    "        elif element <l[mid]:\n",
    "            return binary_search(l[beg:mid],beg,mid-1,element)\n",
    "        elif element >l[mid]:\n",
    "            return binary_search(l[mid+1:len(l)],mid+1,len(l)-1,element)\n",
    "        else:\n",
    "            print(element,\"element is not found in the list \")\n",
    "    elif (end==beg):\n",
    "        if element ==l[beg]:\n",
    "            print(\"element u=is found at index \",end)\n",
    "list1=input(\"enter the elements in the list \").split(\",\")\n",
    "l1=sorted(list1)\n",
    "print(l1)\n",
    "l2=[]\n",
    "for k in l1:\n",
    "    k=int(k)\n",
    "    l2.append(k)\n",
    "print(l2)\n",
    "beg=0\n",
    "end=len(l2)-1\n",
    "number=int(input(\"enter the element to be searched \"))\n",
    "binary_search(l2,beg,end,number)"
   ]
  },
  {
   "cell_type": "markdown",
   "id": "11e848d6",
   "metadata": {},
   "source": [
    "###### Q.72 Please write a binary search function which searches an item in a sorted list. The function should return the index of element to be searched in the list. \n",
    "Hints: Use if/elif to deal with conditions. \n"
   ]
  },
  {
   "cell_type": "markdown",
   "id": "99d48e10",
   "metadata": {},
   "source": [
    "SAME AS 71"
   ]
  },
  {
   "cell_type": "markdown",
   "id": "fa0f4ab7",
   "metadata": {},
   "source": [
    "###### Q.73 . Please generate a random float where the value is between 10 and 100 using Python math module. \n",
    "Hints: Use random.random() to generate a random float in [0,1]. \n"
   ]
  },
  {
   "cell_type": "code",
   "execution_count": 23,
   "id": "260bdca4",
   "metadata": {},
   "outputs": [
    {
     "name": "stdout",
     "output_type": "stream",
     "text": [
      "57.63914617574596\n"
     ]
    }
   ],
   "source": [
    "import random\n",
    "print(random.uniform(10,100))"
   ]
  },
  {
   "cell_type": "markdown",
   "id": "ce2fdf30",
   "metadata": {},
   "source": [
    "###### q.74 Please generate a random float where the value is between 5 and 95 using Python math module. \n",
    "Hints: Use random.random() to generate a random float in [0,1]. \n"
   ]
  },
  {
   "cell_type": "code",
   "execution_count": 24,
   "id": "9219d09c",
   "metadata": {},
   "outputs": [
    {
     "name": "stdout",
     "output_type": "stream",
     "text": [
      "50.3919543068288\n"
     ]
    }
   ],
   "source": [
    "import random\n",
    "print(random.uniform(5,95))"
   ]
  },
  {
   "cell_type": "markdown",
   "id": "94bfca63",
   "metadata": {},
   "source": [
    "###### q.75 Please write a program to output a random even number between 0 and 10 inclusive using random module and list comprehension. \n",
    "Hints: Use random.choice() to a random element from a list. \n"
   ]
  },
  {
   "cell_type": "code",
   "execution_count": 27,
   "id": "cf395585",
   "metadata": {},
   "outputs": [
    {
     "name": "stdout",
     "output_type": "stream",
     "text": [
      "[8]\n"
     ]
    }
   ],
   "source": [
    "import random\n",
    "value=[random.choice(range(0,10,2))]\n",
    "print(value)\n"
   ]
  },
  {
   "cell_type": "markdown",
   "id": "77a3812b",
   "metadata": {},
   "source": [
    "###### q.76 Please write a program to output a random number, which is divisible by 5 and 7, between 0 and 10 inclusive using random module and list comprehension. \n",
    "Hints: Use random.choice() to a random element from a list. \n"
   ]
  },
  {
   "cell_type": "code",
   "execution_count": 36,
   "id": "aabdfdd0",
   "metadata": {},
   "outputs": [
    {
     "name": "stdout",
     "output_type": "stream",
     "text": [
      "0\n"
     ]
    }
   ],
   "source": [
    "import random\n",
    "value=random.choice([i for i in range(0,11) if (i%7==0 and i%5==0)])\n",
    "print(value)"
   ]
  },
  {
   "cell_type": "markdown",
   "id": "759fde3b",
   "metadata": {},
   "source": [
    "###### q.77 Please write a program to generate a list with 5 random numbers between 100 and 200 inclusive. \n",
    "Hints: Use random.sample() to generate a list of random values. \n"
   ]
  },
  {
   "cell_type": "code",
   "execution_count": 37,
   "id": "46d35b43",
   "metadata": {},
   "outputs": [
    {
     "name": "stdout",
     "output_type": "stream",
     "text": [
      "[169, 158, 111, 178, 151]\n"
     ]
    }
   ],
   "source": [
    "import random\n",
    "l=random.sample([i for i in range(100,201)],5)\n",
    "print(l)"
   ]
  },
  {
   "cell_type": "markdown",
   "id": "a1d0282c",
   "metadata": {},
   "source": [
    "###### q.78 Please write a program to randomly generate a list with 5 even numbers between 100 and 200 inclusive. \n",
    "Hints: Use random.sample() to generate a list of random values. \n"
   ]
  },
  {
   "cell_type": "code",
   "execution_count": 38,
   "id": "340e8107",
   "metadata": {},
   "outputs": [
    {
     "name": "stdout",
     "output_type": "stream",
     "text": [
      "[144, 104, 154, 156, 140]\n"
     ]
    }
   ],
   "source": [
    "import random\n",
    "l=random.sample([i for i in range(100,201) if i%2==0],5)\n",
    "print(l)"
   ]
  },
  {
   "cell_type": "markdown",
   "id": "e822bc3a",
   "metadata": {},
   "source": [
    "###### q.79 Please write a program to randomly generate a list with 5 numbers, which are divisible by 5 and 7 , between 1 and 1000 inclusive. \n",
    "Hints: Use random.sample() to generate a list of random values. \n"
   ]
  },
  {
   "cell_type": "code",
   "execution_count": 41,
   "id": "ccf1a74c",
   "metadata": {},
   "outputs": [
    {
     "name": "stdout",
     "output_type": "stream",
     "text": [
      "[805, 70, 210, 875, 770]\n"
     ]
    }
   ],
   "source": [
    "import random\n",
    "l=random.sample([i for i in range(1,1001) if (i%5==0 and i%7==0)],5)\n",
    "print(l)"
   ]
  },
  {
   "cell_type": "markdown",
   "id": "4ce11650",
   "metadata": {},
   "source": [
    "###### q.80 . Please write a program to randomly print a integer number between 7 and 15 inclusive. \n",
    "Hints: Use random.randrange() to a random integer in a given range. \n"
   ]
  },
  {
   "cell_type": "code",
   "execution_count": 42,
   "id": "5c2e2351",
   "metadata": {},
   "outputs": [
    {
     "name": "stdout",
     "output_type": "stream",
     "text": [
      "7\n"
     ]
    }
   ],
   "source": [
    "import random\n",
    "value=random.randint(7,15)\n",
    "print(value)"
   ]
  },
  {
   "cell_type": "markdown",
   "id": "0635fd4d",
   "metadata": {},
   "source": [
    "###### q.81 Please write a program to compress and decompress the string \"hello world!hello world!hello world!hello world!\". \n",
    "Hints: Use zlib.compress() and zlib.decompress() to compress and decompress a string. \n",
    "\n"
   ]
  },
  {
   "cell_type": "code",
   "execution_count": null,
   "id": "0705e8c1",
   "metadata": {},
   "outputs": [],
   "source": []
  },
  {
   "cell_type": "markdown",
   "id": "f9ae7f35",
   "metadata": {},
   "source": [
    "###### q.82 Please write a program to print the running time of execution of \"1+1\" for 100 times. \n",
    "Hints: Use timeit() function to measure the running time. \n"
   ]
  },
  {
   "cell_type": "code",
   "execution_count": null,
   "id": "3a8842f1",
   "metadata": {},
   "outputs": [],
   "source": []
  },
  {
   "cell_type": "markdown",
   "id": "e9eb724d",
   "metadata": {},
   "source": [
    "###### q.83 Please write a program to shuffle and print the list [3,6,7,8]. \n",
    "Hints: Use shuffle() function to shuffle a list. \n"
   ]
  },
  {
   "cell_type": "code",
   "execution_count": 44,
   "id": "5f61ec11",
   "metadata": {},
   "outputs": [
    {
     "name": "stdout",
     "output_type": "stream",
     "text": [
      "['kmb', 'avi', '10', 'a']\n"
     ]
    }
   ],
   "source": [
    "import random\n",
    "l=[\"a\",\"kmb\",\"avi\",\"10\"]\n",
    "random.shuffle(l)\n",
    "print(l)"
   ]
  },
  {
   "cell_type": "markdown",
   "id": "5787b201",
   "metadata": {},
   "source": [
    "###### q.84 Please write a program to shuffle and print the list [3,6,7,8]. \n",
    "Hints: Use shuffle() function to shuffle a list. \n"
   ]
  },
  {
   "cell_type": "markdown",
   "id": "c3f01e2c",
   "metadata": {},
   "source": [
    "same as 83"
   ]
  },
  {
   "cell_type": "markdown",
   "id": "14ade736",
   "metadata": {},
   "source": [
    "###### q.85 PROBLEM Please write a program to generate all sentences where subject is in [\"I\", \"You\"] and verb is in [\"Play\", \"Love\"] and the object is in [\"Hockey\",\"Football\"]. \n",
    "Hints: Use list[index] notation to get a element from a list. \n"
   ]
  },
  {
   "cell_type": "code",
   "execution_count": 164,
   "id": "d23206b9",
   "metadata": {},
   "outputs": [
    {
     "name": "stdout",
     "output_type": "stream",
     "text": [
      "sentence  1  : I Play Hockey\n",
      "sentence  2  : I Play Football\n",
      "sentence  3  : I Love Hockey\n",
      "sentence  4  : I Love Football\n",
      "sentence  5  : You Play Hockey\n",
      "sentence  6  : You Play Football\n",
      "sentence  7  : You Love Hockey\n",
      "sentence  8  : You Love Football\n"
     ]
    },
    {
     "data": {
      "text/plain": [
       "'print(\"sentence 1 :\",s[0]+\" \"+v[0]+\" \"+o[0])\\nprint(\"sentence 2 :\",s[1]+\" \"+v[1]+\" \"+o[1])\\nprint(\"sentence 3 :\",s[0]+\" \"+v[0]+\" \"+o[1])\\nprint(\"sentence 4 :\",s[1]+\" \"+v[1]+\" \"+o[0])\\nprint(\"sentence 4 :\",s[0]+\" \"+v[1]+\" \"+o[0])\\nprint(\"sentence 5 :\",s[1]+\" \"+v[0]+\" \"+o[0])\\nprint(\"sentence 6 :\",s[0]+\" \"+v[1]+\" \"+o[1])'"
      ]
     },
     "execution_count": 164,
     "metadata": {},
     "output_type": "execute_result"
    }
   ],
   "source": [
    "s= [\"I\", \"You\"]\n",
    "v=[\"Play\", \"Love\"]\n",
    "o=[\"Hockey\",\"Football\"]\n",
    "x=0\n",
    "for i in range(0,len(s)):\n",
    "    for j in range(0,len(v)):\n",
    "        for k in range(0,len(o)):\n",
    "            x=x+1\n",
    "            print(\"sentence \",x,\" :\",s[i]+\" \"+v[j]+\" \"+o[k])\n"
   ]
  },
  {
   "cell_type": "markdown",
   "id": "2ada3ee6",
   "metadata": {},
   "source": [
    "###### Q.86 Please write a program to print the list after removing delete even numbers in [5,6,77,45,22,12,24].\n",
    "Hints: Use list comprehension to delete a bunch of element from a list. \n"
   ]
  },
  {
   "cell_type": "code",
   "execution_count": 48,
   "id": "d1180b9a",
   "metadata": {},
   "outputs": [
    {
     "name": "stdout",
     "output_type": "stream",
     "text": [
      "[5, 77, 45]\n"
     ]
    }
   ],
   "source": [
    "l=[5,6,77,45,22,12,24]\n",
    "even_l=[ i for i in l if (i%2!=0)]\n",
    "print(even_l)"
   ]
  },
  {
   "cell_type": "markdown",
   "id": "5be14ed3",
   "metadata": {},
   "source": [
    "###### q.87By using list comprehension, please write a program to print the list after removing delete numbers which are divisible by 5 and 7 in [12,24,35,70,88,120,155]. \n",
    "Hints: Use list comprehension to delete a bunch of element from a list. \n"
   ]
  },
  {
   "cell_type": "code",
   "execution_count": 49,
   "id": "4b224982",
   "metadata": {},
   "outputs": [
    {
     "name": "stdout",
     "output_type": "stream",
     "text": [
      "[12, 24, 88]\n"
     ]
    }
   ],
   "source": [
    "l=[12,24,35,70,88,120,155]\n",
    "l1=[ i for i in l if (i%5!=0) and (i%7!=0 )]\n",
    "print(l1)"
   ]
  },
  {
   "cell_type": "raw",
   "id": "f0050206",
   "metadata": {},
   "source": [
    "###### q.89 PROBLEM By using list comprehension, please write a program generate a 3*5*8 3D array whose each element is 0. \n",
    "Hints: Use list  to make an array. \n",
    "a) without list comprehension\n"
   ]
  },
  {
   "cell_type": "code",
   "execution_count": 196,
   "id": "0d7ea497",
   "metadata": {},
   "outputs": [
    {
     "name": "stdout",
     "output_type": "stream",
     "text": [
      "[[0, 0, 0, 0, 0, 0], [0, 0, 0, 0, 0, 0], [0, 0, 0, 0, 0, 0]]\n",
      "[[0, 0, 0, 0, 0, 0], [0, 0, 0, 0, 0, 0], [0, 0, 0, 0, 0, 0]]\n",
      "[[0, 0, 0, 0, 0, 0], [0, 0, 0, 0, 0, 0], [0, 0, 0, 0, 0, 0]]\n",
      "final list is  :    \n",
      " [[[0, 0, 0, 0, 0, 0], [0, 0, 0, 0, 0, 0], [0, 0, 0, 0, 0, 0]], [[0, 0, 0, 0, 0, 0], [0, 0, 0, 0, 0, 0], [0, 0, 0, 0, 0, 0]], [[0, 0, 0, 0, 0, 0], [0, 0, 0, 0, 0, 0], [0, 0, 0, 0, 0, 0]]]\n"
     ]
    }
   ],
   "source": [
    "#a)\n",
    "''' [[[1,2,3,7,8,9],[6,7,6,8,9,0],[7,98,9,5,5,9]],\n",
    "[[1,2,3,7,8,9],[6,7,6,8,9,0],[7,98,9,5,5,9]],\n",
    "[[1,2,3,7,8,9],[6,7,6,8,9,0],[7,98,9,5,5,9]]]                                              \n",
    "'''\n",
    "\n",
    "l2=[]                                                     \n",
    "for i in range(0,3):\n",
    "    l1=[]\n",
    "    for j in range(0,3):\n",
    "        l=[]\n",
    "        for k in range(0,6):\n",
    "            l.append(0)\n",
    "        l1.append(l)\n",
    "    l2.append(l1)\n",
    "    print(l1)\n",
    "print(\"final list is  :    \\n\",l2)\n",
    "        "
   ]
  },
  {
   "cell_type": "code",
   "execution_count": 200,
   "id": "5cba6b6e",
   "metadata": {},
   "outputs": [
    {
     "name": "stdout",
     "output_type": "stream",
     "text": [
      "[array([[0., 0., 0., 0., 0., 0., 0., 0.],\n",
      "       [0., 0., 0., 0., 0., 0., 0., 0.],\n",
      "       [0., 0., 0., 0., 0., 0., 0., 0.],\n",
      "       [0., 0., 0., 0., 0., 0., 0., 0.],\n",
      "       [0., 0., 0., 0., 0., 0., 0., 0.]]), array([[0., 0., 0., 0., 0., 0., 0., 0.],\n",
      "       [0., 0., 0., 0., 0., 0., 0., 0.],\n",
      "       [0., 0., 0., 0., 0., 0., 0., 0.],\n",
      "       [0., 0., 0., 0., 0., 0., 0., 0.],\n",
      "       [0., 0., 0., 0., 0., 0., 0., 0.]]), array([[0., 0., 0., 0., 0., 0., 0., 0.],\n",
      "       [0., 0., 0., 0., 0., 0., 0., 0.],\n",
      "       [0., 0., 0., 0., 0., 0., 0., 0.],\n",
      "       [0., 0., 0., 0., 0., 0., 0., 0.],\n",
      "       [0., 0., 0., 0., 0., 0., 0., 0.]])]\n"
     ]
    }
   ],
   "source": [
    "#b)\n",
    "import numpy as np\n",
    "a=[i for i in np.zeros((3,5,8))]\n",
    "print(a)"
   ]
  },
  {
   "cell_type": "markdown",
   "id": "e4669253",
   "metadata": {},
   "source": [
    "###### Q.90 By using list comprehension, please write a program to print the list after removing the 0th,4th,5th numbers in [12,24,35,70,88,120,155]. \n",
    "Hints: Use list comprehension to delete a bunch of element from a list. Use enumerate() to get (index, value) tuple. \n"
   ]
  },
  {
   "cell_type": "markdown",
   "id": "45903f16",
   "metadata": {},
   "source": [
    "SAME AS 88"
   ]
  },
  {
   "cell_type": "code",
   "execution_count": null,
   "id": "1a771194",
   "metadata": {},
   "outputs": [],
   "source": []
  },
  {
   "cell_type": "markdown",
   "id": "ca047bdb",
   "metadata": {},
   "source": [
    "###### Q.91 By using list comprehension, please write a program to print the list after removing the value 24 in [12,24,35,24,88,120,155]. \n",
    "Hints: Use list's remove method to delete a value. \n"
   ]
  },
  {
   "cell_type": "code",
   "execution_count": 53,
   "id": "aead77eb",
   "metadata": {},
   "outputs": [
    {
     "name": "stdout",
     "output_type": "stream",
     "text": [
      "[12, 35, 88, 120, 155]\n"
     ]
    }
   ],
   "source": [
    "L= [12,24,35,24,88,120,155]\n",
    "L1=[i for i in L if i!=24]\n",
    "print(L1)\n"
   ]
  },
  {
   "cell_type": "markdown",
   "id": "428d8aa7",
   "metadata": {},
   "source": [
    "###### q.93 With two given lists [1,3,6,78,35,55] and [12,24,35,24,88,120,155], write a program to make a list whose elements are intersection of the above given lists. \n",
    "Hints: Use set() and \"&=\" to do set intersection operation. \n"
   ]
  },
  {
   "cell_type": "code",
   "execution_count": 57,
   "id": "e22b5b35",
   "metadata": {},
   "outputs": [
    {
     "name": "stdout",
     "output_type": "stream",
     "text": [
      "{35}\n"
     ]
    }
   ],
   "source": [
    "s1= [1,3,6,78,35,55]\n",
    "s1=set(s1)\n",
    "s2= [12,24,35,24,88,120,155]\n",
    "s2=set(s2)\n",
    "s=s1.intersection(s2)\n",
    "print(s)"
   ]
  },
  {
   "cell_type": "markdown",
   "id": "bd2e3a6d",
   "metadata": {},
   "source": [
    "###### q.94 Define a class Person and its two child classes: Male and Female. All classes have a method \"getGender\" which can print \"Male\" for Male class and \"Female\" for Female class. \n",
    "Hints: Use Subclass(Parentclass) to define a child class. \n"
   ]
  },
  {
   "cell_type": "code",
   "execution_count": 149,
   "id": "ead8c5e0",
   "metadata": {},
   "outputs": [
    {
     "name": "stdout",
     "output_type": "stream",
     "text": [
      "in female class the gender is  female\n",
      "in male class the gender is  Male\n"
     ]
    }
   ],
   "source": [
    "class Person:\n",
    "    def __init__(self,male1,female1):\n",
    "        self.male=male1\n",
    "        self.female=female1    \n",
    "class Male(Person):\n",
    "    def __init__(self):\n",
    "        super().__init__(\"Male\",\"female\")\n",
    "    def getGender(self):\n",
    "        print(\"in male class the gender is \",self.male)\n",
    "class Female(Person):\n",
    "    def __init__(self):\n",
    "        super().__init__(\"Male\",\"female\")\n",
    "    def getGender(self):\n",
    "        print(\"in female class the gender is \",self.female)\n",
    "m=Male()\n",
    "f=Female()\n",
    "f.getGender()\n",
    "m.getGender()\n",
    "\n",
    "    \n",
    "    "
   ]
  },
  {
   "cell_type": "markdown",
   "id": "b0a51312",
   "metadata": {},
   "source": [
    "###### q.95  Please write a program which count and print the numbers of each character in a string input by console. \n",
    "If the following string is given as input to the program: abcdefgabc \n",
    "Then, the output of the program should be: \n",
    "a,2 \n",
    "c,2 \n",
    "b,2 \n",
    "e,1 \n",
    "d,1 \n",
    "g,1 \n",
    "f,1 \n",
    "Hints: Use dict to store key/value pairs. Use dict.get() method to lookup a key with default value. \n"
   ]
  },
  {
   "cell_type": "code",
   "execution_count": 147,
   "id": "22220357",
   "metadata": {},
   "outputs": [
    {
     "name": "stdout",
     "output_type": "stream",
     "text": [
      "Counter({'a': 2, 'b': 2, 'c': 2, 'd': 1, 'e': 1, 'f': 1, 'g': 1})\n"
     ]
    }
   ],
   "source": [
    "from collections import Counter\n",
    "s=\"abcdefgabc\"\n",
    "c=Counter(s)\n",
    "print(c)\n"
   ]
  },
  {
   "cell_type": "markdown",
   "id": "ddaa0f9f",
   "metadata": {},
   "source": [
    "###### q.96 Please write a program which accepts a string from console and print it in reverse order. \n",
    "If the following string is given as input to the program: rise to vote sir \n",
    "Then, the output of the program should be: ris etov ot esir \n",
    "Hints: Use list[::-1] to iterate a list in a reverse order. \n"
   ]
  },
  {
   "cell_type": "code",
   "execution_count": 78,
   "id": "6aa6ac99",
   "metadata": {},
   "outputs": [
    {
     "name": "stdout",
     "output_type": "stream",
     "text": [
      "enter the stringbalmeet\n",
      "the reverse is :   teemlab\n"
     ]
    }
   ],
   "source": [
    "s=input(\"enter the string\")\n",
    "s1=s[::-1]\n",
    "print(\"the reverse is :  \", s1)"
   ]
  },
  {
   "cell_type": "markdown",
   "id": "a74cc060",
   "metadata": {},
   "source": [
    "###### q.97 Please write a program which accepts a string from console and print the characters that have even indexes. \n",
    "\n",
    " \n",
    "If the following string is given as input to the program: H1e2l3l4o5w6o7r8l9d \n",
    "Then, the output of the program should be: Helloworld \n",
    "Hints: Use list[::2] to iterate a list by step 2. \n",
    "\n"
   ]
  },
  {
   "cell_type": "code",
   "execution_count": 80,
   "id": "e64d5cdb",
   "metadata": {},
   "outputs": [
    {
     "name": "stdout",
     "output_type": "stream",
     "text": [
      "enter the stringbalmeet\n",
      "b\n",
      "l\n",
      "e\n",
      "t\n"
     ]
    }
   ],
   "source": [
    "s=input(\"enter the string\")\n",
    "for i in range(0,len(s)):\n",
    "    if i%2==0:\n",
    "        print(s[i])"
   ]
  },
  {
   "cell_type": "markdown",
   "id": "bc4c6815",
   "metadata": {},
   "source": [
    "###### q.98 . Please write a program which prints all permutations of [1, 2, 3] \n",
    "Hints: Use itertools.permutations() to get permutations of list. \n"
   ]
  },
  {
   "cell_type": "code",
   "execution_count": null,
   "id": "ff26dbe3",
   "metadata": {},
   "outputs": [],
   "source": []
  },
  {
   "cell_type": "markdown",
   "id": "4b333dc2",
   "metadata": {},
   "source": [
    "###### q.99 Write a program to solve a classic ancient Chinese puzzle: \n",
    "We count 35 heads and 94 legs among the chickens and rabbits in a farm. How many rabbits and how many chickens do we have? \n",
    "Hint: Use for loop to iterate all possible solutions \n"
   ]
  },
  {
   "cell_type": "code",
   "execution_count": 211,
   "id": "90675461",
   "metadata": {},
   "outputs": [
    {
     "name": "stdout",
     "output_type": "stream",
     "text": [
      "enter the leg count  94\n",
      "enter the head count  35\n",
      "no of rabbit is 12 and no of chicken is 23\n"
     ]
    }
   ],
   "source": [
    "'''  hint\n",
    "35=r+c\n",
    "c=35-r\n",
    "94=4r+2c\n",
    "94=4r+2(35-r)\n",
    "94=4r+70-2r\n",
    "94-70=2r\n",
    "(94-70)//2=r\n",
    "c=35-r'''\n",
    "leg_count=int(input(\"enter the leg count  \"))\n",
    "head_count=int(input(\"enter the head count  \"))\n",
    "no_rabbit=(leg_count-2*(head_count))//2         ## equation 1 by evaluation given condition as mentioned in hint comments\n",
    "no_chicken=head_count-no_rabbit\n",
    "print(f\"no of rabbit is {no_rabbit} and no of chicken is {no_chicken}\")\n",
    "    "
   ]
  },
  {
   "cell_type": "markdown",
   "id": "3bc8922b",
   "metadata": {},
   "source": [
    "###### q.100 Create a dictionary with phone numbers (phonebook = {“John”: 938477566, \"Jack”: 938377264, \"Jill”: 947662781}). Add \"Jake\" to the phonebook with the phone number 938273443, and remove Jill from the phonebook."
   ]
  },
  {
   "cell_type": "code",
   "execution_count": 86,
   "id": "15ef268b",
   "metadata": {},
   "outputs": [
    {
     "name": "stdout",
     "output_type": "stream",
     "text": [
      "{'john': 938477566, 'Jack': 938377264, 'Jill': 947662781}\n",
      "jake is added  {'john': 938477566, 'Jack': 938377264, 'Jill': 947662781, 'jake': 938273443}\n",
      "{'john': 938477566, 'Jack': 938377264, 'jake': 938273443}\n"
     ]
    }
   ],
   "source": [
    "d={}\n",
    "d[\"john\"]=938477566\n",
    "d[\"Jack\"]=938377264\n",
    "d[\"Jill\"]=947662781\n",
    "print(d)\n",
    "d[\"jake\"]=938273443\n",
    "print(\"jake is added \",d)\n",
    "del d[\"Jill\"]\n",
    "print(d)\n"
   ]
  },
  {
   "cell_type": "code",
   "execution_count": null,
   "id": "92cedcc0",
   "metadata": {},
   "outputs": [],
   "source": []
  }
 ],
 "metadata": {
  "kernelspec": {
   "display_name": "Python 3 (ipykernel)",
   "language": "python",
   "name": "python3"
  },
  "language_info": {
   "codemirror_mode": {
    "name": "ipython",
    "version": 3
   },
   "file_extension": ".py",
   "mimetype": "text/x-python",
   "name": "python",
   "nbconvert_exporter": "python",
   "pygments_lexer": "ipython3",
   "version": "3.9.7"
  }
 },
 "nbformat": 4,
 "nbformat_minor": 5
}
